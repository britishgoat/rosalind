{
 "cells": [
  {
   "cell_type": "markdown",
   "id": "e73112c6",
   "metadata": {},
   "source": [
    "# Helpers"
   ]
  },
  {
   "cell_type": "code",
   "execution_count": 1,
   "id": "dd686369",
   "metadata": {},
   "outputs": [],
   "source": [
    "from Bio import SeqIO\n",
    "import numpy as np\n",
    "import math\n",
    "import itertools\n",
    "\n",
    "import urllib.request #for web stuff\n",
    "from Bio import pairwise2\n",
    "from Bio.Seq import Seq\n",
    "from collections import OrderedDict\n",
    "\n",
    "from re import findall\n",
    "from time import sleep"
   ]
  },
  {
   "cell_type": "code",
   "execution_count": 2,
   "id": "aa5e484d",
   "metadata": {
    "ExecuteTime": {
     "end_time": "2021-10-15T02:50:40.075801Z",
     "start_time": "2021-10-15T02:50:40.059219Z"
    }
   },
   "outputs": [],
   "source": [
    "#This cell reads the file\n",
    "def read(code):\n",
    "    filein=open(\"/Users/mauri/Downloads/rosalind_\"+code+\".txt\",\"r\")\n",
    "    return filein\n",
    "def read_fasta(code):\n",
    "    input_file = \"/Users/mauri/Downloads/rosalind_\"+code+\".txt\"\n",
    "    fasta_sequences = SeqIO.parse(open(input_file),'fasta')\n",
    "    return fasta_sequences\n",
    "def read_vals(code):\n",
    "    file=read(code)\n",
    "    return file.read().replace('\\n','').split(' ')"
   ]
  },
  {
   "cell_type": "code",
   "execution_count": 3,
   "id": "d26bf5d5",
   "metadata": {},
   "outputs": [],
   "source": [
    "codons = {\"UUU\" : \"F\",\"CUU\" : \"L\",\"AUU\" : \"I\",\"GUU\" : \"V\",\"UUC\" : \"F\",\"CUC\" : \"L\",\n",
    "          \"AUC\" : \"I\",\"GUC\" : \"V\",\"UUA\" : \"L\",\"CUA\" : \"L\",\"AUA\" : \"I\",\"GUA\" : \"V\",\n",
    "          \"UUG\" : \"L\",\"CUG\" : \"L\",\"AUG\" : \"M\",\"GUG\" : \"V\",\"UCU\" : \"S\",\"CCU\" : \"P\",\n",
    "          \"ACU\" : \"T\",\"GCU\" : \"A\",\"UCC\" : \"S\",\"CCC\" : \"P\",\"ACC\" : \"T\",\"GCC\" : \"A\",\n",
    "          \"UCA\" : \"S\",\"CCA\" : \"P\",\"ACA\" : \"T\",\"GCA\" : \"A\",\"UCG\" : \"S\",\"CCG\" : \"P\",\n",
    "          \"ACG\" : \"T\",\"GCG\" : \"A\",\"UAU\" : \"Y\",\"CAU\" : \"H\",\"AAU\" : \"N\",\"GAU\" : \"D\",\n",
    "          \"UAC\" : \"Y\",\"CAC\" : \"H\",\"AAC\" : \"N\",\"GAC\" : \"D\",\"UAA\" : \"X\",\"CAA\" : \"Q\",\n",
    "          \"AAA\" : \"K\",\"GAA\" : \"E\",\"UAG\" : \"X\",\"CAG\" : \"Q\",\"AAG\" : \"K\",\"GAG\" : \"E\",\n",
    "          \"UGU\" : \"C\",\"CGU\" : \"R\",\"AGU\" : \"S\",\"GGU\" : \"G\",\"UGC\" : \"C\",\"CGC\" : \"R\",\n",
    "          \"AGC\" : \"S\",\"GGC\" : \"G\",\"UGA\" : \"X\",\"CGA\" : \"R\",\"AGA\" : \"R\",\"GGA\" : \"G\",\n",
    "          \"UGG\" : \"W\",\"CGG\" : \"R\",\"AGG\" : \"R\",\"GGG\" : \"G\"}\n",
    "\n",
    "monoisotable = {'A':   71.03711, 'C':   103.00919, 'D':   115.02694, 'E':   129.04259,\n",
    "                'F':   147.06841, 'G':   57.02146, 'H':   137.05891, 'I':   113.08406,\n",
    "                'K':   128.09496, 'L':   113.08406, 'M':   131.04049, 'N':   114.04293,\n",
    "                'P':    97.05276, 'Q':   128.05858, 'R':   156.10111, 'S':   87.03203, \n",
    "                'T':   101.04768, 'V':   99.06841, 'W':   186.07931, 'Y':   163.06333 }"
   ]
  },
  {
   "cell_type": "markdown",
   "id": "19620881",
   "metadata": {},
   "source": [
    "# WIP"
   ]
  },
  {
   "cell_type": "code",
   "execution_count": 13,
   "id": "b5b507ec",
   "metadata": {},
   "outputs": [
    {
     "data": {
      "text/plain": [
       "[(15, [0, 1, 2, 3, 5, 6, 7, 8, 10, 11, 12, 13, 15, 18, 19]),\n",
       " (14, [0, 1, 2, 3, 5, 6, 7, 8, 10, 11, 12, 13, 15, 18]),\n",
       " (13, [0, 1, 2, 3, 5, 6, 7, 8, 10, 11, 12, 13, 15]),\n",
       " (12, [0, 1, 2, 3, 5, 6, 7, 8, 10, 11, 12, 13]),\n",
       " (11, [0, 1, 2, 3, 5, 6, 7, 8, 10, 11, 12]),\n",
       " (10, [0, 1, 2, 3, 5, 6, 7, 8, 10, 11]),\n",
       " (9, [0, 1, 2, 3, 5, 6, 7, 8, 10]),\n",
       " (8, [0, 1, 2, 3, 5, 6, 7, 8]),\n",
       " (7, [0, 1, 2, 3, 4, 5, 6]),\n",
       " (6, [0, 1, 2, 3, 4, 5]),\n",
       " (5, [0, 1, 2, 3, 4]),\n",
       " (4, [0, 1, 2, 3]),\n",
       " (3, [0, 1, 2]),\n",
       " (2, [0, 1]),\n",
       " (1, [0])]"
      ]
     },
     "execution_count": 13,
     "metadata": {},
     "output_type": "execute_result"
    }
   ],
   "source": [
    "list(OD.items())[::-1]"
   ]
  },
  {
   "cell_type": "code",
   "execution_count": 72,
   "id": "32b18948",
   "metadata": {},
   "outputs": [
    {
     "data": {
      "text/plain": [
       "[8, 10]"
      ]
     },
     "execution_count": 72,
     "metadata": {},
     "output_type": "execute_result"
    }
   ],
   "source": [
    "p=[3, 1, 5, 2, 7, 4, 9, 6, 10, 8]\n",
    "p[:7:-1]"
   ]
  },
  {
   "cell_type": "code",
   "execution_count": 94,
   "id": "d2ea5834",
   "metadata": {},
   "outputs": [
    {
     "name": "stdout",
     "output_type": "stream",
     "text": [
      "1 0\n",
      "10\n",
      "[] [1, 3] [5, 2, 7, 4, 9, 6, 10, 8]\n",
      "\n",
      "2 0\n",
      "10\n",
      "[] [5, 1, 3] [2, 7, 4, 9, 6, 10, 8]\n",
      "\n",
      "2 1\n",
      "10\n",
      "[3] [5, 1] [2, 7, 4, 9, 6, 10, 8]\n",
      "\n",
      "3 0\n",
      "10\n",
      "[] [2, 5, 1, 3] [7, 4, 9, 6, 10, 8]\n",
      "\n",
      "3 1\n",
      "10\n",
      "[3] [2, 5, 1] [7, 4, 9, 6, 10, 8]\n",
      "\n",
      "3 2\n",
      "10\n",
      "[3, 1] [2, 5] [7, 4, 9, 6, 10, 8]\n",
      "\n",
      "4 0\n",
      "10\n",
      "[] [7, 2, 5, 1, 3] [4, 9, 6, 10, 8]\n",
      "\n",
      "4 1\n",
      "10\n",
      "[3] [7, 2, 5, 1] [4, 9, 6, 10, 8]\n",
      "\n",
      "4 2\n",
      "10\n",
      "[3, 1] [7, 2, 5] [4, 9, 6, 10, 8]\n",
      "\n",
      "4 3\n",
      "10\n",
      "[3, 1, 5] [7, 2] [4, 9, 6, 10, 8]\n",
      "\n",
      "5 0\n",
      "10\n",
      "[] [4, 7, 2, 5, 1, 3] [9, 6, 10, 8]\n",
      "\n",
      "5 1\n",
      "10\n",
      "[3] [4, 7, 2, 5, 1] [9, 6, 10, 8]\n",
      "\n",
      "5 2\n",
      "10\n",
      "[3, 1] [4, 7, 2, 5] [9, 6, 10, 8]\n",
      "\n",
      "5 3\n",
      "10\n",
      "[3, 1, 5] [4, 7, 2] [9, 6, 10, 8]\n",
      "\n",
      "5 4\n",
      "10\n",
      "[3, 1, 5, 2] [4, 7] [9, 6, 10, 8]\n",
      "\n",
      "6 0\n",
      "10\n",
      "[] [9, 4, 7, 2, 5, 1, 3] [6, 10, 8]\n",
      "\n",
      "6 1\n",
      "10\n",
      "[3] [9, 4, 7, 2, 5, 1] [6, 10, 8]\n",
      "\n",
      "6 2\n",
      "10\n",
      "[3, 1] [9, 4, 7, 2, 5] [6, 10, 8]\n",
      "\n",
      "6 3\n",
      "10\n",
      "[3, 1, 5] [9, 4, 7, 2] [6, 10, 8]\n",
      "\n",
      "6 4\n",
      "10\n",
      "[3, 1, 5, 2] [9, 4, 7] [6, 10, 8]\n",
      "\n",
      "6 5\n",
      "10\n",
      "[3, 1, 5, 2, 7] [9, 4] [6, 10, 8]\n",
      "\n",
      "7 0\n",
      "10\n",
      "[] [6, 9, 4, 7, 2, 5, 1, 3] [10, 8]\n",
      "\n",
      "7 1\n",
      "10\n",
      "[3] [6, 9, 4, 7, 2, 5, 1] [10, 8]\n",
      "\n",
      "7 2\n",
      "10\n",
      "[3, 1] [6, 9, 4, 7, 2, 5] [10, 8]\n",
      "\n",
      "7 3\n",
      "10\n",
      "[3, 1, 5] [6, 9, 4, 7, 2] [10, 8]\n",
      "\n",
      "7 4\n",
      "10\n",
      "[3, 1, 5, 2] [6, 9, 4, 7] [10, 8]\n",
      "\n",
      "7 5\n",
      "10\n",
      "[3, 1, 5, 2, 7] [6, 9, 4] [10, 8]\n",
      "\n",
      "7 6\n",
      "10\n",
      "[3, 1, 5, 2, 7, 4] [6, 9] [10, 8]\n",
      "\n",
      "8 0\n",
      "10\n",
      "[] [10, 6, 9, 4, 7, 2, 5, 1, 3] [8]\n",
      "\n",
      "8 1\n",
      "10\n",
      "[3] [10, 6, 9, 4, 7, 2, 5, 1] [8]\n",
      "\n",
      "8 2\n",
      "10\n",
      "[3, 1] [10, 6, 9, 4, 7, 2, 5] [8]\n",
      "\n",
      "8 3\n",
      "10\n",
      "[3, 1, 5] [10, 6, 9, 4, 7, 2] [8]\n",
      "\n",
      "8 4\n",
      "10\n",
      "[3, 1, 5, 2] [10, 6, 9, 4, 7] [8]\n",
      "\n",
      "8 5\n",
      "10\n",
      "[3, 1, 5, 2, 7] [10, 6, 9, 4] [8]\n",
      "\n",
      "8 6\n",
      "10\n",
      "[3, 1, 5, 2, 7, 4] [10, 6, 9] [8]\n",
      "\n",
      "8 7\n",
      "10\n",
      "[3, 1, 5, 2, 7, 4, 9] [10, 6] [8]\n",
      "\n",
      "9 0\n",
      "10\n",
      "[] [8, 10, 6, 9, 4, 7, 2, 5, 1, 3] []\n",
      "\n",
      "9 1\n",
      "10\n",
      "[3] [8, 10, 6, 9, 4, 7, 2, 5, 1] []\n",
      "\n",
      "9 2\n",
      "10\n",
      "[3, 1] [8, 10, 6, 9, 4, 7, 2, 5] []\n",
      "\n",
      "9 3\n",
      "10\n",
      "[3, 1, 5] [8, 10, 6, 9, 4, 7, 2] []\n",
      "\n",
      "9 4\n",
      "10\n",
      "[3, 1, 5, 2] [8, 10, 6, 9, 4, 7] []\n",
      "\n",
      "9 5\n",
      "10\n",
      "[3, 1, 5, 2, 7] [8, 10, 6, 9, 4] []\n",
      "\n",
      "9 6\n",
      "10\n",
      "[3, 1, 5, 2, 7, 4] [8, 10, 6, 9] []\n",
      "\n",
      "9 7\n",
      "10\n",
      "[3, 1, 5, 2, 7, 4, 9] [8, 10, 6] []\n",
      "\n",
      "9 8\n",
      "10\n",
      "[3, 1, 5, 2, 7, 4, 9, 6] [8, 10] []\n",
      "\n"
     ]
    }
   ],
   "source": [
    "p=[3, 1, 5, 2, 7, 4, 9, 6, 10, 8]\n",
    "count=0\n",
    "for i in range(1,10):\n",
    "        for j in range(i):\n",
    "            print(i,j)\n",
    "            if j==0:\n",
    "                if i==9:\n",
    "                    print(len(p[:j]+p[::-1]+p[i+1:]))\n",
    "                    print(p[:j],p[::-1],p[i+1:])\n",
    "                else:\n",
    "                    print(len(p[:j]+p[i::-1]+p[i+1:]))\n",
    "                    print(p[:j],p[i::-1],p[i+1:])\n",
    "            elif i==9:\n",
    "                print(len(p[:j]+p[:j-1:-1]+p[i+1:]))\n",
    "                print(p[:j],p[:j-1:-1],p[i+1:])\n",
    "            else:\n",
    "                print(len(p[:j]+p[i:j-1:-1]+p[i+1:]))\n",
    "                print(p[:j],p[i:j-1:-1],p[i+1:])\n",
    "            print()"
   ]
  },
  {
   "cell_type": "code",
   "execution_count": 118,
   "id": "ddbcbaab",
   "metadata": {},
   "outputs": [
    {
     "name": "stdout",
     "output_type": "stream",
     "text": [
      "7 9 5 7 5 \n",
      "--- 0.005000114440917969 seconds ---\n"
     ]
    }
   ],
   "source": [
    "import time\n",
    "start_time = time.time()\n",
    "\n",
    "code='rear (2)'\n",
    "file = read(code)\n",
    "ins=file.read().splitlines()\n",
    "\n",
    "def blocks(perm):\n",
    "    #print(perm)\n",
    "    per=[0]+perm+[11]\n",
    "    res=0\n",
    "    for i in range(len(per)-1):\n",
    "        if abs(per[i]-per[i+1])!=1:\n",
    "            res+=1\n",
    "    return (res)\n",
    "\n",
    "for k in range(0,len(ins),3):\n",
    "    a=ins[k].split(' ')\n",
    "    b=ins[k+1].split(' ')\n",
    "    a=[int(x) for x in a]\n",
    "    b=[int(x) for x in b]\n",
    "    p=[]\n",
    "    \n",
    "    for i in b:\n",
    "        for j in range(len(a)):\n",
    "            if i==a[j]:\n",
    "                p.append(j+1)\n",
    "    count=0\n",
    "    while blocks(p)>1:\n",
    "        best_combo=(0,1)\n",
    "        current=blocks(p)\n",
    "        for i in range(1,10):\n",
    "            for j in range(i):\n",
    "                if blocks(p[:j]+p[j:i+1][::-1]+p[i+1:])<current:\n",
    "                    best_combo=(i,j)\n",
    "                    current=blocks(p[:j]+p[j:i+1][::-1]+p[i+1:])\n",
    "        count+=1\n",
    "        p=(p[:best_combo[1]]+p[best_combo[1]:best_combo[0]+1][::-1]+p[best_combo[0]+1:])\n",
    "    print(count, end=' ')"
   ]
  },
  {
   "cell_type": "code",
   "execution_count": 115,
   "id": "9069de35",
   "metadata": {},
   "outputs": [
    {
     "name": "stdout",
     "output_type": "stream",
     "text": [
      "[4, 5, 1, 2, 3, 6, 7, 8, 9, 10]\n",
      "3\n",
      "[4, 5, 1, 2, 3, 6, 7, 8, 9, 10]\n",
      "[4, 3, 2, 1, 5, 6, 7, 8, 9, 10]\n",
      "[1, 2, 3, 4, 5, 6, 7, 8, 9, 10]\n",
      "2\n"
     ]
    }
   ],
   "source": [
    "\n",
    "\n",
    "a='1 2 3 4 5 6 7 8 9 10'.split(' ')\n",
    "b='4 5 1 2 3 6 7 8 9 10'.split(' ')\n",
    "a=[int(x) for x in a]\n",
    "b=[int(x) for x in b]\n",
    "\n",
    "p=[]\n",
    "for i in b:\n",
    "    for j in range(len(a)):\n",
    "        if i==a[j]:\n",
    "            p.append(j+1)\n",
    "print(p)\n",
    "\n",
    "def blocks(perm):\n",
    "    #print(perm)\n",
    "    per=[0]+perm+[11]\n",
    "    res=0\n",
    "    for i in range(len(per)-1):\n",
    "        if abs(per[i]-per[i+1])!=1:\n",
    "            res+=1\n",
    "    return (res)\n",
    "print(blocks(p))\n",
    "\n",
    "count=0\n",
    "print(p)\n",
    "while blocks(p)>1:\n",
    "    best_combo=(0,1)\n",
    "    current=blocks(p)\n",
    "    for i in range(1,10):\n",
    "        for j in range(i):\n",
    "            if blocks(p[:j]+p[j:i+1][::-1]+p[i+1:])<current:\n",
    "                best_combo=(i,j)\n",
    "                current=blocks(p[:j]+p[j:i+1][::-1]+p[i+1:])\n",
    "                #print(best_combo)\n",
    "                #print(current)\n",
    "    count+=1\n",
    "    #print(current)\n",
    "    p=(p[:best_combo[1]]+p[best_combo[1]:best_combo[0]+1][::-1]+p[best_combo[0]+1:])\n",
    "    print(p)\n",
    "print(count)"
   ]
  },
  {
   "cell_type": "code",
   "execution_count": 42,
   "id": "c3cbee6a",
   "metadata": {},
   "outputs": [
    {
     "data": {
      "text/plain": [
       "[0]"
      ]
     },
     "execution_count": 42,
     "metadata": {},
     "output_type": "execute_result"
    }
   ],
   "source": [
    "list(range(1))"
   ]
  },
  {
   "cell_type": "code",
   "execution_count": 29,
   "id": "191fd3c3",
   "metadata": {
    "scrolled": false
   },
   "outputs": [
    {
     "name": "stdout",
     "output_type": "stream",
     "text": [
      "TCAAATCGATTCCGCACGGCCTGCTGAAGCTGACAAGCTGTCCGAACGGCCCGTCCGTGGGCACATGGATAAGGGTGAGCTCCGGTAAGTACAACTGTCTGATGGCACCCCCTGATTATGACAGCGATACTGGGCATCCATAGACACCTGTTACCGAAATTCACTGAAGAAGTGGTCTACACTTTTGGGGGCGCTTAGACGTTTTTACTTCGAGATGTCCTCGAACGGATCACAGGAACAGGTCCGAGCCATGAACCCACCGATCTTAGGTAATACCCTACTTGTCAGCAAGGTCCTAGGGTGTGCGCTTTAGCTTACACTTTTGAGCCCGTGACGAGGGTTTTTTTGCATATTAAAATCGGGTTAAAAAAATTCGTGGCCAGTACAGCCCTAACCGAAATTCTGTGACGGGACCAAAAGAGCAAAGCCGATTCCACTAATTGTGACCCAGAACTTCAGGCGAGATGACTTCGAGCATTATTCCGCCTCGGCGGCTAAGAGTTTAAGTTACCAGGTACTGCGTTACTTGAAGTTTTTTGTCCCTCCGAGCGCGATACAATTGGAAGCCTCGAAGGACATTCCTAGAAGGTGCTTGCTAGATGACTTCC"
     ]
    }
   ],
   "source": [
    "code='lcsq (1)'\n",
    "\n",
    "file = read_fasta(code)\n",
    "\n",
    "s=''\n",
    "t=''\n",
    "\n",
    "for f in file:\n",
    "    if s=='':\n",
    "        s=str(f.seq)\n",
    "    else:\n",
    "        t=str(f.seq)\n",
    "\n",
    "\n",
    "#best size 1 to longest saving the indices\n",
    "for j in range(len(s)):\n",
    "    if s[j]==t[0]:\n",
    "        first=j\n",
    "        break\n",
    "OD=OrderedDict()\n",
    "OD[1]=[first]\n",
    "longest=1\n",
    "\n",
    "#print(t[0])\n",
    "#print(OD)\n",
    "for i in range(1,len(t)):\n",
    "    for j in range(len(s)-1,-1,-1):\n",
    "        if s[j]==t[i]:\n",
    "            #print(j)\n",
    "            for key, val in OD.items():\n",
    "                if j>val[-1]:\n",
    "                    if key==longest:\n",
    "                        OD[key+1]=OD[key]+[j]\n",
    "                    elif OD[key+1][-1]>j:\n",
    "                            OD[key+1]=OD[key]+[j]\n",
    "                if j<val[-1]:\n",
    "                    if key==1:\n",
    "                        OD[key]=[j]\n",
    "                    elif val[-2]<j:\n",
    "                        OD[key]=OD[key][:-1]+[j]\n",
    "            #if len(OD)>longest:\n",
    "            #    longest+=1\n",
    "            #    break\n",
    "    longest=len(OD)\n",
    "    '''\n",
    "    print(t[:i+1])\n",
    "    print(OD)\n",
    "    sleep(0.5)\n",
    "    '''\n",
    "        \n",
    "for i in OD[len(OD)]:\n",
    "    print(s[i],end='')"
   ]
  },
  {
   "cell_type": "code",
   "execution_count": 192,
   "id": "2b8029cf",
   "metadata": {},
   "outputs": [
    {
     "name": "stdout",
     "output_type": "stream",
     "text": [
      "GAACGT"
     ]
    }
   ],
   "source": [
    "for i in OD[6]:\n",
    "    print(s[i],end='')"
   ]
  },
  {
   "cell_type": "code",
   "execution_count": 31,
   "id": "d2d04e35",
   "metadata": {},
   "outputs": [
    {
     "data": {
      "text/plain": [
       "True"
      ]
     },
     "execution_count": 31,
     "metadata": {},
     "output_type": "execute_result"
    }
   ],
   "source": [
    "def is_subseq(x, y):\n",
    "    it = iter(y)\n",
    "    return all(c in it for c in x)\n",
    "x='TCAAATCGATTCCGCACGGCCTGCTGAAGCTGACAAGCTGTCCGAACGGCCCGTCCGTGGGCACATGGATAAGGGTGAGCTCCGGTAAGTACAACTGTCTGATGGCACCCCCTGATTATGACAGCGATACTGGGCATCCATAGACACCTGTTACCGAAATTCACTGAAGAAGTGGTCTACACTTTTGGGGGCGCTTAGACGTTTTTACTTCGAGATGTCCTCGAACGGATCACAGGAACAGGTCCGAGCCATGAACCCACCGATCTTAGGTAATACCCTACTTGTCAGCAAGGTCCTAGGGTGTGCGCTTTAGCTTACACTTTTGAGCCCGTGACGAGGGTTTTTTTGCATATTAAAATCGGGTTAAAAAAATTCGTGGCCAGTACAGCCCTAACCGAAATTCTGTGACGGGACCAAAAGAGCAAAGCCGATTCCACTAATTGTGACCCAGAACTTCAGGCGAGATGACTTCGAGCATTATTCCGCCTCGGCGGCTAAGAGTTTAAGTTACCAGGTACTGCGTTACTTGAAGTTTTTTGTCCCTCCGAGCGCGATACAATTGGAAGCCTCGAAGGACATTCCTAGAAGGTGCTTGCTAGATGACTTCC'\n",
    "is_subseq(x,t)"
   ]
  },
  {
   "cell_type": "markdown",
   "id": "f7f0def1",
   "metadata": {},
   "source": [
    "# Completed"
   ]
  },
  {
   "cell_type": "code",
   "execution_count": 99,
   "id": "2c77cd12",
   "metadata": {
    "scrolled": true
   },
   "outputs": [
    {
     "name": "stdout",
     "output_type": "stream",
     "text": [
      "156224\n"
     ]
    }
   ],
   "source": [
    "code='sset'\n",
    "\n",
    "file = read(code)\n",
    "n=int(file.readline()[:-1])\n",
    "\n",
    "print(2**n%1000000)\n"
   ]
  },
  {
   "cell_type": "code",
   "execution_count": 156,
   "id": "d5139584",
   "metadata": {
    "scrolled": true
   },
   "outputs": [
    {
     "name": "stdout",
     "output_type": "stream",
     "text": [
      "GUAGAUUGCCGAAUGCACGUCGAAUUUAAUCUUAAGCGCUAGGCCGAAUUUACUCCCAGCUGCACGUCGGCCGCGCGGGUAGCUCGAUACAUAUGCGGUCAUGAGCGCCUGCAGAUUAAUCGGGCUAUACUAACUCGACCGCUAGUAUCGAGCAUGCGGUACUAUGCAUCGAGAUCUAGUACGACGUAUCGCGUCGGCAGCGCAUCUCGCGGCCAUGGCUACUAAUGGCAUAAUCGUCUAGACGUAAUGUUUCGUAAAAUACUAUAGCUUAAGCGUUAAGCCGGCGCUAUACCGACUAGU\n",
      "859648\n"
     ]
    }
   ],
   "source": [
    "code='cat'\n",
    "\n",
    "file = read_fasta(code)\n",
    "for f in file:\n",
    "    seq=str(f.seq)\n",
    "\n",
    "print(seq)\n",
    "\n",
    "#Super important, just holding things in memory makes it so much more efficient.\n",
    "#This could be faster saving base cases in memory from start but to debug was useful having them somewhere else\n",
    "memory={}\n",
    "\n",
    "\n",
    "def cat(seq):\n",
    "    result=0\n",
    "    if seq in memory:\n",
    "        return memory[seq]\n",
    "    if len(seq)==0:\n",
    "        return 1\n",
    "    if len(seq)==2:\n",
    "        if seq in ['AU','UA', 'GC','CG']:\n",
    "            return 1\n",
    "        else:\n",
    "            print('something went wrong')\n",
    "    for i in range(1,len(seq)):\n",
    "        rest1=seq[0+1:i]\n",
    "        rest2=seq[i+1:]\n",
    "        if rest1.count('A')==rest1.count('U') and rest1.count('G')==rest1.count('C') and rest2.count('A')==rest2.count('U') and rest2.count('G')==rest2.count('C'):#there is a bug somewhere and appears removing return 0\n",
    "            result+=cat(rest1)*cat(rest2)\n",
    "    memory[seq]=result\n",
    "    return result%1000000\n",
    "\n",
    "print(cat(seq))"
   ]
  },
  {
   "cell_type": "code",
   "execution_count": 103,
   "id": "b47171a8",
   "metadata": {
    "scrolled": true
   },
   "outputs": [
    {
     "name": "stdout",
     "output_type": "stream",
     "text": [
      "319232\n"
     ]
    }
   ],
   "source": [
    "code='aspc'\n",
    "\n",
    "file = read(code)\n",
    "l=file.readline()[:-1].split(' ')\n",
    "n=int(l[0])\n",
    "m=int(l[1])\n",
    "\n",
    "\n",
    "res=0\n",
    "for i in range(m,n+1):\n",
    "    res+=math.comb(n,i)\n",
    "    res=res%1000000\n",
    "print(res)"
   ]
  },
  {
   "cell_type": "code",
   "execution_count": 98,
   "id": "a2c443b1",
   "metadata": {},
   "outputs": [
    {
     "name": "stdout",
     "output_type": "stream",
     "text": [
      "0.6992546089950604\n"
     ]
    }
   ],
   "source": [
    "code='rstr'\n",
    "\n",
    "file = read(code)\n",
    "\n",
    "line1=file.readline()[:-1].split(' ')\n",
    "N=int(line1[0])\n",
    "gc=float(line1[1])\n",
    "\n",
    "seq=file.readline().replace('\\n', '')\n",
    "As=seq.count('A')\n",
    "Ts=seq.count('T')\n",
    "Gs=seq.count('G')\n",
    "Cs=seq.count('C')\n",
    "\n",
    "print(1 - ( 1 - ((1-gc)/2)**(As+Ts)*(gc/2)**(Gs+Cs))**N)"
   ]
  },
  {
   "cell_type": "code",
   "execution_count": 106,
   "id": "51770f71",
   "metadata": {},
   "outputs": [
    {
     "data": {
      "text/plain": [
       "'\\nprint(str(A|B))\\nprint(str(A&B))\\nprint(str(A-B))\\nprint(str(B-A))\\nprint(str(C-A))\\nprint(str(C-B))\\n'"
      ]
     },
     "execution_count": 106,
     "metadata": {},
     "output_type": "execute_result"
    }
   ],
   "source": [
    "code='seto'\n",
    "\n",
    "f = read(code)\n",
    "lines=f.readlines()\n",
    "\n",
    "n=int(lines[0])\n",
    "A=set()\n",
    "B=set()\n",
    "\n",
    "A=eval(lines[1])\n",
    "B=eval(lines[2])\n",
    "\n",
    "#I dumb\n",
    "#exec('A='+lines[1])\n",
    "#exec('B='+lines[2])\n",
    "\n",
    "C=set()\n",
    "for i in range(n):\n",
    "    C.add(i+1)\n",
    "'''\n",
    "print(str(A|B))\n",
    "print(str(A&B))\n",
    "print(str(A-B))\n",
    "print(str(B-A))\n",
    "print(str(C-A))\n",
    "print(str(C-B))\n",
    "'''\n"
   ]
  },
  {
   "cell_type": "code",
   "execution_count": 87,
   "id": "c54cc33a",
   "metadata": {},
   "outputs": [
    {
     "name": "stdout",
     "output_type": "stream",
     "text": [
      "0.0 0.32629 0.59859 0.28169 0.29577 0.48592 0.55516 0.60446 \n",
      "0.32629 0.0 0.6385 0.45892 0.46596 0.57042 0.61737 0.66667 \n",
      "0.59859 0.6385 0.0 0.61737 0.48122 0.32277 0.46714 0.55634 \n",
      "0.28169 0.45892 0.61737 0.0 0.43545 0.54812 0.59155 0.61854 \n",
      "0.29577 0.46596 0.48122 0.43545 0.0 0.32042 0.48005 0.57277 \n",
      "0.48592 0.57042 0.32277 0.54812 0.32042 0.0 0.30869 0.46714 \n",
      "0.55516 0.61737 0.46714 0.59155 0.48005 0.30869 0.0 0.28873 \n",
      "0.60446 0.66667 0.55634 0.61854 0.57277 0.46714 0.28873 0.0 \n"
     ]
    }
   ],
   "source": [
    "code = \"pdst (1)\"\n",
    "\n",
    "def hamm(s,t):\n",
    "    hamm=0\n",
    "    if len(s)!=len(t):\n",
    "        print(s)\n",
    "        print(t)\n",
    "    for pos in range(len(s)):\n",
    "        if s[pos]!=t[pos]:\n",
    "            hamm+=1\n",
    "    return hamm\n",
    "\n",
    "\n",
    "file=read_fasta(code)\n",
    "seqs=[]\n",
    "for f in file:\n",
    "    seqs.append(str(f.seq))\n",
    "n=len(seqs)\n",
    "res=np.zeros((n,n))\n",
    "\n",
    "for i in range(n):\n",
    "    for j in range(n):\n",
    "        res[i][j]+=round((hamm(seqs[i],seqs[j]))/len(seqs[0]),5)\n",
    "\n",
    "for row in res:\n",
    "    for c in row:\n",
    "        print(c,end=' ')\n",
    "    print()"
   ]
  },
  {
   "cell_type": "code",
   "execution_count": 171,
   "id": "321a4d17",
   "metadata": {},
   "outputs": [
    {
     "name": "stdout",
     "output_type": "stream",
     "text": [
      "[0, 0, 0, 1, 2, 0, 0, 0, 0, 0, 0, 1, 2, 1, 2, 3, 4, 5, 3, 0, 0]\n"
     ]
    }
   ],
   "source": [
    "code = \"kmp\"\n",
    "\n",
    "file=read_fasta(code)\n",
    "for fasta in file:\n",
    "    seq=str(fasta.seq)\n",
    "\n",
    "\n",
    "res=len(seq)*[0]\n",
    "\n",
    "bb=True\n",
    "for i in range(1,len(seq)):\n",
    "    if not bb:\n",
    "        break\n",
    "    bb=False\n",
    "    for j in range(1,len(seq)-i+1):\n",
    "        if seq[:i]==seq[j:j+i]:\n",
    "            res[j+i-1]=i\n",
    "            bb=True\n",
    "print(res)"
   ]
  },
  {
   "cell_type": "code",
   "execution_count": 47,
   "id": "f4865dc1",
   "metadata": {},
   "outputs": [
    {
     "name": "stdout",
     "output_type": "stream",
     "text": [
      "32 22\n",
      "15 22\n",
      "16171293902210585725768872010013107814400000000\n"
     ]
    }
   ],
   "source": [
    "code = \"mmch (3)\"\n",
    "\n",
    "file=read_fasta(code)\n",
    "\n",
    "for f in file:\n",
    "    seq=str(f.seq)\n",
    "As=seq.count('A')\n",
    "Us=seq.count('U')\n",
    "Gs=seq.count('G')\n",
    "Cs=seq.count('C')\n",
    "print(As,Us)\n",
    "print(Gs,Cs)\n",
    "AU=math.factorial(max(As,Us))//(math.factorial(max(As,Us)-min(As,Us)))\n",
    "GC=math.factorial(max(Gs,Cs))//(math.factorial(max(Cs,Gs)-min(Cs,Gs)))\n",
    "\n",
    "print(AU*GC)"
   ]
  },
  {
   "cell_type": "code",
   "execution_count": 22,
   "id": "ec2529ac",
   "metadata": {
    "scrolled": true
   },
   "outputs": [
    {
     "name": "stdout",
     "output_type": "stream",
     "text": [
      "\n",
      "D\n",
      "DD\n",
      "DDD\n",
      "DDN\n",
      "DDA\n",
      "DN\n",
      "DND\n",
      "DNN\n",
      "DNA\n",
      "DA\n",
      "DAD\n",
      "DAN\n",
      "DAA\n",
      "N\n",
      "ND\n",
      "NDD\n",
      "NDN\n",
      "NDA\n",
      "NN\n",
      "NND\n",
      "NNN\n",
      "NNA\n",
      "NA\n",
      "NAD\n",
      "NAN\n",
      "NAA\n",
      "A\n",
      "AD\n",
      "ADD\n",
      "ADN\n",
      "ADA\n",
      "AN\n",
      "AND\n",
      "ANN\n",
      "ANA\n",
      "AA\n",
      "AAD\n",
      "AAN\n",
      "AAA\n"
     ]
    }
   ],
   "source": [
    "code = \"lexv\"\n",
    "\n",
    "file=read(code)\n",
    "letters=file.readline()[:-1].replace(' ','')\n",
    "n=int(file.readline()[:-1])\n",
    "\n",
    "for x in itertools.product('-'+letters, repeat=n):\n",
    "    skip=False\n",
    "    for i in range(n-1):\n",
    "        if x[i]=='-' and x[i+1]!='-':\n",
    "            skip=True\n",
    "    if skip:\n",
    "        continue\n",
    "    for c in x:\n",
    "        if c!='-':\n",
    "            print(c,end='')\n",
    "    print()"
   ]
  },
  {
   "cell_type": "code",
   "execution_count": null,
   "id": "65025977",
   "metadata": {},
   "outputs": [],
   "source": [
    "code = \"inod\"\n",
    "\n",
    "#skipped and done by hand although git lucky with a low value. should always be doable by taking if you know log2"
   ]
  },
  {
   "cell_type": "code",
   "execution_count": 167,
   "id": "b19d310b",
   "metadata": {},
   "outputs": [
    {
     "name": "stdout",
     "output_type": "stream",
     "text": [
      "307 302 348 357 345 289 314 339 355 359 344 324 356 344 348 343 339 326 340 340 345 356 328 310 375 351 305 354 351 368 358 340 347 345 338 365 380 385 336 351 350 382 331 342 309 346 331 322 344 360 365 316 317 324 338 341 322 346 351 334 334 357 343 393 339 300 364 327 317 351 365 368 347 355 340 332 337 360 354 350 324 367 360 339 347 356 355 351 376 322 336 344 335 367 314 351 357 378 370 320 344 343 319 330 325 317 358 337 344 321 303 375 331 350 364 327 356 358 376 368 354 328 338 319 366 332 364 314 316 343 349 362 347 366 355 348 329 379 351 322 361 331 334 363 326 363 333 378 337 359 362 361 348 323 329 296 333 361 344 328 332 359 336 343 322 336 337 354 336 329 378 380 362 342 337 357 333 324 356 321 360 335 314 352 327 325 323 318 331 348 347 340 352 342 321 345 336 333 351 362 364 359 370 330 331 285 317 371 341 345 341 344 361 338 333 344 326 340 368 349 353 362 323 357 334 334 337 361 354 355 304 331 359 321 356 339 319 352 322 312 352 348 338 340 338 359 355 334 363 345 363 334 347 349 351 312 "
     ]
    }
   ],
   "source": [
    "code = \"kmer (1)\"\n",
    "\n",
    "file=read_fasta(code)\n",
    "\n",
    "for fasta in file:\n",
    "    seq=str(fasta.seq)\n",
    "\n",
    "arr=256*[0]\n",
    "pos=-1\n",
    "for i in itertools.product('ACGT',repeat=4):\n",
    "    pos+=1\n",
    "    arr[pos]=len(findall(i[0]+'(?='+''.join(i[1:])+')',seq))\n",
    "    #seq.count(''.join(i))\n",
    "for v in arr:\n",
    "    print(v,end=' ')"
   ]
  },
  {
   "cell_type": "code",
   "execution_count": 72,
   "id": "d90acee3",
   "metadata": {},
   "outputs": [
    {
     "name": "stdout",
     "output_type": "stream",
     "text": [
      "70 152\n",
      "2.17142857143\n"
     ]
    }
   ],
   "source": [
    "code = \"tran\"\n",
    "\n",
    "file=read_fasta(code)\n",
    "\n",
    "s=''\n",
    "transition=0\n",
    "transversion=0\n",
    "for fasta in file:\n",
    "    if s=='':\n",
    "        s=str(fasta.seq)\n",
    "    else:\n",
    "        t=str(fasta.seq)\n",
    "for i in range(len(s)):\n",
    "    if s[i]==t[i]:\n",
    "        continue\n",
    "    elif s[i] in 'AG' and t[i] in 'AG':\n",
    "        transition+=1\n",
    "    elif s[i] in 'CT' and t[i] in 'CT':\n",
    "        transition+=1\n",
    "    else:\n",
    "        transversion+=1\n",
    "print(transversion, transition)\n",
    "print(round(transition/transversion,11))"
   ]
  },
  {
   "cell_type": "code",
   "execution_count": 148,
   "id": "958f7277",
   "metadata": {
    "collapsed": true
   },
   "outputs": [
    {
     "name": "stdout",
     "output_type": "stream",
     "text": [
      "TCGGAACTTAGAATCTGCAACGTAACGGTCTGCCGTGAGTCCAGCTGTCG->TCGGAACTTAGAATCTGCAACGTAACGGTCTGCCGTGAGTCCAACTGTCG\n",
      "GCAACTCGGAACTTAGAATCTGCAACGTAACGGTCTGCCGTGAGTCCAAC->GCAAATCGGAACTTAGAATCTGCAACGTAACGGTCTGCCGTGAGTCCAAC\n",
      "CGGAACTTAGAATCTGCAACGTAACGGTCTGCCGTGAGTACAACTGTCGA->CGGAACTTAGAATCTGCAACGTAACGGTCTGCCGTGAGTCCAACTGTCGA\n",
      "CTCGATCCTAGAGTCTGAAACTTTTCTCTTATAAACTGGAGTAGGCAAAT->CTCGATCCTAGAGTCTGAAACCTTTCTCTTATAAACTGGAGTAGGCAAAT\n",
      "GAGCTCGATCCTAAAGTCTGAAACCTTTCTCTTATAAACTGGAGTAGGCA->GAGCTCGATCCTAGAGTCTGAAACCTTTCTCTTATAAACTGGAGTAGGCA\n",
      "TCTCTTATAAACTGGAGTAGGCCAATCGGAACTTAGAATCTGCAACGTAA->TCTCTTATAAACTGGAGTAGGCAAATCGGAACTTAGAATCTGCAACGTAA\n",
      "AGTCTGCAACCTTTCTCTTATAAACTGGAGTAGGCAAATCGGAACTTAGA->AGTCTGAAACCTTTCTCTTATAAACTGGAGTAGGCAAATCGGAACTTAGA\n",
      "GCAGTGCTAGAGCTCGATCCTAGAGTCTTAAACCTTTCTCTTATAAACTG->GCAGTGCTAGAGCTCGATCCTAGAGTCTGAAACCTTTCTCTTATAAACTG\n",
      "CGTAACGGTGTGCCGTGAGTCCAACTGTCGACCCGCTAGTTCCGCGGCGT->CGTAACGGTCTGCCGTGAGTCCAACTGTCGACCCGCTAGTTCCGCGGCGT\n",
      "GCAGTGCTAGAGCTAGATCCTAGAGTCTGAAACCTTTCTCTTATAAACTG->GCAGTGCTAGAGCTCGATCCTAGAGTCTGAAACCTTTCTCTTATAAACTG\n",
      "GTTATAAACTGGAGTAGGCAAATCGGAACTTAGAATCTGCAACGTAACGG->CTTATAAACTGGAGTAGGCAAATCGGAACTTAGAATCTGCAACGTAACGG\n",
      "CGTAACGGTCTGCCGTGAGTCCAACTGTCGATCCGCTAGTTCCGCGGCGT->CGTAACGGTCTGCCGTGAGTCCAACTGTCGACCCGCTAGTTCCGCGGCGT\n",
      "GCTCGATCCTATAGTCTGAAACCTTTCTCTTATAAACTGGAGTAGGCAAA->GCTCGATCCTAGAGTCTGAAACCTTTCTCTTATAAACTGGAGTAGGCAAA\n",
      "TAGAGCTCGATCCTAGAGTCTGAAACATTTCTCTTATAAACTGGAGTAGG->TAGAGCTCGATCCTAGAGTCTGAAACCTTTCTCTTATAAACTGGAGTAGG\n",
      "CAACGTAACGGTCTGCCGTGAGTCCAACTGCCGACCCGCTAGTTCCGCGG->CAACGTAACGGTCTGCCGTGAGTCCAACTGTCGACCCGCTAGTTCCGCGG\n",
      "ACGTAACGGTATGCCGTGAGTCCAACTGTCGACCCGCTAGTTCCGCGGCG->ACGTAACGGTCTGCCGTGAGTCCAACTGTCGACCCGCTAGTTCCGCGGCG\n",
      "AACTTAGAATCTGCAACGTAACGGTCTGCAGTGAGTCCAACTGTCGACCC->AACTTAGAATCTGCAACGTAACGGTCTGCCGTGAGTCCAACTGTCGACCC\n",
      "ATAAACTGGAGTAGGCAAATCGGAACTTAGAATCTGTAACGTAACGGTCT->ATAAACTGGAGTAGGCAAATCGGAACTTAGAATCTGCAACGTAACGGTCT\n",
      "TATAAACTGGAGTAGGCAAATCGGAACTTAGAGTCTGCAACGTAACGGTC->TATAAACTGGAGTAGGCAAATCGGAACTTAGAATCTGCAACGTAACGGTC\n",
      "GCAGTGCTAGAGCTCGATCCTAGAGTCTGATACCTTTCTCTTATAAACTG->GCAGTGCTAGAGCTCGATCCTAGAGTCTGAAACCTTTCTCTTATAAACTG\n",
      "GGCGTAGGCAAATCGGAACTTAGAATCTGCAACGTAACGGTCTGCCGTGA->GGAGTAGGCAAATCGGAACTTAGAATCTGCAACGTAACGGTCTGCCGTGA\n",
      "AGCTCGATCCTAGAGTCTGAAACCTTTCTCCTATAAACTGGAGTAGGCAA->AGCTCGATCCTAGAGTCTGAAACCTTTCTCTTATAAACTGGAGTAGGCAA\n",
      "CCTTTCTCTTATAAACTGGAGTAGGCAAATCGGAACTTAGAAACTGCAAC->CCTTTCTCTTATAAACTGGAGTAGGCAAATCGGAACTTAGAATCTGCAAC\n",
      "AGAGTCTGAAACCTTTCTCTTATAAACTGGAGTAGGCAAATCGGTACTTA->AGAGTCTGAAACCTTTCTCTTATAAACTGGAGTAGGCAAATCGGAACTTA\n",
      "CTTTCTCTTATAAACTGGAGTAGGCAAATCGGAACTTAGAATTTGCAACG->CTTTCTCTTATAAACTGGAGTAGGCAAATCGGAACTTAGAATCTGCAACG\n",
      "ATAAACTGGAGTAGGGAAATCGGAACTTAGAATCTGCAACGTAACGGTCT->ATAAACTGGAGTAGGCAAATCGGAACTTAGAATCTGCAACGTAACGGTCT\n",
      "GAACCTAGAGTCTGAAACCTTTCTCTTATAAACTGGAGTAGGCAAATCGG->GATCCTAGAGTCTGAAACCTTTCTCTTATAAACTGGAGTAGGCAAATCGG\n",
      "TGGAGTAGGCAAATCGGAACTAAGAATCTGCAACGTAACGGTCTGCCGTG->TGGAGTAGGCAAATCGGAACTTAGAATCTGCAACGTAACGGTCTGCCGTG\n",
      "CTGGAGTAGGCAAATCGGAACTTAGAATCTGCAACGTAACGGTTTGCCGT->CTGGAGTAGGCAAATCGGAACTTAGAATCTGCAACGTAACGGTCTGCCGT\n",
      "TGCTAGAGCTCGATCCAAGAGTCTGAAACCTTTCTCTTATAAACTGGAGT->TGCTAGAGCTCGATCCTAGAGTCTGAAACCTTTCTCTTATAAACTGGAGT\n",
      "GCTCGATCCTAAAGTCTGAAACCTTTCTCTTATAAACTGGAGTAGGCAAA->GCTCGATCCTAGAGTCTGAAACCTTTCTCTTATAAACTGGAGTAGGCAAA\n",
      "AGGCAAATCGGAACTTAGAATCTGCAACGTAACGGTCTGCCGTGAGTTCA->AGGCAAATCGGAACTTAGAATCTGCAACGTAACGGTCTGCCGTGAGTCCA\n",
      "AACGTAACGGTCTGCCGTGAGTCCAACTGTCGACCCGCTAGTTTCGCGGC->AACGTAACGGTCTGCCGTGAGTCCAACTGTCGACCCGCTAGTTCCGCGGC\n",
      "TTAGAATCTGCAACGTAACGGTCTGCCGTGAGTCCAACTTTCGACCCGCT->TTAGAATCTGCAACGTAACGGTCTGCCGTGAGTCCAACTGTCGACCCGCT\n",
      "AGCTCGATCCTAGAGTCTGGAACCTTTCTCTTATAAACTGGAGTAGGCAA->AGCTCGATCCTAGAGTCTGAAACCTTTCTCTTATAAACTGGAGTAGGCAA\n",
      "GTATAAACTGGAGTAGGCAAATCGGAACTTAGAATCTGCAACGTAACGGT->TTATAAACTGGAGTAGGCAAATCGGAACTTAGAATCTGCAACGTAACGGT\n",
      "ACCTTTCTCTTATAAACTGGAGTAGGCAACTCGGAACTTAGAATCTGCAA->ACCTTTCTCTTATAAACTGGAGTAGGCAAATCGGAACTTAGAATCTGCAA\n",
      "AGTCGGAAACCTTTCTCTTATAAACTGGAGTAGGCAAATCGGAACTTAGA->AGTCTGAAACCTTTCTCTTATAAACTGGAGTAGGCAAATCGGAACTTAGA\n",
      "CGTAACGGTCTGCCGTGAGTCCAACTGTCGACCCGCTAGTTTCGCGGCGT->CGTAACGGTCTGCCGTGAGTCCAACTGTCGACCCGCTAGTTCCGCGGCGT\n",
      "CTAGAGTCTGAAACCTTTCTCTTATAAACTGGAGTAGGGAAATCGGAACT->CTAGAGTCTGAAACCTTTCTCTTATAAACTGGAGTAGGCAAATCGGAACT\n",
      "GGTGCTAGAGCTCGATCCTAGAGTCTGAAACCTTTCTCTTATAAACTGGA->AGTGCTAGAGCTCGATCCTAGAGTCTGAAACCTTTCTCTTATAAACTGGA\n",
      "GAAACCTTTCTCTTATAAACTGGAGTAGGCAAATCGGAGCTTAGAATCTG->GAAACCTTTCTCTTATAAACTGGAGTAGGCAAATCGGAACTTAGAATCTG\n",
      "AATCGGAACTTAGAATCTGCAACGTAACGATCTGCCGTGAGTCCAACTGT->AATCGGAACTTAGAATCTGCAACGTAACGGTCTGCCGTGAGTCCAACTGT\n",
      "TCGGGACTTAGAATCTGCAACGTAACGGTCTGCCGTGAGTCCAACTGTCG->TCGGAACTTAGAATCTGCAACGTAACGGTCTGCCGTGAGTCCAACTGTCG\n",
      "TCTGCAACGTAACGGTCTGCCGTGAGTTCAACTGTCGACCCGCTAGTTCC->TCTGCAACGTAACGGTCTGCCGTGAGTCCAACTGTCGACCCGCTAGTTCC\n",
      "TTATAAAGTGGAGTAGGCAAATCGGAACTTAGAATCTGCAACGTAACGGT->TTATAAACTGGAGTAGGCAAATCGGAACTTAGAATCTGCAACGTAACGGT\n",
      "TAGGCTAATCGGAACTTAGAATCTGCAACGTAACGGTCTGCCGTGAGTCC->TAGGCAAATCGGAACTTAGAATCTGCAACGTAACGGTCTGCCGTGAGTCC\n",
      "CTCGATCCTAGAGTCTGAAACCTTTCTCTTATAACCTGGAGTAGGCAAAT->CTCGATCCTAGAGTCTGAAACCTTTCTCTTATAAACTGGAGTAGGCAAAT\n",
      "TATAAACTGGAGTAGGCAAATCGGAACTTAAAATCTGCAACGTAACGGTC->TATAAACTGGAGTAGGCAAATCGGAACTTAGAATCTGCAACGTAACGGTC\n",
      "CAAATCGGAACTTAGAATCTGCAACTTAACGGTCTGCCGTGAGTCCAACT->CAAATCGGAACTTAGAATCTGCAACGTAACGGTCTGCCGTGAGTCCAACT\n",
      "GTAACGGTCTGCCGTGAGTCCAACTGTCGACCCGCTAGTTTCGCGGCGTG->GTAACGGTCTGCCGTGAGTCCAACTGTCGACCCGCTAGTTCCGCGGCGTG\n",
      "TTAGAATATGCAACGTAACGGTCTGCCGTGAGTCCAACTGTCGACCCGCT->TTAGAATCTGCAACGTAACGGTCTGCCGTGAGTCCAACTGTCGACCCGCT\n",
      "TCTGCAACGTAACGGTCTGCCGTGAGTCCAACTGTCGACCCGCTAGTCCC->TCTGCAACGTAACGGTCTGCCGTGAGTCCAACTGTCGACCCGCTAGTTCC\n",
      "GGAGTAGGCAAATCCGAACTTAGAATCTGCAACGTAACGGTCTGCCGTGA->GGAGTAGGCAAATCGGAACTTAGAATCTGCAACGTAACGGTCTGCCGTGA\n",
      "TACTGCAGTGCTAGAACTCGATCCTAGAGTCTGAAACCTTTCTCTTATAA->TACTGCAGTGCTAGAGCTCGATCCTAGAGTCTGAAACCTTTCTCTTATAA\n",
      "GAGTGTGAAACCTTTCTCTTATAAACTGGAGTAGGCAAATCGGAACTTAG->GAGTCTGAAACCTTTCTCTTATAAACTGGAGTAGGCAAATCGGAACTTAG\n",
      "GAGTCTGAAACCTTTCTCTTATAAACTGGAGCAGGCAAATCGGAACTTAG->GAGTCTGAAACCTTTCTCTTATAAACTGGAGTAGGCAAATCGGAACTTAG\n",
      "GAACTTAGAATCTGCAACGTAACGGTCTGCCGTGAGTCCAATTGTCGACC->GAACTTAGAATCTGCAACGTAACGGTCTGCCGTGAGTCCAACTGTCGACC\n",
      "GAGCTCGATCCTAGAGTCTGAAACCTTTCTCTTATAAACCGGAGTAGGCA->GAGCTCGATCCTAGAGTCTGAAACCTTTCTCTTATAAACTGGAGTAGGCA\n",
      "TGGAGTAGGCAAATCGGAACTTAGAATCTGCAACGTAACGGTCGGCCGTG->TGGAGTAGGCAAATCGGAACTTAGAATCTGCAACGTAACGGTCTGCCGTG\n",
      "GTAACGGTCTGCCGTGAGTCCAACTGTCGACCCGCTAGTTCCGCGGCTTG->GTAACGGTCTGCCGTGAGTCCAACTGTCGACCCGCTAGTTCCGCGGCGTG\n",
      "TCTGCAACGTAATGGTCTGCCGTGAGTCCAACTGTCGACCCGCTAGTTCC->TCTGCAACGTAACGGTCTGCCGTGAGTCCAACTGTCGACCCGCTAGTTCC\n",
      "AACGGTCTGCCGTGAGTCCAACTTTCGACCCGCTAGTTCCGCGGCGTGGA->AACGGTCTGCCGTGAGTCCAACTGTCGACCCGCTAGTTCCGCGGCGTGGA\n",
      "TAAACTGGAGTAGGCTAATCGGAACTTAGAATCTGCAACGTAACGGTCTG->TAAACTGGAGTAGGCAAATCGGAACTTAGAATCTGCAACGTAACGGTCTG\n",
      "CTCGATCCTAGAGTCTGAAACCTTTCTCTTATAAACTGGAGTAGGCTAAT->CTCGATCCTAGAGTCTGAAACCTTTCTCTTATAAACTGGAGTAGGCAAAT\n",
      "TAGAGCTCGATCCTAGAGTCTGAAACCTTTCTCTTATATACTGGAGTAGG->TAGAGCTCGATCCTAGAGTCTGAAACCTTTCTCTTATAAACTGGAGTAGG\n",
      "AACCTTTCTATTATAAACTGGAGTAGGCAAATCGGAACTTAGAATCTGCA->AACCTTTCTCTTATAAACTGGAGTAGGCAAATCGGAACTTAGAATCTGCA\n",
      "CTCGATCCTAGAGTCTGAAACCTTTCTCTTATAAACTGGAGTAGCCAAAT->CTCGATCCTAGAGTCTGAAACCTTTCTCTTATAAACTGGAGTAGGCAAAT\n",
      "AAATCGGAACTTAGAATCTGCCACGTAACGGTCTGCCGTGAGTCCAACTG->AAATCGGAACTTAGAATCTGCAACGTAACGGTCTGCCGTGAGTCCAACTG\n",
      "ACGTAACGGTCTGCCGTGAGGCCAACTGTCGACCCGCTAGTTCCGCGGCG->ACGTAACGGTCTGCCGTGAGTCCAACTGTCGACCCGCTAGTTCCGCGGCG\n",
      "AGCTCGATCCTAGAGTCTGAAACCTTTCTCTTATAAACTGGAGTAGGCAT->AGCTCGATCCTAGAGTCTGAAACCTTTCTCTTATAAACTGGAGTAGGCAA\n",
      "CTGGAGTAGGCAAATCGGAACTTAGAATCTCCAACGTAACGGTCTGCCGT->CTGGAGTAGGCAAATCGGAACTTAGAATCTGCAACGTAACGGTCTGCCGT\n",
      "AACTGTAGTAGGCAAATCGGAACTTAGAATCTGCAACGTAACGGTCTGCC->AACTGGAGTAGGCAAATCGGAACTTAGAATCTGCAACGTAACGGTCTGCC\n",
      "ATAAACTGGAGTAGGCAAATCGGAACTTAGAATCTGCAACCTAACGGTCT->ATAAACTGGAGTAGGCAAATCGGAACTTAGAATCTGCAACGTAACGGTCT\n",
      "CTTGTAAACTGGAGTAGGCAAATCGGAACTTAGAATCTGCAACGTAACGG->CTTATAAACTGGAGTAGGCAAATCGGAACTTAGAATCTGCAACGTAACGG\n",
      "AGAATCTGCAACGTAACGGTCTGCCGTGAGTCCAACTGTCGAGCCGCTAG->AGAATCTGCAACGTAACGGTCTGCCGTGAGTCCAACTGTCGACCCGCTAG\n",
      "CTGAAACCTTTCTCTTATCAACTGGAGTAGGCAAATCGGAACTTAGAATC->CTGAAACCTTTCTCTTATAAACTGGAGTAGGCAAATCGGAACTTAGAATC\n",
      "ACTGCAGTGCTAGAGCTCGATCCTAGTGTCTGAAACCTTTCTCTTATAAA->ACTGCAGTGCTAGAGCTCGATCCTAGAGTCTGAAACCTTTCTCTTATAAA\n",
      "TCGATCCTAGAGTCTGAAACCTTTCTCATATAAACTGGAGTAGGCAAATC->TCGATCCTAGAGTCTGAAACCTTTCTCTTATAAACTGGAGTAGGCAAATC\n",
      "CGTAAGGGTCTGCCGTGAGTCCAACTGTCGACCCGCTAGTTCCGCGGCGT->CGTAACGGTCTGCCGTGAGTCCAACTGTCGACCCGCTAGTTCCGCGGCGT\n",
      "TAGAGCTCGATCCTAGAGTCTGAAACCTCTCTCTTATAAACTGGAGTAGG->TAGAGCTCGATCCTAGAGTCTGAAACCTTTCTCTTATAAACTGGAGTAGG\n",
      "TAGAGCTCGATCCTAGAGTCTGAAACCTTTCTCTTATAAACCGGAGTAGG->TAGAGCTCGATCCTAGAGTCTGAAACCTTTCTCTTATAAACTGGAGTAGG\n",
      "ATCCTAGAGTCTGAAACCTTTCTCTTATAAACGGGAGTAGGCAAATCGGA->ATCCTAGAGTCTGAAACCTTTCTCTTATAAACTGGAGTAGGCAAATCGGA\n",
      "GAGTAGGCAAATCGGAACTTAGAATCTGCAACGTAACGGTCTGCCGAGAG->GAGTAGGCAAATCGGAACTTAGAATCTGCAACGTAACGGTCTGCCGTGAG\n",
      "GTAACGGTCTGCCGCGAGTCCAACTGTCGACCCGCTAGTTCCGCGGCGTG->GTAACGGTCTGCCGTGAGTCCAACTGTCGACCCGCTAGTTCCGCGGCGTG\n",
      "AGTGCTAGAGCTCGATCCTAGAGTCTGAAACCTTTCTCTTCTAAACTGGA->AGTGCTAGAGCTCGATCCTAGAGTCTGAAACCTTTCTCTTATAAACTGGA\n",
      "AATTTGCAACGTAACGGTCTGCCGTGAGTCCAACTGTCGACCCGCTAGTT->AATCTGCAACGTAACGGTCTGCCGTGAGTCCAACTGTCGACCCGCTAGTT\n",
      "AAACTGGAGTAGGCAAATCGGAACTTAGAATCCGCAACGTAACGGTCTGC->AAACTGGAGTAGGCAAATCGGAACTTAGAATCTGCAACGTAACGGTCTGC\n",
      "CAACGTACCGGTCTGCCGTGAGTCCAACTGTCGACCCGCTAGTTCCGCGG->CAACGTAACGGTCTGCCGTGAGTCCAACTGTCGACCCGCTAGTTCCGCGG\n",
      "TGGAATAGGCAAATCGGAACTTAGAATCTGCAACGTAACGGTCTGCCGTG->TGGAGTAGGCAAATCGGAACTTAGAATCTGCAACGTAACGGTCTGCCGTG\n",
      "TGGAGTAGGCAAATCGGAACTTAGAATCTGCAACGTAACGTTCTGCCGTG->TGGAGTAGGCAAATCGGAACTTAGAATCTGCAACGTAACGGTCTGCCGTG\n",
      "CAGTGCTAGAGCTCGTTCCTAGAGTCTGAAACCTTTCTCTTATAAACTGG->CAGTGCTAGAGCTCGATCCTAGAGTCTGAAACCTTTCTCTTATAAACTGG\n",
      "CTGGAGTAGGCAAAGCGGAACTTAGAATCTGCAACGTAACGGTCTGCCGT->CTGGAGTAGGCAAATCGGAACTTAGAATCTGCAACGTAACGGTCTGCCGT\n",
      "CTGCAACGTAACGGTCTGCCGTGAGTCCAACTGTCGACCCCCTAGTTCCG->CTGCAACGTAACGGTCTGCCGTGAGTCCAACTGTCGACCCGCTAGTTCCG\n",
      "TATAAACTGGAGTAGGCAAATCGGAACTTAGAATCGGCAACGTAACGGTC->TATAAACTGGAGTAGGCAAATCGGAACTTAGAATCTGCAACGTAACGGTC\n",
      "ATCCTAGAGTCTGAAACCTTTCTCTTATAAACTGGATTAGGCAAATCGGA->ATCCTAGAGTCTGAAACCTTTCTCTTATAAACTGGAGTAGGCAAATCGGA\n",
      "GCAAATCGGAACTTAGAATCTGCAACATAACGGTCTGCCGTGAGTCCAAC->GCAAATCGGAACTTAGAATCTGCAACGTAACGGTCTGCCGTGAGTCCAAC\n",
      "TAACGGTCTGCCGTGAGTCCAACTGTCGACCCGCTTGTTCCGCGGCGTGG->TAACGGTCTGCCGTGAGTCCAACTGTCGACCCGCTAGTTCCGCGGCGTGG\n",
      "TGCAGTGCTAGAGCTCGATCCTAGAGTCGGAAACCTTTCTCTTATAAACT->TGCAGTGCTAGAGCTCGATCCTAGAGTCTGAAACCTTTCTCTTATAAACT\n",
      "GTGCTAGAGCTCGATCCTAGAGTCTGAATCCTTTCTCTTATAAACTGGAG->GTGCTAGAGCTCGATCCTAGAGTCTGAAACCTTTCTCTTATAAACTGGAG\n",
      "TCGATCCTAGAGTCTGAAACCTTTCTCTTATAAGCTGGAGTAGGCAAATC->TCGATCCTAGAGTCTGAAACCTTTCTCTTATAAACTGGAGTAGGCAAATC\n",
      "TAGAGCTCGATCCTAGAGTCTGAAACCTTTCTGTTATAAACTGGAGTAGG->TAGAGCTCGATCCTAGAGTCTGAAACCTTTCTCTTATAAACTGGAGTAGG\n",
      "ACTGCAGTGCTAGAGCACGATCCTAGAGTCTGAAACCTTTCTCTTATAAA->ACTGCAGTGCTAGAGCTCGATCCTAGAGTCTGAAACCTTTCTCTTATAAA\n",
      "GTCTGAAACCTTTCTCTTATAAACTGGTGTAGGCAAATCGGAACTTAGAA->GTCTGAAACCTTTCTCTTATAAACTGGAGTAGGCAAATCGGAACTTAGAA\n",
      "CTTATCAACTGGAGTAGGCAAATCGGAACTTAGAATCTGCAACGTAACGG->CTTATAAACTGGAGTAGGCAAATCGGAACTTAGAATCTGCAACGTAACGG\n",
      "ATCTGCAACGTAACGGTCTGCCGGGAGTCCAACTGTCGACCCGCTAGTTC->ATCTGCAACGTAACGGTCTGCCGTGAGTCCAACTGTCGACCCGCTAGTTC\n",
      "GGAGTAGGCAAATCGGAACTTAGAATCTGCAACGTAAAGGTCTGCCGTGA->GGAGTAGGCAAATCGGAACTTAGAATCTGCAACGTAACGGTCTGCCGTGA\n",
      "TCTGCAACGTAACGGTCTGCCGTGAGTCCAACTGTCGACACGCTAGTTCC->TCTGCAACGTAACGGTCTGCCGTGAGTCCAACTGTCGACCCGCTAGTTCC\n",
      "CTGCAACGTAACGCTCTGCCGTGAGTCCAACTGTCGACCCGCTAGTTCCG->CTGCAACGTAACGGTCTGCCGTGAGTCCAACTGTCGACCCGCTAGTTCCG\n",
      "TCTTATAAACTGGAGTAGGCAAATCGGGACTTAGAATCTGCAACGTAACG->TCTTATAAACTGGAGTAGGCAAATCGGAACTTAGAATCTGCAACGTAACG\n",
      "CGTAACGTTCTGCCGTGAGTCCAACTGTCGACCCGCTAGTTCCGCGGCGT->CGTAACGGTCTGCCGTGAGTCCAACTGTCGACCCGCTAGTTCCGCGGCGT\n",
      "CAACGTAACTGTCTGCCGTGAGTCCAACTGTCGACCCGCTAGTTCCGCGG->CAACGTAACGGTCTGCCGTGAGTCCAACTGTCGACCCGCTAGTTCCGCGG\n",
      "TGAAACCTTTCTCTTATAAACTGGAGTAGGCAAATCGGAACTTAGGATCT->TGAAACCTTTCTCTTATAAACTGGAGTAGGCAAATCGGAACTTAGAATCT\n",
      "CTTAGAATCTGCAACGTAACGGCCTGCCGTGAGTCCAACTGTCGACCCGC->CTTAGAATCTGCAACGTAACGGTCTGCCGTGAGTCCAACTGTCGACCCGC\n",
      "AAACTGGAGTAGGCAAATCGGAACTTAGAATCTGCAATGTAACGGTCTGC->AAACTGGAGTAGGCAAATCGGAACTTAGAATCTGCAACGTAACGGTCTGC\n",
      "TAGAGCTCGATCCTAGAGTCTGAAACCTTTCTCTTATAAACTGGACTAGG->TAGAGCTCGATCCTAGAGTCTGAAACCTTTCTCTTATAAACTGGAGTAGG\n",
      "TATAAACTGGAGTAGGCAAATCGGATCTTAGAATCTGCAACGTAACGGTC->TATAAACTGGAGTAGGCAAATCGGAACTTAGAATCTGCAACGTAACGGTC\n",
      "AACCTTTCTCTTATAAACTGGAGTAGGCAAATCGGAACTTAGAATCTGCT->AACCTTTCTCTTATAAACTGGAGTAGGCAAATCGGAACTTAGAATCTGCA\n",
      "CCTTTCTCTTATAAACTGGAGTAGGCAAATCGGAACTCAGAATCTGCAAC->CCTTTCTCTTATAAACTGGAGTAGGCAAATCGGAACTTAGAATCTGCAAC\n",
      "GATCCTAGAGGCTGAAACCTTTCTCTTATAAACTGGAGTAGGCAAATCGG->GATCCTAGAGTCTGAAACCTTTCTCTTATAAACTGGAGTAGGCAAATCGG\n",
      "GGAGTATGCAAATCGGAACTTAGAATCTGCAACGTAACGGTCTGCCGTGA->GGAGTAGGCAAATCGGAACTTAGAATCTGCAACGTAACGGTCTGCCGTGA\n",
      "GAAACCTTTCTCTTATAAACTGGAGTAGGGAAATCGGAACTTAGAATCTG->GAAACCTTTCTCTTATAAACTGGAGTAGGCAAATCGGAACTTAGAATCTG\n",
      "AGAGCTCGATCCTAGAGGCTGAAACCTTTCTCTTATAAACTGGAGTAGGC->AGAGCTCGATCCTAGAGTCTGAAACCTTTCTCTTATAAACTGGAGTAGGC\n",
      "GTAACGGTCTGCCGTGAGTCCCACTGTCGACCCGCTAGTTCCGCGGCGTG->GTAACGGTCTGCCGTGAGTCCAACTGTCGACCCGCTAGTTCCGCGGCGTG\n",
      "TAGAATTTGCAACGTAACGGTCTGCCGTGAGTCCAACTGTCGACCCGCTA->TAGAATCTGCAACGTAACGGTCTGCCGTGAGTCCAACTGTCGACCCGCTA\n",
      "ACGTAACGGTCTGCCGTGAGTCCAACTGCCGACCCGCTAGTTCCGCGGCG->ACGTAACGGTCTGCCGTGAGTCCAACTGTCGACCCGCTAGTTCCGCGGCG\n",
      "GAGTAGGCAAATCGGAACTTAGAATCTGCAACATAACGGTCTGCCGTGAG->GAGTAGGCAAATCGGAACTTAGAATCTGCAACGTAACGGTCTGCCGTGAG\n",
      "CAACTTAGAATCTGCAACGTAACGGTCTGCCGTGAGTCCAACTGTCGACC->GAACTTAGAATCTGCAACGTAACGGTCTGCCGTGAGTCCAACTGTCGACC\n",
      "TCTTATAAACTGGAGTAGGCAAATCGGAACTTAGCATCTGCAACGTAACG->TCTTATAAACTGGAGTAGGCAAATCGGAACTTAGAATCTGCAACGTAACG\n",
      "CGTAACGGTCTGCCGTGAGTCCACCTGTCGACCCGCTAGTTCCGCGGCGT->CGTAACGGTCTGCCGTGAGTCCAACTGTCGACCCGCTAGTTCCGCGGCGT\n",
      "AGTAGGCAAATCGGAAATTAGAATCTGCAACGTAACGGTCTGCCGTGAGT->AGTAGGCAAATCGGAACTTAGAATCTGCAACGTAACGGTCTGCCGTGAGT\n",
      "AGAGTCTGAAACCTTTCTCTTATAAACTGGAGTAGGCATATCGGAACTTA->AGAGTCTGAAACCTTTCTCTTATAAACTGGAGTAGGCAAATCGGAACTTA\n",
      "GCTAGAGCTCGACCCTAGAGTCTGAAACCTTTCTCTTATAAACTGGAGTA->GCTAGAGCTCGATCCTAGAGTCTGAAACCTTTCTCTTATAAACTGGAGTA\n",
      "CCTTTCTCTTATAAACTGGAGTAGGCAATTCGGAACTTAGAATCTGCAAC->CCTTTCTCTTATAAACTGGAGTAGGCAAATCGGAACTTAGAATCTGCAAC\n",
      "GAGTATGCAAATCGGAACTTAGAATCTGCAACGTAACGGTCTGCCGTGAG->GAGTAGGCAAATCGGAACTTAGAATCTGCAACGTAACGGTCTGCCGTGAG\n",
      "TTCTCTTATAAACTGGAGTAGGCAACTCGGAACTTAGAATCTGCAACGTA->TTCTCTTATAAACTGGAGTAGGCAAATCGGAACTTAGAATCTGCAACGTA\n",
      "GGAGTAGGCAAATCGGAACTTAGAATCTGCAAGGTAACGGTCTGCCGTGA->GGAGTAGGCAAATCGGAACTTAGAATCTGCAACGTAACGGTCTGCCGTGA\n",
      "TCTCTTATAAACTGTAGTAGGCAAATCGGAACTTAGAATCTGCAACGTAA->TCTCTTATAAACTGGAGTAGGCAAATCGGAACTTAGAATCTGCAACGTAA\n",
      "TCTGCAACGTAACGGTCTGCCGTGAGTCCAACTGTGGACCCGCTAGTTCC->TCTGCAACGTAACGGTCTGCCGTGAGTCCAACTGTCGACCCGCTAGTTCC\n",
      "TTAGAATCTGCAACGAAACGGTCTGCCGTGAGTCCAACTGTCGACCCGCT->TTAGAATCTGCAACGTAACGGTCTGCCGTGAGTCCAACTGTCGACCCGCT\n",
      "CTGCAGTGCTAGCGCTCGATCCTAGAGTCTGAAACCTTTCTCTTATAAAC->CTGCAGTGCTAGAGCTCGATCCTAGAGTCTGAAACCTTTCTCTTATAAAC\n",
      "GAGTCTGAAACCTTTCTCTTATAAACTGGAGTAGGCAAATGGGAACTTAG->GAGTCTGAAACCTTTCTCTTATAAACTGGAGTAGGCAAATCGGAACTTAG\n",
      "AAATCGGAACTTAGAATCTGCAACGTAACGGTCTGCCGTGAGTCCAGCTG->AAATCGGAACTTAGAATCTGCAACGTAACGGTCTGCCGTGAGTCCAACTG\n",
      "CTGGAGTGCTAGAGCTCGATCCTAGAGTCTGAAACCTTTCTCTTATAAAC->CTGCAGTGCTAGAGCTCGATCCTAGAGTCTGAAACCTTTCTCTTATAAAC\n",
      "GAACTTAGAATCTGCAACGTAACGGTCTGCCGAGAGTCCAACTGTCGACC->GAACTTAGAATCTGCAACGTAACGGTCTGCCGTGAGTCCAACTGTCGACC\n",
      "CTGTGCTAGAGCTCGATCCTAGAGTCTGAAACCTTTCTCTTATAAACTGG->CAGTGCTAGAGCTCGATCCTAGAGTCTGAAACCTTTCTCTTATAAACTGG\n",
      "AGCTCGATCCTAGAGTCTGAAACCTTTCTCTTATAAACTGGAATAGGCAA->AGCTCGATCCTAGAGTCTGAAACCTTTCTCTTATAAACTGGAGTAGGCAA\n",
      "CAGTGCGAGAGCTCGATCCTAGAGTCTGAAACCTTTCTCTTATAAACTGG->CAGTGCTAGAGCTCGATCCTAGAGTCTGAAACCTTTCTCTTATAAACTGG\n",
      "ACGTAACGGTCTGCCGTGAGTCCAACTGTCGACCCGCTAGTTTCGCGGCG->ACGTAACGGTCTGCCGTGAGTCCAACTGTCGACCCGCTAGTTCCGCGGCG\n",
      "AACCTTTCTCTTATAAACTGGAGTCGGCAAATCGGAACTTAGAATCTGCA->AACCTTTCTCTTATAAACTGGAGTAGGCAAATCGGAACTTAGAATCTGCA\n",
      "TGCAACGTAACGGTCTGCCGTGAGTCCAACTGTCGACCCGCTAGTTCCGA->TGCAACGTAACGGTCTGCCGTGAGTCCAACTGTCGACCCGCTAGTTCCGC\n",
      "GCAAATCGGAACTTAGAATCCGCAACGTAACGGTCTGCCGTGAGTCCAAC->GCAAATCGGAACTTAGAATCTGCAACGTAACGGTCTGCCGTGAGTCCAAC\n",
      "AACCTTTCTCTTAAAAACTGGAGTAGGCAAATCGGAACTTAGAATCTGCA->AACCTTTCTCTTATAAACTGGAGTAGGCAAATCGGAACTTAGAATCTGCA\n",
      "ACTGGAGTAGGCAAATCGGAACTTAGAATATGCAACGTAACGGTCTGCCG->ACTGGAGTAGGCAAATCGGAACTTAGAATCTGCAACGTAACGGTCTGCCG\n",
      "GAGTAGGCAAATAGGAACTTAGAATCTGCAACGTAACGGTCTGCCGTGAG->GAGTAGGCAAATCGGAACTTAGAATCTGCAACGTAACGGTCTGCCGTGAG\n",
      "TCTATTATAAACTGGAGTAGGCAAATCGGAACTTAGAATCTGCAACGTAA->TCTCTTATAAACTGGAGTAGGCAAATCGGAACTTAGAATCTGCAACGTAA\n",
      "AACCTTTCTCTTATAAACTGGAGTAGGCAAATCGGAACTTAGAGTCTGCA->AACCTTTCTCTTATAAACTGGAGTAGGCAAATCGGAACTTAGAATCTGCA\n",
      "TCGGAACTTAGAATCTGCAACGTAACGGTCTGCCGTGAGCCCAACTGTCG->TCGGAACTTAGAATCTGCAACGTAACGGTCTGCCGTGAGTCCAACTGTCG\n",
      "GAAACCATTCTCTTATAAACTGGAGTAGGCAAATCGGAACTTAGAATCTG->GAAACCTTTCTCTTATAAACTGGAGTAGGCAAATCGGAACTTAGAATCTG\n",
      "AATCTGCAACGTAACGATCTGCCGTGAGTCCAACTGTCGACCCGCTAGTT->AATCTGCAACGTAACGGTCTGCCGTGAGTCCAACTGTCGACCCGCTAGTT\n",
      "ACGTAACGGTCTGCCGTGAGTCCAACTGTCGACCCGCTGGTTCCGCGGCG->ACGTAACGGTCTGCCGTGAGTCCAACTGTCGACCCGCTAGTTCCGCGGCG\n",
      "TAGAGTCTGAAACCTTTCACTTATAAACTGGAGTAGGCAAATCGGAACTT->TAGAGTCTGAAACCTTTCTCTTATAAACTGGAGTAGGCAAATCGGAACTT\n",
      "CTGCAACGTAACGGTCTGCCGTGTGTCCAACTGTCGACCCGCTAGTTCCG->CTGCAACGTAACGGTCTGCCGTGAGTCCAACTGTCGACCCGCTAGTTCCG\n",
      "ACTGGAGTAGGCAAATCGGAACTTAGAATCTGCAACGTAACGGTCTGCGG->ACTGGAGTAGGCAAATCGGAACTTAGAATCTGCAACGTAACGGTCTGCCG\n",
      "TCGATCCTAGAGTCTGAAACCTTTGTCTTATAAACTGGAGTAGGCAAATC->TCGATCCTAGAGTCTGAAACCTTTCTCTTATAAACTGGAGTAGGCAAATC\n",
      "AGGCAAATCGGAACTTAGAATCTGCAACGTATCGGTCTGCCGTGAGTCCA->AGGCAAATCGGAACTTAGAATCTGCAACGTAACGGTCTGCCGTGAGTCCA\n",
      "TTAGAATCTGCAACGTAACGGTCTGCCGTGAGTCCAACTGTCTACCCGCT->TTAGAATCTGCAACGTAACGGTCTGCCGTGAGTCCAACTGTCGACCCGCT\n",
      "CAGCGCTAGAGCTCGATCCTAGAGTCTGAAACCTTTCTCTTATAAACTGG->CAGTGCTAGAGCTCGATCCTAGAGTCTGAAACCTTTCTCTTATAAACTGG\n",
      "ACTGGAGTAGGCAAATCGGAACTTAGAATCTCCAACGTAACGGTCTGCCG->ACTGGAGTAGGCAAATCGGAACTTAGAATCTGCAACGTAACGGTCTGCCG\n",
      "GCTAGTGCTCGATCCTAGAGTCTGAAACCTTTCTCTTATAAACTGGAGTA->GCTAGAGCTCGATCCTAGAGTCTGAAACCTTTCTCTTATAAACTGGAGTA\n",
      "TCTTATAAACTGGAATAGGCAAATCGGAACTTAGAATCTGCAACGTAACG->TCTTATAAACTGGAGTAGGCAAATCGGAACTTAGAATCTGCAACGTAACG\n",
      "TAGAGTCTGAAACCTTTCTCTTATAAACTGGAGTAGGCAAATCGGATCTT->TAGAGTCTGAAACCTTTCTCTTATAAACTGGAGTAGGCAAATCGGAACTT\n",
      "CTCTTATAAACTGTAGTAGGCAAATCGGAACTTAGAATCTGCAACGTAAC->CTCTTATAAACTGGAGTAGGCAAATCGGAACTTAGAATCTGCAACGTAAC\n",
      "AGCTCGATCCTAGAGTCTGAAATCTTTCTCTTATAAACTGGAGTAGGCAA->AGCTCGATCCTAGAGTCTGAAACCTTTCTCTTATAAACTGGAGTAGGCAA\n",
      "AAATCGGAACTTAGAATCTGCAACGTAACGGTCTGCCGCGAGTCCAACTG->AAATCGGAACTTAGAATCTGCAACGTAACGGTCTGCCGTGAGTCCAACTG\n",
      "GAGTCTGAAACCTTTCTCTTATAAACTGGAGTAGGCAAATCGGAATTTAG->GAGTCTGAAACCTTTCTCTTATAAACTGGAGTAGGCAAATCGGAACTTAG\n",
      "CTGCAACGTAACGTTCTGCCGTGAGTCCAACTGTCGACCCGCTAGTTCCG->CTGCAACGTAACGGTCTGCCGTGAGTCCAACTGTCGACCCGCTAGTTCCG\n",
      "GAAACCTTTCTCTTTTAAACTGGAGTAGGCAAATCGGAACTTAGAATCTG->GAAACCTTTCTCTTATAAACTGGAGTAGGCAAATCGGAACTTAGAATCTG\n",
      "ATAAACTGGAGGAGGCAAATCGGAACTTAGAATCTGCAACGTAACGGTCT->ATAAACTGGAGTAGGCAAATCGGAACTTAGAATCTGCAACGTAACGGTCT\n",
      "CCTTTCTCTTATAAACTGGAGTAGGCAAATCGGAACTTATAATCTGCAAC->CCTTTCTCTTATAAACTGGAGTAGGCAAATCGGAACTTAGAATCTGCAAC\n",
      "AGAGCTCGATCCTAGAGTCTGAAACTTTTCTCTTATAAACTGGAGTAGGC->AGAGCTCGATCCTAGAGTCTGAAACCTTTCTCTTATAAACTGGAGTAGGC\n",
      "AACCTTTCTGTTATAAACTGGAGTAGGCAAATCGGAACTTAGAATCTGCA->AACCTTTCTCTTATAAACTGGAGTAGGCAAATCGGAACTTAGAATCTGCA\n",
      "ATCGGAACTTAGAATCTGCAACGTAACAGTCTGCCGTGAGTCCAACTGTC->ATCGGAACTTAGAATCTGCAACGTAACGGTCTGCCGTGAGTCCAACTGTC\n",
      "AACGGTCTGCCGAGAGTCCAACTGTCGACCCGCTAGTTCCGCGGCGTGGA->AACGGTCTGCCGTGAGTCCAACTGTCGACCCGCTAGTTCCGCGGCGTGGA\n",
      "CTTTCTCTTATAAACTGGAGTAGGCAAATCGGACCTTAGAATCTGCAACG->CTTTCTCTTATAAACTGGAGTAGGCAAATCGGAACTTAGAATCTGCAACG\n",
      "AGTCTGAAACCTTTTTCTTATAAACTGGAGTAGGCAAATCGGAACTTAGA->AGTCTGAAACCTTTCTCTTATAAACTGGAGTAGGCAAATCGGAACTTAGA\n",
      "AGTGCTAGAGATCGATCCTAGAGTCTGAAACCTTTCTCTTATAAACTGGA->AGTGCTAGAGCTCGATCCTAGAGTCTGAAACCTTTCTCTTATAAACTGGA\n",
      "GAAACCTTTCCCTTATAAACTGGAGTAGGCAAATCGGAACTTAGAATCTG->GAAACCTTTCTCTTATAAACTGGAGTAGGCAAATCGGAACTTAGAATCTG\n",
      "GGAGTAGGCAAATCGGAACTTAGACTCTGCAACGTAACGGTCTGCCGTGA->GGAGTAGGCAAATCGGAACTTAGAATCTGCAACGTAACGGTCTGCCGTGA\n",
      "TAGGCAAATCGGAACTTAGAATCTGCAACGTAACGGTCTGCCCTGAGTCC->TAGGCAAATCGGAACTTAGAATCTGCAACGTAACGGTCTGCCGTGAGTCC\n",
      "ATCCTAGAGTCTGAAACCTTTCTCTTTTAAACTGGAGTAGGCAAATCGGA->ATCCTAGAGTCTGAAACCTTTCTCTTATAAACTGGAGTAGGCAAATCGGA\n",
      "GCAGTGCTAGACCTCGATCCTAGAGTCTGAAACCTTTCTCTTATAAACTG->GCAGTGCTAGAGCTCGATCCTAGAGTCTGAAACCTTTCTCTTATAAACTG\n",
      "AACTGGAGTAGGCAAATCGGAACTTAGAATCTGCAACGTAACGATCTGCC->AACTGGAGTAGGCAAATCGGAACTTAGAATCTGCAACGTAACGGTCTGCC\n",
      "AAACCTTTCTCTTATAAACTGGAGTAGGCAAATCGGAACATAGAATCTGC->AAACCTTTCTCTTATAAACTGGAGTAGGCAAATCGGAACTTAGAATCTGC\n",
      "AGAGCTCGATCCTAGAGTCTGTAACCTTTCTCTTATAAACTGGAGTAGGC->AGAGCTCGATCCTAGAGTCTGAAACCTTTCTCTTATAAACTGGAGTAGGC\n",
      "TATAGACTGGAGTAGGCAAATCGGAACTTAGAATCTGCAACGTAACGGTC->TATAAACTGGAGTAGGCAAATCGGAACTTAGAATCTGCAACGTAACGGTC\n",
      "CTTAGAATCTGCAACGTAGCGGTCTGCCGTGAGTCCAACTGTCGACCCGC->CTTAGAATCTGCAACGTAACGGTCTGCCGTGAGTCCAACTGTCGACCCGC\n",
      "GTAACGGTCTGCCGTGAGTCCAACTGTCGACCCGCTAGTGCCGCGGCGTG->GTAACGGTCTGCCGTGAGTCCAACTGTCGACCCGCTAGTTCCGCGGCGTG\n",
      "TGAAGTAGGCAAATCGGAACTTAGAATCTGCAACGTAACGGTCTGCCGTG->TGGAGTAGGCAAATCGGAACTTAGAATCTGCAACGTAACGGTCTGCCGTG\n",
      "TGCTAGAGCTCGATCCTAGAGCCTGAAACCTTTCTCTTATAAACTGGAGT->TGCTAGAGCTCGATCCTAGAGTCTGAAACCTTTCTCTTATAAACTGGAGT\n",
      "TAGAATCTGCAACGTAACGGTCTGCCGTAAGTCCAACTGTCGACCCGCTA->TAGAATCTGCAACGTAACGGTCTGCCGTGAGTCCAACTGTCGACCCGCTA\n",
      "TCGGAACTTAGAATCTGCAACGTAACGGTCTGCCGTGAGTCCGACTGTCG->TCGGAACTTAGAATCTGCAACGTAACGGTCTGCCGTGAGTCCAACTGTCG\n",
      "AGTCTGAAACCTTTCTCTTATAAACTGGAGTAGCCAAATCGGAACTTAGA->AGTCTGAAACCTTTCTCTTATAAACTGGAGTAGGCAAATCGGAACTTAGA\n",
      "GATCCTAGAGTCTGAAACCTTTCTCTTGTAAACTGGAGTAGGCAAATCGG->GATCCTAGAGTCTGAAACCTTTCTCTTATAAACTGGAGTAGGCAAATCGG\n",
      "AGTGCTAGAGCTCAATCCTAGAGTCTGAAACCTTTCTCTTATAAACTGGA->AGTGCTAGAGCTCGATCCTAGAGTCTGAAACCTTTCTCTTATAAACTGGA\n",
      "GAGCTAGAGCTCGATCCTAGAGTCTGAAACCTTTCTCTTATAAACTGGAG->GTGCTAGAGCTCGATCCTAGAGTCTGAAACCTTTCTCTTATAAACTGGAG\n",
      "GAGTAGGCAAATCGGAACTTAGAATCTGCAACGTAACGGTCTGCCGTTAG->GAGTAGGCAAATCGGAACTTAGAATCTGCAACGTAACGGTCTGCCGTGAG\n",
      "TACTGCAGTGCTAGAGCTCGATCCTAGAGTCTCAAACCTTTCTCTTATAA->TACTGCAGTGCTAGAGCTCGATCCTAGAGTCTGAAACCTTTCTCTTATAA\n",
      "ATCATAGAGTCTGAAACCTTTCTCTTATAAACTGGAGTAGGCAAATCGGA->ATCCTAGAGTCTGAAACCTTTCTCTTATAAACTGGAGTAGGCAAATCGGA\n",
      "TATACTGGAGTAGGCAAATCGGAACTTAGAATCTGCAACGTAACGGTCTG->TAAACTGGAGTAGGCAAATCGGAACTTAGAATCTGCAACGTAACGGTCTG\n",
      "AATCGGAACTTAGAATCTGCAACGGAACGGTCTGCCGTGAGTCCAACTGT->AATCGGAACTTAGAATCTGCAACGTAACGGTCTGCCGTGAGTCCAACTGT\n",
      "TACTGCAGTGCTAGAGCTCGATCGTAGAGTCTGAAACCTTTCTCTTATAA->TACTGCAGTGCTAGAGCTCGATCCTAGAGTCTGAAACCTTTCTCTTATAA\n",
      "TGCAGTGCTATAGCTCGATCCTAGAGTCTGAAACCTTTCTCTTATAAACT->TGCAGTGCTAGAGCTCGATCCTAGAGTCTGAAACCTTTCTCTTATAAACT\n",
      "CTCATAAACTGGAGTAGGCAAATCGGAACTTAGAATCTGCAACGTAACGG->CTTATAAACTGGAGTAGGCAAATCGGAACTTAGAATCTGCAACGTAACGG\n",
      "AGGCAAATCGGAACTTAGAATCTGCAACGTAACGGTCTGCCGTGAGGCCA->AGGCAAATCGGAACTTAGAATCTGCAACGTAACGGTCTGCCGTGAGTCCA\n",
      "CTTTCTCTTATAAACTGGAGTAGGCAAATCGGAACGTAGAATCTGCAACG->CTTTCTCTTATAAACTGGAGTAGGCAAATCGGAACTTAGAATCTGCAACG\n",
      "TAGAAGCTGCAACGTAACGGTCTGCCGTGAGTCCAACTGTCGACCCGCTA->TAGAATCTGCAACGTAACGGTCTGCCGTGAGTCCAACTGTCGACCCGCTA\n",
      "CGTAACGGTCTGCCGTGAGTCCAACTGTCGACCCGCTAGTTCCGCTGCGT->CGTAACGGTCTGCCGTGAGTCCAACTGTCGACCCGCTAGTTCCGCGGCGT\n",
      "AGAGCTCAATCCTAGAGTCTGAAACCTTTCTCTTATAAACTGGAGTAGGC->AGAGCTCGATCCTAGAGTCTGAAACCTTTCTCTTATAAACTGGAGTAGGC\n",
      "GCAAATCGCAACTTAGAATCTGCAACGTAACGGTCTGCCGTGAGTCCAAC->GCAAATCGGAACTTAGAATCTGCAACGTAACGGTCTGCCGTGAGTCCAAC\n",
      "CTAGAGCTCGATCCTAGATTCTGAAACCTTTCTCTTATAAACTGGAGTAG->CTAGAGCTCGATCCTAGAGTCTGAAACCTTTCTCTTATAAACTGGAGTAG\n",
      "TCGGAACTTAGAATCTGCAACGTAACGGTCTGCCGTGAGTACAACTGTCG->TCGGAACTTAGAATCTGCAACGTAACGGTCTGCCGTGAGTCCAACTGTCG\n",
      "TTCTCTTATAAACTGGAGTAGGTAAATCGGAACTTAGAATCTGCAACGTA->TTCTCTTATAAACTGGAGTAGGCAAATCGGAACTTAGAATCTGCAACGTA\n",
      "CTTATAAACTGGAGTACGCAAATCGGAACTTAGAATCTGCAACGTAACGG->CTTATAAACTGGAGTAGGCAAATCGGAACTTAGAATCTGCAACGTAACGG\n",
      "AGTAGGCAAATCGGAACTTAGATTCTGCAACGTAACGGTCTGCCGTGAGT->AGTAGGCAAATCGGAACTTAGAATCTGCAACGTAACGGTCTGCCGTGAGT\n",
      "AGCTCGATCCTAGAGTCTGAAACCTTTCACTTATAAACTGGAGTAGGCAA->AGCTCGATCCTAGAGTCTGAAACCTTTCTCTTATAAACTGGAGTAGGCAA\n",
      "TCTAGAGCTCGATCCTAGAGTCTGAAACCTTTCTCTTATAAACTGGAGTA->GCTAGAGCTCGATCCTAGAGTCTGAAACCTTTCTCTTATAAACTGGAGTA\n",
      "ACTGCAGTGCTAGAGCTCGATCCTAGAGTCTGAAACCTTTGTCTTATAAA->ACTGCAGTGCTAGAGCTCGATCCTAGAGTCTGAAACCTTTCTCTTATAAA\n",
      "AGAGCTCGATCCTAGAGTCTGAAACCTTTCACTTATAAACTGGAGTAGGC->AGAGCTCGATCCTAGAGTCTGAAACCTTTCTCTTATAAACTGGAGTAGGC\n",
      "GAACTTAGAATCTGCAACGTAACGGTCTGCCGTGAGACCAACTGTCGACC->GAACTTAGAATCTGCAACGTAACGGTCTGCCGTGAGTCCAACTGTCGACC\n",
      "TAGAATCTGCAACGTAACGGTCTGCCGTGAGTCCTACTGTCGACCCGCTA->TAGAATCTGCAACGTAACGGTCTGCCGTGAGTCCAACTGTCGACCCGCTA\n",
      "CGTAACGGTCTGCCGTGAGTCCAACTATCGACCCGCTAGTTCCGCGGCGT->CGTAACGGTCTGCCGTGAGTCCAACTGTCGACCCGCTAGTTCCGCGGCGT\n",
      "ACTGGATTAGGCAAATCGGAACTTAGAATCTGCAACGTAACGGTCTGCCG->ACTGGAGTAGGCAAATCGGAACTTAGAATCTGCAACGTAACGGTCTGCCG\n",
      "CCTAGAGTCTGAAACCTTTCTCTTATAAACTGGACTAGGCAAATCGGAAC->CCTAGAGTCTGAAACCTTTCTCTTATAAACTGGAGTAGGCAAATCGGAAC\n",
      "GCGATCCTAGAGTCTGAAACCTTTCTCTTATAAACTGGAGTAGGCAAATC->TCGATCCTAGAGTCTGAAACCTTTCTCTTATAAACTGGAGTAGGCAAATC\n",
      "TTAGAATCTGCAACGTAACGGTCTGCCGTGAGTCCAACTGTCGACCCGCG->TTAGAATCTGCAACGTAACGGTCTGCCGTGAGTCCAACTGTCGACCCGCT\n",
      "CTGCAGTGCTGGAGCTCGATCCTAGAGTCTGAAACCTTTCTCTTATAAAC->CTGCAGTGCTAGAGCTCGATCCTAGAGTCTGAAACCTTTCTCTTATAAAC\n",
      "CTAGAGTCTGAAACCTGTCTCTTATAAACTGGAGTAGGCAAATCGGAACT->CTAGAGTCTGAAACCTTTCTCTTATAAACTGGAGTAGGCAAATCGGAACT\n",
      "ACAGTCTGCCGTGAGTCCAACTGTCGACCCGCTAGTTCCGCGGCGTGGAT->ACGGTCTGCCGTGAGTCCAACTGTCGACCCGCTAGTTCCGCGGCGTGGAT\n",
      "AGTGCTAGAGCTCGATCCTAGAGGCTGAAACCTTTCTCTTATAAACTGGA->AGTGCTAGAGCTCGATCCTAGAGTCTGAAACCTTTCTCTTATAAACTGGA\n",
      "CTAGAGTCTGAAACCTATCTCTTATAAACTGGAGTAGGCAAATCGGAACT->CTAGAGTCTGAAACCTTTCTCTTATAAACTGGAGTAGGCAAATCGGAACT\n",
      "TCGGAACTTAGAATCTGCAACGTAACGGACTGCCGTGAGTCCAACTGTCG->TCGGAACTTAGAATCTGCAACGTAACGGTCTGCCGTGAGTCCAACTGTCG\n",
      "AGTCAGAAACCTTTCTCTTATAAACTGGAGTAGGCAAATCGGAACTTAGA->AGTCTGAAACCTTTCTCTTATAAACTGGAGTAGGCAAATCGGAACTTAGA\n",
      "ATCCTAGAGTCAGAAACCTTTCTCTTATAAACTGGAGTAGGCAAATCGGA->ATCCTAGAGTCTGAAACCTTTCTCTTATAAACTGGAGTAGGCAAATCGGA\n",
      "GAAACCTTTCTCTTATAAACTGGAGTAGGCAAATCGGAAGTTAGAATCTG->GAAACCTTTCTCTTATAAACTGGAGTAGGCAAATCGGAACTTAGAATCTG\n",
      "TCTCTTATAAACTGGAGTAGGCAAATCGGTACTTAGAATCTGCAACGTAA->TCTCTTATAAACTGGAGTAGGCAAATCGGAACTTAGAATCTGCAACGTAA\n",
      "GCAGTGCTAGAGCTCGATCCTAGAGTCTGAAACCTTTCTCTTATAAACTT->GCAGTGCTAGAGCTCGATCCTAGAGTCTGAAACCTTTCTCTTATAAACTG\n",
      "TACTGCAGTGCTAGAGCTCGATCCTAGAGTCTGAAATCTTTCTCTTATAA->TACTGCAGTGCTAGAGCTCGATCCTAGAGTCTGAAACCTTTCTCTTATAA\n",
      "ACGCTCTGCCGTGAGTCCAACTGTCGACCCGCTAGTTCCGCGGCGTGGAT->ACGGTCTGCCGTGAGTCCAACTGTCGACCCGCTAGTTCCGCGGCGTGGAT\n",
      "AGGCAAATCGGAACTTAGAATCTGCAACCTAACGGTCTGCCGTGAGTCCA->AGGCAAATCGGAACTTAGAATCTGCAACGTAACGGTCTGCCGTGAGTCCA\n",
      "AGAGCTCGATCCCAGAGTCTGAAACCTTTCTCTTATAAACTGGAGTAGGC->AGAGCTCGATCCTAGAGTCTGAAACCTTTCTCTTATAAACTGGAGTAGGC\n",
      "CTCGATCCTAGAGTCTGAAACCTTTCTCTTATAAACTGGAGTAGGCAAAC->CTCGATCCTAGAGTCTGAAACCTTTCTCTTATAAACTGGAGTAGGCAAAT\n",
      "AACCTTTCTCTTATAAACTGGAGTAGGCAAATCTGAACTTAGAATCTGCA->AACCTTTCTCTTATAAACTGGAGTAGGCAAATCGGAACTTAGAATCTGCA\n",
      "GAATCTGCGACGTAACGGTCTGCCGTGAGTCCAACTGTCGACCCGCTAGT->GAATCTGCAACGTAACGGTCTGCCGTGAGTCCAACTGTCGACCCGCTAGT\n",
      "GATCCTAGAGTCTGAAACCTTTCTCTTATAAACTGGAGTGGGCAAATCGG->GATCCTAGAGTCTGAAACCTTTCTCTTATAAACTGGAGTAGGCAAATCGG\n",
      "ACTGGAGTAGGCAAATCGGAACTTAGTATCTGCAACGTAACGGTCTGCCG->ACTGGAGTAGGCAAATCGGAACTTAGAATCTGCAACGTAACGGTCTGCCG\n",
      "ATAAACTGGAGTAGGCAAGTCGGAACTTAGAATCTGCAACGTAACGGTCT->ATAAACTGGAGTAGGCAAATCGGAACTTAGAATCTGCAACGTAACGGTCT\n",
      "TTCTCTTATAAACTGGAGTAGGCAAAACGGAACTTAGAATCTGCAACGTA->TTCTCTTATAAACTGGAGTAGGCAAATCGGAACTTAGAATCTGCAACGTA\n",
      "CCTAGAGTCTGAAACCTTTCTCTTATAAACTGGAGTAGGCAAACCGGAAC->CCTAGAGTCTGAAACCTTTCTCTTATAAACTGGAGTAGGCAAATCGGAAC\n",
      "TGGAGTAGGCAAATCGGAACTTAGAATCTGCAACGTAACGGTCTGGCGTG->TGGAGTAGGCAAATCGGAACTTAGAATCTGCAACGTAACGGTCTGCCGTG\n",
      "GTGCTAGAGCTCGATCCTAGAGTCTGAAACATTTCTCTTATAAACTGGAG->GTGCTAGAGCTCGATCCTAGAGTCTGAAACCTTTCTCTTATAAACTGGAG\n",
      "TCTGCAACGTAACGGTCTGCCGTGAGTCCAACTGTCGACCCGCTAGTTTC->TCTGCAACGTAACGGTCTGCCGTGAGTCCAACTGTCGACCCGCTAGTTCC\n",
      "TAACGGCCTGCCGTGAGTCCAACTGTCGACCCGCTAGTTCCGCGGCGTGG->TAACGGTCTGCCGTGAGTCCAACTGTCGACCCGCTAGTTCCGCGGCGTGG\n",
      "TAACGGTCTGTCGTGAGTCCAACTGTCGACCCGCTAGTTCCGCGGCGTGG->TAACGGTCTGCCGTGAGTCCAACTGTCGACCCGCTAGTTCCGCGGCGTGG\n",
      "ATCCTAGAGTCTGAAACCTTTCTCTTATAAACTGAAGTAGGCAAATCGGA->ATCCTAGAGTCTGAAACCTTTCTCTTATAAACTGGAGTAGGCAAATCGGA\n",
      "GGAACTTAGAATCTGCAACGTAACGGTCTGCCGTGAGTCCAACTGTAGAC->GGAACTTAGAATCTGCAACGTAACGGTCTGCCGTGAGTCCAACTGTCGAC\n",
      "TCCTAGAGTCTCAAACCTTTCTCTTATAAACTGGAGTAGGCAAATCGGAA->TCCTAGAGTCTGAAACCTTTCTCTTATAAACTGGAGTAGGCAAATCGGAA\n",
      "TGCAACGTAACGGTCTGCCGTGAGTCCAACTGTGGACCCGCTAGTTCCGC->TGCAACGTAACGGTCTGCCGTGAGTCCAACTGTCGACCCGCTAGTTCCGC\n",
      "GCTAAAGCTCGATCCTAGAGTCTGAAACCTTTCTCTTATAAACTGGAGTA->GCTAGAGCTCGATCCTAGAGTCTGAAACCTTTCTCTTATAAACTGGAGTA\n",
      "TATAAACTGGAGTAGGCAAATCGGAACTTACAATCTGCAACGTAACGGTC->TATAAACTGGAGTAGGCAAATCGGAACTTAGAATCTGCAACGTAACGGTC\n",
      "TCTCTTATAAACTGGAGTAGGCAAATCTGAACTTAGAATCTGCAACGTAA->TCTCTTATAAACTGGAGTAGGCAAATCGGAACTTAGAATCTGCAACGTAA\n",
      "TAGAATCGGCAACGTAACGGTCTGCCGTGAGTCCAACTGTCGACCCGCTA->TAGAATCTGCAACGTAACGGTCTGCCGTGAGTCCAACTGTCGACCCGCTA\n",
      "ATAAACTGGAGTAGGCAAATCGGAACTTAGAACCTGCAACGTAACGGTCT->ATAAACTGGAGTAGGCAAATCGGAACTTAGAATCTGCAACGTAACGGTCT\n",
      "CGATCCTAGAGTCTGAAACCTTTGTCTTATAAACTGGAGTAGGCAAATCG->CGATCCTAGAGTCTGAAACCTTTCTCTTATAAACTGGAGTAGGCAAATCG\n",
      "TGGAGTAGGCAAATCGGAACTTAGAATCTGCAACCTAACGGTCTGCCGTG->TGGAGTAGGCAAATCGGAACTTAGAATCTGCAACGTAACGGTCTGCCGTG\n",
      "ACCTTTCTCTTATAAACTGTAGTAGGCAAATCGGAACTTAGAATCTGCAA->ACCTTTCTCTTATAAACTGGAGTAGGCAAATCGGAACTTAGAATCTGCAA\n",
      "CGGAACTTAGAATCTGCCACGTAACGGTCTGCCGTGAGTCCAACTGTCGA->CGGAACTTAGAATCTGCAACGTAACGGTCTGCCGTGAGTCCAACTGTCGA\n",
      "TGCTAGAGCTCGATCCTAGAGTCTGAATCCTTTCTCTTATAAACTGGAGT->TGCTAGAGCTCGATCCTAGAGTCTGAAACCTTTCTCTTATAAACTGGAGT\n",
      "TGAAACCTTTCTCTAATAAACTGGAGTAGGCAAATCGGAACTTAGAATCT->TGAAACCTTTCTCTTATAAACTGGAGTAGGCAAATCGGAACTTAGAATCT\n",
      "TGAAACCGTTCTCTTATAAACTGGAGTAGGCAAATCGGAACTTAGAATCT->TGAAACCTTTCTCTTATAAACTGGAGTAGGCAAATCGGAACTTAGAATCT\n",
      "ACTGCAGTGCTAGAGCTCGATCCTAGAGTCTGATACCTTTCTCTTATAAA->ACTGCAGTGCTAGAGCTCGATCCTAGAGTCTGAAACCTTTCTCTTATAAA\n",
      "ATCTGCAACGTAACGGTCTGCCGTGAGTCCAACTGACGACCCGCTAGTTC->ATCTGCAACGTAACGGTCTGCCGTGAGTCCAACTGTCGACCCGCTAGTTC\n",
      "GTGCTAGAGCTCGATCCTAGAGTCTGAAACTTTTCTCTTATAAACTGGAG->GTGCTAGAGCTCGATCCTAGAGTCTGAAACCTTTCTCTTATAAACTGGAG\n",
      "TTTCTCTTATAAACTGGAGTAGGCAAATCGGCACTTAGAATCTGCAACGT->TTTCTCTTATAAACTGGAGTAGGCAAATCGGAACTTAGAATCTGCAACGT\n",
      "CCTTTCTCTTATAAACTGGATTAGGCAAATCGGAACTTAGAATCTGCAAC->CCTTTCTCTTATAAACTGGAGTAGGCAAATCGGAACTTAGAATCTGCAAC\n",
      "TCTGAAACCTTTCTCTTATAAAATGGAGTAGGCAAATCGGAACTTAGAAT->TCTGAAACCTTTCTCTTATAAACTGGAGTAGGCAAATCGGAACTTAGAAT\n",
      "GGCAAATCGGAACTTACAATCTGCAACGTAACGGTCTGCCGTGAGTCCAA->GGCAAATCGGAACTTAGAATCTGCAACGTAACGGTCTGCCGTGAGTCCAA\n",
      "ACTGGAGTAGGCAAATCGGAACTTACAATCTGCAACGTAACGGTCTGCCG->ACTGGAGTAGGCAAATCGGAACTTAGAATCTGCAACGTAACGGTCTGCCG\n",
      "CAACGTAACGGTCTGCCGTGAGTCCAACTTTCGACCCGCTAGTTCCGCGG->CAACGTAACGGTCTGCCGTGAGTCCAACTGTCGACCCGCTAGTTCCGCGG\n",
      "ATCTGCAACGTAAGGGTCTGCCGTGAGTCCAACTGTCGACCCGCTAGTTC->ATCTGCAACGTAACGGTCTGCCGTGAGTCCAACTGTCGACCCGCTAGTTC\n",
      "GTGCTAGAGCTCGATCCTAGCGTCTGAAACCTTTCTCTTATAAACTGGAG->GTGCTAGAGCTCGATCCTAGAGTCTGAAACCTTTCTCTTATAAACTGGAG\n",
      "GAATCTGCAACGTAACGGTCTGGCGTGAGTCCAACTGTCGACCCGCTAGT->GAATCTGCAACGTAACGGTCTGCCGTGAGTCCAACTGTCGACCCGCTAGT\n",
      "GAACTTAGAATCTTCAACGTAACGGTCTGCCGTGAGTCCAACTGTCGACC->GAACTTAGAATCTGCAACGTAACGGTCTGCCGTGAGTCCAACTGTCGACC\n",
      "AACCTTTCTCTTATAAACTGGAGTAGGCAAATCGGAAATTAGAATCTGCA->AACCTTTCTCTTATAAACTGGAGTAGGCAAATCGGAACTTAGAATCTGCA\n",
      "TAGAGCTCGATCCTAGAGTCTGAAACCTTTCTCTTATAAATTGGAGTAGG->TAGAGCTCGATCCTAGAGTCTGAAACCTTTCTCTTATAAACTGGAGTAGG\n",
      "GCCAATCGGAACTTAGAATCTGCAACGTAACGGTCTGCCGTGAGTCCAAC->GCAAATCGGAACTTAGAATCTGCAACGTAACGGTCTGCCGTGAGTCCAAC\n",
      "ATAAACTGGAGTACGCAAATCGGAACTTAGAATCTGCAACGTAACGGTCT->ATAAACTGGAGTAGGCAAATCGGAACTTAGAATCTGCAACGTAACGGTCT\n",
      "CTAGAGTCTGAAACCTTTCTCATATAAACTGGAGTAGGCAAATCGGAACT->CTAGAGTCTGAAACCTTTCTCTTATAAACTGGAGTAGGCAAATCGGAACT\n",
      "GTAGGCAAATCGGAACGTAGAATCTGCAACGTAACGGTCTGCCGTGAGTC->GTAGGCAAATCGGAACTTAGAATCTGCAACGTAACGGTCTGCCGTGAGTC\n",
      "CAGTGCTAGAGCTCGATCCTTGAGTCTGAAACCTTTCTCTTATAAACTGG->CAGTGCTAGAGCTCGATCCTAGAGTCTGAAACCTTTCTCTTATAAACTGG\n",
      "TAGGCAAATCGGAACTTAGAATCTGCAACGTAACGGTCTGCCGTGGGTCC->TAGGCAAATCGGAACTTAGAATCTGCAACGTAACGGTCTGCCGTGAGTCC\n",
      "AGTGCTAGAGCTCGATCTTAGAGTCTGAAACCTTTCTCTTATAAACTGGA->AGTGCTAGAGCTCGATCCTAGAGTCTGAAACCTTTCTCTTATAAACTGGA\n",
      "CTGAAACCTTTCTCTTATAAACTGGAGTAGGCCAATCGGAACTTAGAATC->CTGAAACCTTTCTCTTATAAACTGGAGTAGGCAAATCGGAACTTAGAATC\n",
      "GCTCGATCCTAGAGTCTGAAACCTTTCTGTTATAAACTGGAGTAGGCAAA->GCTCGATCCTAGAGTCTGAAACCTTTCTCTTATAAACTGGAGTAGGCAAA\n",
      "CAACGTAACGGTCTGCCGTGAGTCCAACTGTCGGCCCGCTAGTTCCGCGG->CAACGTAACGGTCTGCCGTGAGTCCAACTGTCGACCCGCTAGTTCCGCGG\n",
      "TAAACTGGAGTAGGCAAATCGGAACTCAGAATCTGCAACGTAACGGTCTG->TAAACTGGAGTAGGCAAATCGGAACTTAGAATCTGCAACGTAACGGTCTG\n",
      "TGCTCTTATAAACTGGAGTAGGCAAATCGGAACTTAGAATCTGCAACGTA->TTCTCTTATAAACTGGAGTAGGCAAATCGGAACTTAGAATCTGCAACGTA\n",
      "CTGCAGTGCTAGAGCTCGATACTAGAGTCTGAAACCTTTCTCTTATAAAC->CTGCAGTGCTAGAGCTCGATCCTAGAGTCTGAAACCTTTCTCTTATAAAC\n",
      "ACGTAACGTTCTGCCGTGAGTCCAACTGTCGACCCGCTAGTTCCGCGGCG->ACGTAACGGTCTGCCGTGAGTCCAACTGTCGACCCGCTAGTTCCGCGGCG\n",
      "TGCTAGAGCTCGATCCTAGAGTCTGAAACCCTTCTCTTATAAACTGGAGT->TGCTAGAGCTCGATCCTAGAGTCTGAAACCTTTCTCTTATAAACTGGAGT\n",
      "ACTGCAGTGCTAGAGCTCGATCCTAGAGTCGGAAACCTTTCTCTTATAAA->ACTGCAGTGCTAGAGCTCGATCCTAGAGTCTGAAACCTTTCTCTTATAAA\n",
      "CGAAACCTTTCTCTTATAAACTGGAGTAGGCAAATCGGAACTTAGAATCT->TGAAACCTTTCTCTTATAAACTGGAGTAGGCAAATCGGAACTTAGAATCT\n",
      "AATCCTAGAGTCTGAAACCTTTCTCTTATAAACTGGAGTAGGCAAATCGG->GATCCTAGAGTCTGAAACCTTTCTCTTATAAACTGGAGTAGGCAAATCGG\n",
      "AGAGCTCGATCCTAGAGTCAGAAACCTTTCTCTTATAAACTGGAGTAGGC->AGAGCTCGATCCTAGAGTCTGAAACCTTTCTCTTATAAACTGGAGTAGGC\n",
      "TAACGGTCTGCCGTGAGTCCAACTGTCGACCCGCTAGTTGCGCGGCGTGG->TAACGGTCTGCCGTGAGTCCAACTGTCGACCCGCTAGTTCCGCGGCGTGG\n",
      "TCTGCAACGTAACGGTCTGCCGTGAGTCCAAATGTCGACCCGCTAGTTCC->TCTGCAACGTAACGGTCTGCCGTGAGTCCAACTGTCGACCCGCTAGTTCC\n",
      "GTAACGGTCTGCCGTGAGTCCAACTGTCGACCCGCTAGTTCCGCGTCGTG->GTAACGGTCTGCCGTGAGTCCAACTGTCGACCCGCTAGTTCCGCGGCGTG\n",
      "AACTTAGATTCTGCAACGTAACGGTCTGCCGTGAGTCCAACTGTCGACCC->AACTTAGAATCTGCAACGTAACGGTCTGCCGTGAGTCCAACTGTCGACCC\n",
      "TGGAGTCTGAAACCTTTCTCTTATAAACTGGAGTAGGCAAATCGGAACTT->TAGAGTCTGAAACCTTTCTCTTATAAACTGGAGTAGGCAAATCGGAACTT\n",
      "AGAATCCGCAACGTAACGGTCTGCCGTGAGTCCAACTGTCGACCCGCTAG->AGAATCTGCAACGTAACGGTCTGCCGTGAGTCCAACTGTCGACCCGCTAG\n",
      "GTAACGGTCTGCCGTGAGTCCAAATGTCGACCCGCTAGTTCCGCGGCGTG->GTAACGGTCTGCCGTGAGTCCAACTGTCGACCCGCTAGTTCCGCGGCGTG\n",
      "TTCTCTTATGAACTGGAGTAGGCAAATCGGAACTTAGAATCTGCAACGTA->TTCTCTTATAAACTGGAGTAGGCAAATCGGAACTTAGAATCTGCAACGTA\n",
      "TATAAACTGGGGTAGGCAAATCGGAACTTAGAATCTGCAACGTAACGGTC->TATAAACTGGAGTAGGCAAATCGGAACTTAGAATCTGCAACGTAACGGTC\n",
      "TGCAGTGCTAGAGCTCGATCCTAGAGTCTGAAACCTTTCTCTTATCAACT->TGCAGTGCTAGAGCTCGATCCTAGAGTCTGAAACCTTTCTCTTATAAACT\n",
      "GCAGTGCTAGAGCTCGATCCTAGAGTCTGGAACCTTTCTCTTATAAACTG->GCAGTGCTAGAGCTCGATCCTAGAGTCTGAAACCTTTCTCTTATAAACTG\n",
      "GTAGGGAAATCGGAACTTAGAATCTGCAACGTAACGGTCTGCCGTGAGTC->GTAGGCAAATCGGAACTTAGAATCTGCAACGTAACGGTCTGCCGTGAGTC\n",
      "CTTAGAATCTGCAAGGTAACGGTCTGCCGTGAGTCCAACTGTCGACCCGC->CTTAGAATCTGCAACGTAACGGTCTGCCGTGAGTCCAACTGTCGACCCGC\n",
      "TCGGAACTTAGAATCTGCAACGTAACGGTCTGCCGTGCGTCCAACTGTCG->TCGGAACTTAGAATCTGCAACGTAACGGTCTGCCGTGAGTCCAACTGTCG\n",
      "ATCTGCAACGTAACCGTCTGCCGTGAGTCCAACTGTCGACCCGCTAGTTC->ATCTGCAACGTAACGGTCTGCCGTGAGTCCAACTGTCGACCCGCTAGTTC\n",
      "TGCAACGTAACGGTCTGCCGTGAGTCAAACTGTCGACCCGCTAGTTCCGC->TGCAACGTAACGGTCTGCCGTGAGTCCAACTGTCGACCCGCTAGTTCCGC\n",
      "TGCTAGAGCTCGATCCTAGAGTCTGAAACCTTTCTCTTATAAACGGGAGT->TGCTAGAGCTCGATCCTAGAGTCTGAAACCTTTCTCTTATAAACTGGAGT\n",
      "ATAAACTGGAGTAAGCAAATCGGAACTTAGAATCTGCAACGTAACGGTCT->ATAAACTGGAGTAGGCAAATCGGAACTTAGAATCTGCAACGTAACGGTCT\n",
      "GAAACCTTACTCTTATAAACTGGAGTAGGCAAATCGGAACTTAGAATCTG->GAAACCTTTCTCTTATAAACTGGAGTAGGCAAATCGGAACTTAGAATCTG\n",
      "AGGCAAATCGGAACTTAGATTCTGCAACGTAACGGTCTGCCGTGAGTCCA->AGGCAAATCGGAACTTAGAATCTGCAACGTAACGGTCTGCCGTGAGTCCA\n",
      "CCTTTCTCTTATAAACTGGAGTAGGCAAATCGGAACTTAGAATCTCCAAC->CCTTTCTCTTATAAACTGGAGTAGGCAAATCGGAACTTAGAATCTGCAAC\n",
      "GCAAATCGGAACTTAGAATCTGCTACGTAACGGTCTGCCGTGAGTCCAAC->GCAAATCGGAACTTAGAATCTGCAACGTAACGGTCTGCCGTGAGTCCAAC\n",
      "TGCAGTGCTAGAGCTCGATCCTAGAGTCTGAAACCTTTATCTTATAAACT->TGCAGTGCTAGAGCTCGATCCTAGAGTCTGAAACCTTTCTCTTATAAACT\n",
      "GAATCTGCAACGTAACGGTCTGCCGTGAGTCCAACTGTCGACCCTCTAGT->GAATCTGCAACGTAACGGTCTGCCGTGAGTCCAACTGTCGACCCGCTAGT\n",
      "GATCCTAGAGTCTGAAACCTTTCTCTTATAAACTGGAGTAGGCAAAACGG->GATCCTAGAGTCTGAAACCTTTCTCTTATAAACTGGAGTAGGCAAATCGG\n",
      "CTGCAGTGCTAGAGCTCGATCCTAGAGTCTGAAACCTTTCTCTTTTAAAC->CTGCAGTGCTAGAGCTCGATCCTAGAGTCTGAAACCTTTCTCTTATAAAC\n",
      "CTGCAGTGCTAGAGCTTGATCCTAGAGTCTGAAACCTTTCTCTTATAAAC->CTGCAGTGCTAGAGCTCGATCCTAGAGTCTGAAACCTTTCTCTTATAAAC\n",
      "AACTTAGAATCTGCAACGTAACGGTCTGCCCTGAGTCCAACTGTCGACCC->AACTTAGAATCTGCAACGTAACGGTCTGCCGTGAGTCCAACTGTCGACCC\n",
      "GAATCTGCAACGTAACGGTCTGACGTGAGTCCAACTGTCGACCCGCTAGT->GAATCTGCAACGTAACGGTCTGCCGTGAGTCCAACTGTCGACCCGCTAGT\n",
      "TCTTAGAATCTGCAACGTAACGGTCTGCCGTGAGTCCAACTGTCGACCCG->ACTTAGAATCTGCAACGTAACGGTCTGCCGTGAGTCCAACTGTCGACCCG\n",
      "GCTCGATCCTAGAGTCTGAAACCTTTCTCTTATAAACTGGAGTAGGCCAA->GCTCGATCCTAGAGTCTGAAACCTTTCTCTTATAAACTGGAGTAGGCAAA\n",
      "TGAAACCTTTCTCTTTTAAACTGGAGTAGGCAAATCGGAACTTAGAATCT->TGAAACCTTTCTCTTATAAACTGGAGTAGGCAAATCGGAACTTAGAATCT\n",
      "CGGAACTTAGAATCTGAAACGTAACGGTCTGCCGTGAGTCCAACTGTCGA->CGGAACTTAGAATCTGCAACGTAACGGTCTGCCGTGAGTCCAACTGTCGA\n",
      "AGTGCTACAGCTCGATCCTAGAGTCTGAAACCTTTCTCTTATAAACTGGA->AGTGCTAGAGCTCGATCCTAGAGTCTGAAACCTTTCTCTTATAAACTGGA\n",
      "TAGAATCTGCAACGTAACGGTCTGCTGTGAGTCCAACTGTCGACCCGCTA->TAGAATCTGCAACGTAACGGTCTGCCGTGAGTCCAACTGTCGACCCGCTA\n",
      "TCTGCAACGTAACGGTCTGCCGTGAGTCCAACTGTCCACCCGCTAGTTCC->TCTGCAACGTAACGGTCTGCCGTGAGTCCAACTGTCGACCCGCTAGTTCC\n",
      "TACTGCAGTGCTAGAGCTCGATCCTAGAGTGTGAAACCTTTCTCTTATAA->TACTGCAGTGCTAGAGCTCGATCCTAGAGTCTGAAACCTTTCTCTTATAA\n",
      "GCAGTGCTAGAGCTCGATCCTAGAGTCTGAAACCTTTCTCTTATAAACAG->GCAGTGCTAGAGCTCGATCCTAGAGTCTGAAACCTTTCTCTTATAAACTG\n",
      "GCAGTGCTAGAGCTCGATCCTACAGTCTGAAACCTTTCTCTTATAAACTG->GCAGTGCTAGAGCTCGATCCTAGAGTCTGAAACCTTTCTCTTATAAACTG\n",
      "TAGAGCTCAATCCTAGAGTCTGAAACCTTTCTCTTATAAACTGGAGTAGG->TAGAGCTCGATCCTAGAGTCTGAAACCTTTCTCTTATAAACTGGAGTAGG\n",
      "GAGCTCGATCCTAGAGTCTGAAACCTTTCTCTTATAAACAGGAGTAGGCA->GAGCTCGATCCTAGAGTCTGAAACCTTTCTCTTATAAACTGGAGTAGGCA\n",
      "CTTAGAATCTGCAACGTAACGGTCTGCCGTGAGTCCAACTGTCCACCCGC->CTTAGAATCTGCAACGTAACGGTCTGCCGTGAGTCCAACTGTCGACCCGC\n",
      "GCTAGAGCTCGATCCTAGAGTGTGAAACCTTTCTCTTATAAACTGGAGTA->GCTAGAGCTCGATCCTAGAGTCTGAAACCTTTCTCTTATAAACTGGAGTA\n",
      "CTAGAGTCTGAAACCTTTCTCTTATAAACTGGAGTAGGCATATCGGAACT->CTAGAGTCTGAAACCTTTCTCTTATAAACTGGAGTAGGCAAATCGGAACT\n",
      "AGTAGGCAAATCGGAACTTAGAATCTGCAGCGTAACGGTCTGCCGTGAGT->AGTAGGCAAATCGGAACTTAGAATCTGCAACGTAACGGTCTGCCGTGAGT\n",
      "GCAAATCGGAACTTAGAATCTGCAACGTAACGGTCTGCCGTAAGTCCAAC->GCAAATCGGAACTTAGAATCTGCAACGTAACGGTCTGCCGTGAGTCCAAC\n",
      "CTTATAAACTGGAGTAGGCAAATCGGAACTTAGAATCCGCAACGTAACGG->CTTATAAACTGGAGTAGGCAAATCGGAACTTAGAATCTGCAACGTAACGG\n",
      "CTAGAGTCTGAAACCTTTCTCTTATAAACTGGAGTAGGCTAATCGGAACT->CTAGAGTCTGAAACCTTTCTCTTATAAACTGGAGTAGGCAAATCGGAACT\n",
      "CCTGCAGTGCTAGAGCTCGATCCTAGAGTCTGAAACCTTTCTCTTATAAA->ACTGCAGTGCTAGAGCTCGATCCTAGAGTCTGAAACCTTTCTCTTATAAA\n",
      "GATCCAAGAGTCTGAAACCTTTCTCTTATAAACTGGAGTAGGCAAATCGG->GATCCTAGAGTCTGAAACCTTTCTCTTATAAACTGGAGTAGGCAAATCGG\n",
      "ACTGGAGTAGGCAATTCGGAACTTAGAATCTGCAACGTAACGGTCTGCCG->ACTGGAGTAGGCAAATCGGAACTTAGAATCTGCAACGTAACGGTCTGCCG\n",
      "TGCTAGAGCTCGATCCTAGAGTCTGAAACCTTTCTCTTTTAAACTGGAGT->TGCTAGAGCTCGATCCTAGAGTCTGAAACCTTTCTCTTATAAACTGGAGT\n",
      "GCAAATCGGAACTTAGAATCTGCAACGTAACGGTCTACCGTGAGTCCAAC->GCAAATCGGAACTTAGAATCTGCAACGTAACGGTCTGCCGTGAGTCCAAC\n",
      "CTCGATCCTAGAGTCTGAAACCTTTCTCTTATAAACTGGAGTAGGAAAAT->CTCGATCCTAGAGTCTGAAACCTTTCTCTTATAAACTGGAGTAGGCAAAT\n",
      "TAGGCAAGTCGGAACTTAGAATCTGCAACGTAACGGTCTGCCGTGAGTCC->TAGGCAAATCGGAACTTAGAATCTGCAACGTAACGGTCTGCCGTGAGTCC\n",
      "TCGGAACTTAGAATCTGCAACGTAACGGTCTGTCGTGAGTCCAACTGTCG->TCGGAACTTAGAATCTGCAACGTAACGGTCTGCCGTGAGTCCAACTGTCG\n",
      "TAGAGTTTGAAACCTTTCTCTTATAAACTGGAGTAGGCAAATCGGAACTT->TAGAGTCTGAAACCTTTCTCTTATAAACTGGAGTAGGCAAATCGGAACTT\n",
      "CTCGATCCTAGAGTCTGAAACCTTTCTCTTATAAACTCGAGTAGGCAAAT->CTCGATCCTAGAGTCTGAAACCTTTCTCTTATAAACTGGAGTAGGCAAAT\n",
      "GAACTTAGAATCTGCAACGTAACGATCTGCCGTGAGTCCAACTGTCGACC->GAACTTAGAATCTGCAACGTAACGGTCTGCCGTGAGTCCAACTGTCGACC\n",
      "CTCGATCCTAGAGTCTGAAACCTTTCTCTTATAAACTGGAGTAGGCAACT->CTCGATCCTAGAGTCTGAAACCTTTCTCTTATAAACTGGAGTAGGCAAAT\n",
      "AACTTAGAATCAGCAACGTAACGGTCTGCCGTGAGTCCAACTGTCGACCC->AACTTAGAATCTGCAACGTAACGGTCTGCCGTGAGTCCAACTGTCGACCC\n",
      "GGAACTTAGAATCTGCAACGTAACGTTCTGCCGTGAGTCCAACTGTCGAC->GGAACTTAGAATCTGCAACGTAACGGTCTGCCGTGAGTCCAACTGTCGAC\n",
      "TGCTAGAGCTCGATCCTAGCGTCTGAAACCTTTCTCTTATAAACTGGAGT->TGCTAGAGCTCGATCCTAGAGTCTGAAACCTTTCTCTTATAAACTGGAGT\n",
      "GAGTCTGAAACCTTTCTCTTATAAACTGGAGTCGGCAAATCGGAACTTAG->GAGTCTGAAACCTTTCTCTTATAAACTGGAGTAGGCAAATCGGAACTTAG\n",
      "TAGAATCTGCAACGTAACGGTCTGCCGTGGGTCCAACTGTCGACCCGCTA->TAGAATCTGCAACGTAACGGTCTGCCGTGAGTCCAACTGTCGACCCGCTA\n",
      "TATAAACTGGAGTAGGCAAATCGGAACTTAGAATCTGCAACTTAACGGTC->TATAAACTGGAGTAGGCAAATCGGAACTTAGAATCTGCAACGTAACGGTC\n",
      "CGATCCTAGAGTCTGAAACCTTTCTCTTTTAAACTGGAGTAGGCAAATCG->CGATCCTAGAGTCTGAAACCTTTCTCTTATAAACTGGAGTAGGCAAATCG\n",
      "AGAGCTCGATCCTGGAGTCTGAAACCTTTCTCTTATAAACTGGAGTAGGC->AGAGCTCGATCCTAGAGTCTGAAACCTTTCTCTTATAAACTGGAGTAGGC\n",
      "ATCTGCAACGTAACGGTCTGCCGTGAGTCCAACTGTCGACCCGCTACTTC->ATCTGCAACGTAACGGTCTGCCGTGAGTCCAACTGTCGACCCGCTAGTTC\n",
      "TAGGCAAATCGGAACTTAGACTCTGCAACGTAACGGTCTGCCGTGAGTCC->TAGGCAAATCGGAACTTAGAATCTGCAACGTAACGGTCTGCCGTGAGTCC\n",
      "GCTAGAGCTCGAGCCTAGAGTCTGAAACCTTTCTCTTATAAACTGGAGTA->GCTAGAGCTCGATCCTAGAGTCTGAAACCTTTCTCTTATAAACTGGAGTA\n",
      "GCAACGTAACGGTCTGCCGTGAGTCCAACTGTCGACCCGCTAGTACCGCG->GCAACGTAACGGTCTGCCGTGAGTCCAACTGTCGACCCGCTAGTTCCGCG\n",
      "TCCTAGAGTCGGAAACCTTTCTCTTATAAACTGGAGTAGGCAAATCGGAA->TCCTAGAGTCTGAAACCTTTCTCTTATAAACTGGAGTAGGCAAATCGGAA\n",
      "ATCCTAGAGTCTGTAACCTTTCTCTTATAAACTGGAGTAGGCAAATCGGA->ATCCTAGAGTCTGAAACCTTTCTCTTATAAACTGGAGTAGGCAAATCGGA\n",
      "CTGCAGTGCTAGAGCTCGATCCTAGAGACTGAAACCTTTCTCTTATAAAC->CTGCAGTGCTAGAGCTCGATCCTAGAGTCTGAAACCTTTCTCTTATAAAC\n",
      "AGTCTGAAACCTTTCTCATATAAACTGGAGTAGGCAAATCGGAACTTAGA->AGTCTGAAACCTTTCTCTTATAAACTGGAGTAGGCAAATCGGAACTTAGA\n",
      "ACTGCAGTGCTAGAGCTCGATCCTAGAGTCTAAAACCTTTCTCTTATAAA->ACTGCAGTGCTAGAGCTCGATCCTAGAGTCTGAAACCTTTCTCTTATAAA\n",
      "TTTCTCTTATTAACTGGAGTAGGCAAATCGGAACTTAGAATCTGCAACGT->TTTCTCTTATAAACTGGAGTAGGCAAATCGGAACTTAGAATCTGCAACGT\n",
      "CTTATAATCTGCAACGTAACGGTCTGCCGTGAGTCCAACTGTCGACCCGC->CTTAGAATCTGCAACGTAACGGTCTGCCGTGAGTCCAACTGTCGACCCGC\n",
      "AACTTAGAATCTGCAACGTAACGGTCTGCCGTGAGTCCAAATGTCGACCC->AACTTAGAATCTGCAACGTAACGGTCTGCCGTGAGTCCAACTGTCGACCC\n",
      "ACCTTTCTCTTATAAACTGGAGTAGGCAAATCGGAACTTATAATCTGCAA->ACCTTTCTCTTATAAACTGGAGTAGGCAAATCGGAACTTAGAATCTGCAA\n",
      "AACTTAGAATCTGCAACGTAACGGTCTGCCGTGAGTCCAACTGGCGACCC->AACTTAGAATCTGCAACGTAACGGTCTGCCGTGAGTCCAACTGTCGACCC\n",
      "ACAATCTGCAACGTAACGGTCTGCCGTGAGTCCAACTGTCGACCCGCTAG->AGAATCTGCAACGTAACGGTCTGCCGTGAGTCCAACTGTCGACCCGCTAG\n",
      "CGGAACTTAGAATCTGCAACGTAACGGTCTGCCGTGAGTCAAACTGTCGA->CGGAACTTAGAATCTGCAACGTAACGGTCTGCCGTGAGTCCAACTGTCGA\n",
      "GGAGTAGGCAAATCGGAACTTAGAATCTGCAACGTAACGGGCTGCCGTGA->GGAGTAGGCAAATCGGAACTTAGAATCTGCAACGTAACGGTCTGCCGTGA\n",
      "CTTTCTCTTATAAACTGCAGTAGGCAAATCGGAACTTAGAATCTGCAACG->CTTTCTCTTATAAACTGGAGTAGGCAAATCGGAACTTAGAATCTGCAACG\n"
     ]
    }
   ],
   "source": [
    "code = \"corr\"\n",
    "\n",
    "file=read_fasta(code)\n",
    "fastas=[]\n",
    "for fasta in file:\n",
    "    fastas.append(str(fasta.seq))\n",
    "\n",
    "torem=[]\n",
    "\n",
    "def hamm(s,t):\n",
    "    hamm=0\n",
    "    if len(s)!=len(t):\n",
    "        print(s)\n",
    "        print(t)\n",
    "    for pos in range(len(s)):\n",
    "        if s[pos]!=t[pos]:\n",
    "            hamm+=1\n",
    "    return hamm\n",
    "\n",
    "corre={'correct':[],\"incorrect\":[]}\n",
    "\n",
    "for i in range(len(fastas)):\n",
    "    for j in range(len(fastas)):\n",
    "        if i==j:\n",
    "            continue\n",
    "        fasta=fastas[i]\n",
    "        fasta2=fastas[j]\n",
    "        if fasta not in corre['correct']:\n",
    "            if hamm(fasta,fasta2)==0 or hamm(fasta,reversecomp(fasta2))==0:\n",
    "                corre['correct']=corre['correct']+[fasta,reversecomp(fasta)]\n",
    "for fasta in fastas:\n",
    "    if fasta not in corre['correct']:\n",
    "        corre['incorrect']=corre['incorrect']+[fasta]\n",
    "        \n",
    "        \n",
    "for ifasta in corre['incorrect']:\n",
    "    for cfasta in corre['correct']:\n",
    "        if hamm(ifasta,cfasta)==1:\n",
    "            print(ifasta,end='->')\n",
    "            print(cfasta)\n",
    "            break\n",
    "        elif hamm(ifasta,reversecomp(cfasta))==1:\n",
    "            print(ifasta,end='->')\n",
    "            print(reversecomp(cfasta))\n",
    "            break\n"
   ]
  },
  {
   "cell_type": "code",
   "execution_count": 77,
   "id": "f587479c",
   "metadata": {},
   "outputs": [
    {
     "name": "stdout",
     "output_type": "stream",
     "text": [
      "59\n"
     ]
    }
   ],
   "source": [
    "code = \"tree\"\n",
    "\n",
    "file=read(code)\n",
    "\n",
    "n=int(file.readline()[:-1])\n",
    "edges=0\n",
    "for line in file.readlines():\n",
    "    if line!='\\n':\n",
    "        edges+=1\n",
    "print(n-edges-1)\n"
   ]
  },
  {
   "cell_type": "code",
   "execution_count": 63,
   "id": "70ecfc0f",
   "metadata": {},
   "outputs": [
    {
     "name": "stdout",
     "output_type": "stream",
     "text": [
      "AAGGTTTTCAGA\n",
      "3 18 20 25 32 33 40 41 52 65 67 71 "
     ]
    }
   ],
   "source": [
    "code = \"sseq\"\n",
    "\n",
    "file=read_fasta(code)\n",
    "\n",
    "s=''\n",
    "for fasta in file:\n",
    "    if s=='':\n",
    "        s=str(fasta.seq)\n",
    "    else:\n",
    "        t=str(fasta.seq)\n",
    "\n",
    "pos=0\n",
    "res=[]\n",
    "\n",
    "\n",
    "for bpt in t:\n",
    "    while bpt!=s[pos]:\n",
    "        pos+=1\n",
    "    pos+=1\n",
    "    res.append(pos)\n",
    "for i in res:\n",
    "    print(i,end=' ')"
   ]
  },
  {
   "cell_type": "code",
   "execution_count": 178,
   "id": "f83c9611",
   "metadata": {},
   "outputs": [
    {
     "name": "stdout",
     "output_type": "stream",
     "text": [
      "133 240 343 346 357 384 391 430 484 537 565 575 592 648 680 774 888 899 981 993 1032 1077 1166 1261 1313 1317 1356 1427 1439 1460 1479 1599 1634 1645 1691 1802 1820 1873 2016 2029 2035 2129 2159 2162 2202 2242 2396 2406 2452 2462 2521 2530 2531 2602 2673 2792 2801 2890 2932 2974 3130 3140 3142 3152 3167 3177 3210 3228 3285 3288 3406 3470 3583 3624 3650 3696 3699 3703 3733 3805 3811 3852 3983 4000 4046 4106 4177 4246 4314 4338 4349 4368 4400 4472 4651 4667 4669 4685 4695 4705 4831 4836 4890 4898 4927 4939 4952 4983 4990 5002 5090 5108 5185 5263 5307 5370 5381 5387 5409 5458 5563 5630 5718 5725 5728 5767 5821 5834 5863 5910 5932 5977 6042 6054 6077 6089 6113 6139 6141 6225 6239 6345 6381 6385 6416 6487 6505 6625 6703 6746 6881 6922 6959 7078 7080 7106 7172 7189 7192 7213 7229 7234 7267 7317 7490 7501 7515 7543 7561 7631 7674 7769 7894 7901 \n",
      "8009 7988 7962 7858 7645 7622 7491 7487 7460 7431 7294 7293 7244 7162 7158 7152 7119 7113 7087 7016 7003 6977 6958 6869 6853 6849 6755 6666 6653 6630 6619 6592 6591 6504 6494 6449 6429 6417 6373 6219 6156 6131 6096 6066 6058 6011 6000 5972 5964 5962 5951 5946 5916 5829 5818 5781 5613 5460 5427 5328 5319 5267 5215 5186 5182 5180 5150 5056 5024 4992 4970 4929 4803 4767 4756 4686 4568 4558 4524 4513 4487 4452 4403 4353 4327 4314 4293 4279 4167 4135 4102 4036 3739 3593 3591 3585 3499 3497 3479 3455 3447 3395 3344 3266 3262 3241 3227 3158 3136 3068 3066 3053 3033 3011 2996 2839 2785 2767 2762 2752 2667 2649 2644 2639 2584 2571 2561 2522 2470 2468 2457 2443 2435 2392 2365 2358 2320 2314 2282 2258 2215 2139 2089 2075 2065 2004 1910 1821 1751 1731 1677 1673 1666 1641 1610 1498 1359 1293 1266 1190 1115 1092 1019 921 846 764 678 612 568 553 512 509 267 200 137 6 "
     ]
    }
   ],
   "source": [
    "code = \"lgis\"\n",
    "\n",
    "file=read(code)\n",
    "\n",
    "n=0\n",
    "for line in file:\n",
    "    if n==0:\n",
    "        n=int(line)\n",
    "    else:\n",
    "        line=line.replace('\\n','')\n",
    "        numseq = np.array( [int(i) for i in line.split(' ')] )\n",
    "dic={1:[numseq[0]]}\n",
    "\n",
    "breaking=0\n",
    "for x in numseq:\n",
    "    for i in range(1,len(dic)+1):\n",
    "        breaking=0\n",
    "        #print(dic[i][-1])\n",
    "        #print(x)\n",
    "        if int(dic[i][-1])>=x:\n",
    "            #print('enter')\n",
    "            if i==1:\n",
    "                dic[i][-1]=x\n",
    "            else:\n",
    "                dic[i]=dic[i-1]+[x]\n",
    "            breaking=1\n",
    "            #print(dic[i])\n",
    "            break\n",
    "    if breaking==0:\n",
    "        #print('woooo')\n",
    "        d=len(dic)\n",
    "        #print(dic[d])\n",
    "        dic[d+1]=dic[d]+[x]\n",
    "    #print(dic)\n",
    "for i in np.array(dic[len(dic)]):\n",
    "    print(i,end=\" \")\n",
    "print()\n",
    "    \n",
    "numseq=len(numseq)-numseq\n",
    "dic={1:[numseq[0]]}\n",
    "\n",
    "breaking=0\n",
    "for x in numseq:\n",
    "    for i in range(1,len(dic)+1):\n",
    "        breaking=0\n",
    "        #print(dic[i][-1])\n",
    "        if int(dic[i][-1])>=x:\n",
    "            #print('enter')\n",
    "            if i==1:\n",
    "                dic[i][-1]=x\n",
    "            else:\n",
    "                dic[i]=dic[i-1]+[x]\n",
    "            breaking=1\n",
    "            break\n",
    "    if breaking==0:\n",
    "        #print('woooo')\n",
    "        d=len(dic)\n",
    "        #print(dic[d].copy())\n",
    "        dic[d+1]=dic[d]+[x]\n",
    "\n",
    "for i in (len(numseq)-np.array(dic[len(dic)])):\n",
    "    print(i,end=\" \")"
   ]
  },
  {
   "cell_type": "code",
   "execution_count": 54,
   "id": "3942ca8f",
   "metadata": {},
   "outputs": [
    {
     "name": "stdout",
     "output_type": "stream",
     "text": [
      "48\n",
      "-1 -2 -3 \n",
      "-1 -2 3 \n",
      "-1 2 -3 \n",
      "-1 2 3 \n",
      "1 -2 -3 \n",
      "1 -2 3 \n",
      "1 2 -3 \n",
      "1 2 3 \n",
      "-1 -3 -2 \n",
      "-1 -3 2 \n",
      "-1 3 -2 \n",
      "-1 3 2 \n",
      "1 -3 -2 \n",
      "1 -3 2 \n",
      "1 3 -2 \n",
      "1 3 2 \n",
      "-2 -1 -3 \n",
      "-2 -1 3 \n",
      "-2 1 -3 \n",
      "-2 1 3 \n",
      "2 -1 -3 \n",
      "2 -1 3 \n",
      "2 1 -3 \n",
      "2 1 3 \n",
      "-2 -3 -1 \n",
      "-2 -3 1 \n",
      "-2 3 -1 \n",
      "-2 3 1 \n",
      "2 -3 -1 \n",
      "2 -3 1 \n",
      "2 3 -1 \n",
      "2 3 1 \n",
      "-3 -1 -2 \n",
      "-3 -1 2 \n",
      "-3 1 -2 \n",
      "-3 1 2 \n",
      "3 -1 -2 \n",
      "3 -1 2 \n",
      "3 1 -2 \n",
      "3 1 2 \n",
      "-3 -2 -1 \n",
      "-3 -2 1 \n",
      "-3 2 -1 \n",
      "-3 2 1 \n",
      "3 -2 -1 \n",
      "3 -2 1 \n",
      "3 2 -1 \n",
      "3 2 1 \n"
     ]
    }
   ],
   "source": [
    "code = \"\"\n",
    "\n",
    "#file=read(code)\n",
    "\n",
    "n=3\n",
    "\n",
    "print(math.factorial(n)*(2**n))\n",
    "\n",
    "for x in itertools.permutations([x+1 for x in range(n)]):\n",
    "    for i in range(2**n):\n",
    "        case=bin(i)[2:]\n",
    "        case='0'*(n-len(case))+case\n",
    "        for y in range(len(x)):\n",
    "            if case[y]=='0':\n",
    "                print('-',end='')\n",
    "            print(x[y],end=' ')\n",
    "        print()"
   ]
  },
  {
   "cell_type": "code",
   "execution_count": 28,
   "id": "d3fd2965",
   "metadata": {},
   "outputs": [
    {
     "name": "stdout",
     "output_type": "stream",
     "text": [
      "-76.933 -73.791 -65.424 -63.522 -59.182 -56.543 -55.56 -55.156 -55.164 -56.644 -57.508 -59.509 -63.854 -75.332 "
     ]
    }
   ],
   "source": [
    "code = \"prob\"\n",
    "\n",
    "file=read(code)\n",
    "seq=file.readline()[:-1]\n",
    "arr=file.readline()[:-1]\n",
    "arr=arr.split(' ')\n",
    "arr=[float(x) for x in arr]\n",
    "\n",
    "\n",
    "\n",
    "for gc in arr:\n",
    "    AT=math.log((1-gc)/2,10)\n",
    "    GC=math.log((gc)/2,10)\n",
    "    p=0\n",
    "    for bp in seq:\n",
    "        if bp=='A' or bp=='T':\n",
    "            p+=AT\n",
    "        if bp=='G' or bp=='C':\n",
    "            p+=GC\n",
    "    print(round(p,3),end=' ')"
   ]
  },
  {
   "cell_type": "code",
   "execution_count": 10,
   "id": "1ec12049",
   "metadata": {},
   "outputs": [
    {
     "name": "stdout",
     "output_type": "stream",
     "text": [
      "778817392288148379660189696000000\n"
     ]
    }
   ],
   "source": [
    "code = \"pmch\"\n",
    "\n",
    "file=read_fasta(code)\n",
    "\n",
    "for fasta in file:\n",
    "    seq=str(fasta.seq)\n",
    "x=seq.count('A')\n",
    "y=seq.count('C')\n",
    "\n",
    "print(math.factorial(x)*math.factorial(y))\n",
    "\n"
   ]
  },
  {
   "cell_type": "code",
   "execution_count": 188,
   "id": "9c7664ad",
   "metadata": {},
   "outputs": [
    {
     "name": "stdout",
     "output_type": "stream",
     "text": [
      "AATATTTCTTAGTCGTCGGACAAGAGCCTGCGAGGAATAAGCGGTTACTCGGGTAGTAGGGAGCGTGAGGCGCGGTCTAGTAACGGTAAGAATGGGAACTAAAGACGATACTTAAATATATTTAGTTGCGTCAGCGGTCTTTTATCTGAAACTCCGAAGGAAACTTTCTGACCATCGCATACCAAAGTCTCGTGCCAGACATCGGGACCAATATTTTGCCGTTGGATTTGCTGTTATTGTTTTACGGTGATCGAAAACATGTAAGACCGGGTACAACAGAGTCCTGCGGCTTTTTTACCGGGCGTTCGCGCGGGGATACACCTCATCTAGAAGTAGATGTTGGTGTCAGAGGGGACCGCGGGATGTCCCGTGTTCCGGCAGAATGTGCCCGGCCAGTGACGACCCCGCGCGTAGCGTATGGTGGGCCTCAGTGAAGAGACTCAGAACACTACATCACAACGCTGCCCACGGCCCTCTAGCACATATGTGCGCAAGATGGACACCCCCAGTCCTTTCGACTCAGACACCCTAGAAAGAGGAATCGAATATTCCGTAGATATATCGGTCCATAGAGATACCGCTATGATCGGACTTCCCACCGTCGTAAACCTGGACTAGAACAAAAAAAGTATGAATAGTGAATGATCTAGCTTTATAGCTAGACCTTAAATGCATGCTCAAAAACTGCATTCCCCGAGCAACAGTCGAATCAAAGTTTTCATAAGTCCCGATATCTAACGCACTACAGCCATTAGAACTTAACAAACTCACTCGTCAAGCTAAGGTATCATTGATATTCGTTTAGACACCGTAACGCAGTTGCACCGACTTGGGATCCCGGCTCTGGAACCCGAAAGTCGAGAGCGACAAAGATTCCCGGGGAAGCTTTTCATCCTTGTAAGGTGGCCCAGCGTCGTCGAACACATTGAGCTCGACTGTGTGCACTTCGAATTGGGCATTTTGCAAGATGTAGGCTACGGTCACGTCAGCTAAGAACGGTTGCGCGGGTCTCCCGATATATTGTAAGTAACCCTCTTGGTAATCGCCAAAGTACCGCTAGTGAATGCAAATGTTCGTATTGTAAATCACATCTGTCGTCGAAGTTGATAGGGAGCGAGGTCCCGTCACAGAGTTCCAAGTCTTTCGGTCGCGTTCATTGATCTTGCTATCGTAACACCTACAAGACAAGACAAGTATCTATGGCTTATCGACATCTAGAGGCACCTCCCTCTTCGCATTAACACAGGCTATGATACATAACGCGTCGATGCGCGACGGGGAGCAGTAATCTCGCACTCTGCTTTAGAAAAGCTGTATAGATTTTTGATAAGAACGCTTCTGTTGATAGCGGATAGTGTGTGAAAGCGCTCCTCGCATACTTCGCGGGACAGATTGTAGTCACTGAAAGTTAAGGACGCAGCTAGGCTATCGCACCTAAGAAACCTCATCATGCCTCCTTACTCATATTACATCTCCCTCCCGTTCAATCCCTATTGAGCGCACGCGAGAGAAAGTCTAATCAGGACTGATCCTACTCGACGTACTTAAGTGTTGCGGTATGGACGGAGATACTGCTGTTGTCCCTAATGCATCTTAAGAACCTCTACCTCTGGGCAGTCTGGTTGATGCCGGGTGCCGGCTCTGTTGACTGGTATCATTCACTCATATGCCGGACGACCCACGTAACGTGGCACAAGTAGAACAATTTGACGAGTACCTGGGCCCCGCTAAAATCACCCCTATATGCAGAACATAGGGCGTATTAGTAAGACGTTCGTTGAAACACTTCATAGATCACTTCTATCCTGACTGTTTCTGTCTTCAGCAAGCCTCCTAAGTTAACCTTATAGCGTGGCTAATGTTAAACACTGCAAGTACAAGAGACTACGGCGGAAGAACCGTTTCACTCATTTCATGGAATCACAACGCGCTCTCACGACGGACGCACCCTGCGGACACATCCCTAATGGGGCAACCCGAATCCCCCAAACATGAATTGGCCTCACCTCTGTAATAGGGCGCTGTTCAGGACTATAGGATCCTCGAAACAGACTGGTACTCTAATGCCGTGGCTAGCACATCATTCGACATGTTGGGGTTCTTCAGTCATTTTAAACTCTTTAGATAGGAGGATACCGCGTAAGCAATGAGGTGGCTATATTTGCCCGCGTATGGTATCAATCCTCGTGCTGAGAGCTATAGGCGTCAAATTCTGCATACGACCTCCTCATGAATGATGACAGTGTATGAGTGACTTGTGGGCATTGGGGAGTTTTTCTGCGTTAGATAACATTAAGCGGGCCACCACTTCGATAGCGAAATCAGCAGCAGCCTGGAGGACTTAAATGTACTGATGACCGGGTGCGCGCCCTAGATGTTGAGATGCCTGCATTGCCCTAGTCACATCTAACTGGTGCTCTGCATGAGGCCGGAGGGGAGTCCATAAAGCTCCCTCTGCGCACTCCCCGCCATAGCGTCGGTTGGCCAACGAAAGCGAAGATTCATACCTGCGAACGCGCCCTATTTGACCAAGAAGGTAGGTACGCCTCGGGACTTGCACCCGTAAACAGGTTGCAGAAAAGCAAGAAGGCTGCATTGTCCCCAACGTTGGTGAGGATGGTCAACAGGTGACGTGTGTCTGCCAATTGGCAGGTCATTCGCAGTTCGAGGTGCCAGCGTCACGGGCACGAAAAACTCTAAAGTCCGAATGTTCCTTAACTTTGTTATGCTCACAGAGTCAATTGTACTGAGTCCAACACCGTAGCACAGACAGAACAGCATCCGGGAGCCGAACTCCCAGCGAAACGGGTGTACGCCCGCAATGGAGTATTGATTGCTTTAATACCGGCCCATATAGCATAGCAATTAGCATACCATAGATGTGGACAGAAACTTAAAGGGTTTCCCTGACAACGGAATTGTTTTCCGGAACATGGACACATTAGTGGCAATTTAGCCACGTGCTGCGCGTACCTGGACTGCGAGTTCATGGACACACGCTGAGGGAGGGGCACCCCGTTGTACCCGCGTCGCTCTACACCATGTACACATTACGCTCTATTGCGTACGGGGATAGGATCCGAAGTTCCCATAGCGCAACATTTCAGGAACACTCACCCGTTAATGCCTAGGTAAGGATGCCTCAAATCGCAAGGATTGGTGGTCTGTCCTGAGTAGGCAAATGCAGTTTCTTCAGCCCTTCACAGAATTCCTCACCAGGTGAAGGCACTGGGAGCATCTTCGACCGCGCTACCACGAATAGCCCATAGACAGTTTGGACCTCGCTCGTAGAGCTTCTTCAAAGGCTCTTTATGAAGTCCGCCGGTCCGCAACTCAGTGGGTAAATTCCTCTACATCGCCGCACAATACACTAGGGCGGATGGTCATATCGTGTAACCCGGGGCGACTGCTTTTATTTCATCAATGTATTACCGTTATCTCTTCAAAGGCCCAATATCAGTACCAGACGACCGATCGGATGTAGCCTCCTCCTAGATGTCCTTCGGAGGTCAGCAGAGCTCTGACGGTCAGTCATTCAACAGGATGCCAGGCTGCGACTACAAAAGGAGGCCACCACCCGACGTCCTTACAGTAACCTTATCGCAATTCACGAGGGGGGTTTCACATGCGCAAACTAGTCCCGATAGTTCATTGGAGGCATAGAACTCCTGTTTGGCACCGGCCAAGCCTCTGCCAAGGGTCGCCCATTTCATTCCTCAACATGATATTGAATGGTTATGCCGGGAGAGTGCCTATGACCCGAGCGTCATGATAGTTGCAGCCGCGCAAATTCAGTTTATGAAAGCTCTCCTAGGAAGCGTTCAGGAGTGCCCTATTCAACAGCCCAAGGAACTCTCGCGGAAAATGCCACCCTTTGCCGCACTCGCAAGCATGCCGACCCCTGTTCCAGAACTACGACTCTTGCACCCGATTGGGGCGCGACTCTAAATACTTGATAGGAACTAGCCAGACCTCCAACAAGTAGCAGTGACGCGAAACGGGTTCAGTAGATGTTTCGCACCTGTCTAATTTTTAAAGAGCGGTGGTCACCATTGCAGGCCGTGGAATTATATGAGGATCGTCGACCTAACTGTTTAGACTACGACCCAGCAACTGCGTCGCTCCCGTGCGATCGAATTGGTACGGGCACCCGGGTCGCGCGCGCTCCTGGATATAACATGCTCACCTGTCTTATGGCCTCATATTTGGGACACGTATAGAACCGGCGCACGAGCGCATTCGACACTATTGGTGTCCAGGTTAATGAACAATCTCCTGCACAGTTCGGGTCAAGCCCTGTATTATTGAGCCGCCAAGTCGTACTGTAACTAGGCCAATCGTTCACCGTACGGCATACCGACACTTGGGTGGCTGGACTCACCGCGAAATCTTACTCGGCTCCCTCTGTATTGCGTTTCATGGGTCCTTTATTCAGGGCCATAGGCACATAGCAACGGAATTCGCTCACTTGTCAGGACCGTACATATTATCGGAAATTATAATGCGTAGAGATTTCGGCGGCCCCGGTTCTAGAATTGGTAATAATCAACCCCTTCCCATGGAACCCTCACATAAGGACAAGAGTCCTCTATGATCCCCAATGGGAAAAGTTGCGTGGGACCGTGTGCGCTTGTTGACAGTGTGGACGTTGGGGGGTTGTTCCAGACCCCGAAAGCCGGCACAACAAGTGCTACTGGTCGCTTCACCGTCCGGGGAAGTACAGCGCGGCGAGGGTTCTGAACGAGGTATGCGACCCGACTGGCAGTTCGGCACTAACCACGCGGCTGTCGGACAGCGTCAAGTCCGTGTCCAATCGACTCACGACCAGCCCGACAATGAAACGAAAGTGGTAACGCCGGTAGGGAAAAAGAGATCTGCGTCGATGTGTTTGATGATGACTGAGTTGGGTTCTGCTCCACAAGATCTGCCTTGCCATAACAATCGGATAGAGAGCAACTCCAGACGATGTTCTGAGAATGCTCAAGCTTACCCATGCGTCACCTGGCTATAATCAACCTATGACCCCGCTGTCAGTACGCAGCGGCGAACTTAAAGTGAAGCCTGATCAAGCCACACAAGTCTGGATACAAGCAATACGGATTAAACACTTCGAGACATGTAGGCACCACATCTAGCCTCGCTTCACGAGGAATCCTACCGTATGGCTACCTTCCCTAGTCCATTTTAAACCAGAATCTGGGGAAAGCTATCAGGGAAGCGATATATGATACACTATATGGCATCCCTCCCCTTACCCTAAATGGACGCGGACATCGTTGACAACTAGATCAGTGAGGATAATCGCCGGATGGAGAAGAGCCCGTTCTGGACGGGCTGTTCTCGATTCATGTGCGCGCCGCATCCCAATAAACAGGTGTCAGTCTATCGGGAGCGTACTCCCCCTACTATCTGTATCTACTCTTACCCTGACAGGGTGCTTAAGGCGGAGATGGCGCTATCCCGTTGCGGATGGAATGAGCCGTTTTATGTCAATTCGCGAATTAAAGAAGAAGGGCACACTCATGGGTGATTGTCGCACTAGGTGGCCTGAACAGGCATTCGAATGACCGCTGCACATATTTACCCTGAGCGTATCGGGGTCTTCAAGACCTTAATTTCGCTCCCGAGACTATGTACAATAATGGACACCACGTAAATACACAGCGCCGTGAGGTTCGTGATATTCGCCTCGTGTTAATTAGAATCATGGAGATCCGTAGGCCCACGCGGACTCCTAAGAGCTTCTCCGTCGGGGTCGTGCAGAATCTTTGAGACGCTTGTCACGTCCCAGACTCACAAACGGGACCTACACTATCGACCGGGCCGTACCGTATACCCCGAACAGTTGCTTGTCTCTTAGCACGGTATCTGTAAGATTCAACCCATATTTACGGGTGAAAAGCTATTGGGCCCCTGCGTAAACCAATGTTACAGAACTTCGACACAAATGCGCGGTGTACAGATATGTCGTCTGCTTCCGTCGACGACCCGTTCCTAGGTACCAAGTGGTGTCACTCTTTGTGGAGACCCGAATGGGAGACTCTAGGTTTCTGAACCGTCGCGGACGAGGTCCAACCACAGTTTAAATCCCAAGAAGATATCCACTCCCGAATTAAGGGGGATACAGGTGGTAAGTAGCGCTTCAACTCAATTCGGTCCCGTCGGGAGCAACATAGATGGGCCTGCAGTTTATGCCCGTTACCAGGGATGGCGGAGAAAGTGGGAACGATGGCTCTGCGAAATTCCCTCACGCTGTGTTTAAGCTGCTTCTTGTCCTTAGCTGTTCATTGTTCGTGATCCATTATAACTCGGCTTCCTCACTTCGCTTCGCGCGGAATGTCTGCTGCATAGCCTAACGATTACTGGGGACGTTACACTTCTCTCAACCATACCGGAGGGACTCTAACCAAGCAGGCCAAAACCGCCAACTCCGGTCTATCCCCCTCGCTAAGGGCAAGAAAAGTCGGTCATGAGGCTCCATTAATTCTTTTCACTCTAGAATATACGTATACCGTGTAGTGTAAAACTCGAGTGGATGTGACATTCGGCTTACCCGCGGATGCCCTCTCGGCGATTGGACCCTCGCGAGTCAATCATCCCATAGCTTTAGCCAGACCGGAGCAGACAGAAACCTGCTCAACATCAGCGAACGTATCTGACGGACCACCAAGGTAGATCCTAAGTTCGAAGCTTGATGACCTATAGACGACGCGAAGAGCCCGCATCTAATCCTGCTGTCTATATCCTGTGCTAGCAGTTTAGGCGGTTAAATGTATCCGAGGACGTCTTCCCCCGCACACAGTCGAGACGACATATCGGAGTTCACAAAAAGAATTATGGTCACTTATGGCACGTATTTTCTGCGATACTCCCCCCCATTTGCGCGAATAGCAACTTGCCATGTATATTGCGGGACAGAATACGAGTGTATACCGCCGTTACTACTTTGTTCGATCAGCACACGACACCGGCCTTACATCGGCATACAAGCAGGGGAAATATCCAAGTCGTCCGTCTAGGCAAAACGTGCAAAGATTTGGCTGGTGATTTAAGGGCTCGCTCAGTTCTCCCTATGTTCACATGGACCCCGAGTGCGGATAATCGTCCAATTAACGAAGTCCGCTGAACTACCCCATTAGTGTTCGATGATTGGTCCCGCGAACGCACCTGGGGGAAGCTTGCGGGCCCCCAGCCGATGCGCGCCATGTCTAGCATCGAAGGCACTGCCTTCGAATAATTATGCCCCTGAACTGACGTCTATGCCGGCGGTCTTGATGAGTCCAATCAGGCGGTCAGATCACAGGTGCTGGGGGTAAAAATCGGGTCCCCCATAAAAGTTTTACCTTAATTTCCAAGCCCTGACTCGAAAACAGAGGTCAAACGTTAGGACTACGATCCATGTTCACGCAACCGTGTGGCGATATTTATAAAAGGTCACCAAAATGCAATAGATACGAGATCTGGGACGGACCGCATATTACGCTTCGGACATCAAGATGGATCTGTAATGTACATAAATCTCGGTACAAGTGTACGACTCGTATCAGCCGTTAATCTGATCCCGGGATCAACTCAGGATAACCTAGTATACTGTCATTAATCTTTGTTTACCTGATCTCCCATTGAATATCTCCGCTAGCCTACTAAGATCCTACCAAACCACCATCGCTGCGCTACCCCCATCAAGTCCAACAGCATACAGGAATCGTTACCCAGGGTAACGTCGCGCTCCAACTATATCTTACCCGCAAACTATAAATTCGTTAGATACGAAGGCTCAAAGCATTAAAGCTTGTCTGTAGCTGGATAGTGGCGTTACGAGTTCTTCTAGAATTCACACGGCATTGGCAGGCCGTCGAATCCCGGGTAGAACAGAGTTGCGCAGTATAAGGTTGTGTGATACATACACCAGTCGTTCATACGCGGCCATGCACTAAACGTGAGGGTTTCAGTCATACGTCAAACCCCTCCTGTGGGCGAGCGTAACACACAAACGTAGGGCCTGTAATAACACGCATGGAAGGGATGTTTATGTTCATGGGGGGAGCAGACGCGCCTAGACCGATTGGTGGTCACTAACCACAGGTAGTCAGAACGGACGCATATGTAATAGGCGCTGGCCCTGAGCGTCCTTTACTTCTCGGTCTTTGGTGGCCTACCAGAATCCGTCCTACACGTACCACCAGGCCTAAGTCATGGCCTTGTATCAACATTTTTAGAGACATATAGCTCAGCGATGTGTGAAACGTATTCATGTTTTATGCTCTAGCCCGTAGCTCGAAAGAGTCAAAGCGTCCCGTTTTGTCGGCGGCGTTGCCAAAGAGAGTTTTTCTGAGAAGTATAACTTCGTGACTTCCTGAATAGACTTCCCACGTGCATTAGCCATTAATCCCAGACATAACCTCTCAGGGACTGTCTCAGAGATGCTTGGCGAAAGGACAAGAAGTGCGACGGTATTAAACCTGTTGTTTCCCAGCGTCGTCGGACTTTTTGGTGCAATGGGTAGGATATGGAGCAAAAGGGGGGTTTAGTTACGAACTTTGATAGAATTAAAGAGACAGTAGAATGGGGGCTACTAAAAGCTGCCCATAAGAATCCGCATCCCACAAGATATCTCCTAGTACTACACAACTGAACTATTCTGGAAGTCTAATGACCGACTCTACACGACGTTTTATTCGCTGTAGAAGCTCACTGGCACTTAACTCACCCCAATCCTAGCTGTTGATGCTTAAAGTTATCTACAAGGTATCGCGGGGTTAGACGTTATTATTTACAGACGGCCTGGACGACTCTCGTAAAATCCGGTCTGGACTATATACCGTGGGCTGGCTGGATTGAATATAATATGAACTTGGGAGTATATCACACACATCTAGCTTTATGCTAACCGATTCACATGATATCATGAATTAATCGGGGTCTGGCCAAGAATACTCGATACGGCGTGCTTATACTTCGAGACAAGAACACACCGGGGGGTGTCATGATTGACCAGGCGCACCACGCGTGGAAACGTTTAGACAAGCGGTAGGTCGAGACAGCGACGAGACTAGTATAACGTCAGATAGAGGCAGCAAGCTAAAGGGTTTGCGCACCGTGCCTACCCTATTTAAATGGGACCGATCGGACAACTCTGTTCTCGGGAAGATACGGTATTTCCTTATGGATCCGATCTCCCCCCAGAGAGGCACATCATCTACTCGGCACGCTGGTCAGTTCCGCGTATCAACGCGCCATGAGTGCCCCGTGGCCAGCCTCTAACATTAGACACACTTTGCTGAAGGAGCATGAACCGGGCAAACTGCGTTGCGAGGTTCGGGTCGCTCATGGAGAAGTACTAGCTGATAGCGGCCTTCGCTGCGGTACCGTGACACCCATCAAACGACCATTCATTCATGTCGAGAGCGGACGCAGCGGGAAGGTACCGCATAGCAACCAAGGGTCAATTCGCCATCCTTCGTCGCGTTCACTGCGTCGGGTGCCATCCCGCCCGGGCGCCGCCTTTTTTCAAGCACACTAATTCTAAGGAGTGAGGAGTTGCCATACCACCTAGGGAAGGGTAGGTTTCCCTGCTTGGTTGGGGGCCGCGGACGTCTCTCGGGTCCGTGGACCGATTTCCGATCTACCAAGTACTCCGAGCATAGGCCCCACCCCCCTGAGGGGTAGCCTTCGCCCGGGTGTGCCGGAATTCGGAATCTGCGTTAATGCGCTTGGTTATAACTAGGCGATGAATTAAGTCACAAAGCGTTATCACTTAGTTCAAGGTCGAATCCTAAAACCATAACGGGCGCTGGGTGGGCTCTCGCAGCTCCCGCGGTTTGCGTTCGGGTTAACACCTATTTCTGGGCCCTATTAGAAACCTGATTGTTTCGCGAGGTTTTGTTCACAGACCGACCTCAACATACCTCAATAGTGTGACCTTGCGTCAAGACTAACAAGTTGTGATAGGCGCCTTCTGGGGAAAAGAGCAATCGGACTTAGGGTGTTTACCCACGCGATACACTGGTGTTATTTGTCGATCGTCTATGGCTCCCGGCACTAAAAACTGCTGACGAAGTCTTGGCTATTCGTAATAGGCTCACAAAGTCTACGCGCTGATAAGCCCGCTTCACGAATCCCAGTGCACTCGAGTGTAAACCCATACTCCCACTCAAAGTCGAGCAGCGCGGACCTGATAAGGCCCAAAAAGGTTAGGGGGTCCGTGCCGCGGAGGTGCCTGCAAAGGTATCACTTCCATCATCTGGAGGTAGAAACACTTAGACGGTATAGGTAATGGTGATCGCTGAAAATGCTGCCGAGGTACGATACTCTCGTCTTTGTCACTTCTCAGTACCGTACGCGAAGCAAGATCGCTCACACTTGAAGTTCGCTATCTGTTCCTTTTAGTAATGCAAGAGGAGGCAGCCATAGAGCTCATCCACGCACTGAAAGTACCTTCCGTTTTGGGGTCGCTTATAAGTCCAAAATTATTAAACTACGCGTCAGTGGAGCCTTGGCTATCGAGATATCCGGGCCAATAGAGAAGACTGGTCTGCGCACTCATACAATGCGCTACGACCAATTTCTGGAAGGGTCACCAACAAGCGCTCAGTGTGTGCACCGCAGTTTCCGTGTCGATGGTACTTAATTCTAGAATCACGATGACAGTGTTTTTGGTTCGGGCTTCAGAGACAGGCCGATATCTCTCTGAGCTAAACCCGACTAAAGGCATTACGCGTAACCCATTCGCCGTGTGTCTCGTCGCTGGTTTGCATTGTAGCATTGATGGCAGTATTGGCGCTCTCGTCGCAGGAGGTTTCCACGGGTGATTATCGATTCTTGAACTCGATCGGGATGGAGATCCTCATAGTTATTGTTATTTCTGTCGGGGCATCGATCCTTGTACAGCCTTGTGCGGAACAGGTGTAAGGGCGTGAGTGTACAGCTAGCCCTTAACCGGTATACACCAATGCAGTGGCTGGACAGACTCTCCTTACGTGTTGTAAGTTTTCCGCGCCTATTATGTTCAGCAATTACACGCGAAACCCCAAAGGCCCACGGTACTCTATGCTAGATGCCGGGGTCCCAGCACTCTCTATCACCTTCCCTATTACTTCTAATAAGGCTCTTACCACGACATGTACTTATCATTGCTGAATTTTGTGGCGCCATATTCAGTGAAGCAGGAACTGCATATGTGCAACTTAGATGTTGCCGGTGGTGTTAATCGTTAGGACCTCGGTGGGAGTGCGCCCCCCCTAGGAACGGGAGGGAGGTATGAACTTATTTATTTTCTACTACGGGATAGGTCACTTGGTTCGAGCTAGCAAGCTCTATTTGGAGTTTCGTGAGGCTGGTTGATCCCGGCAAGTCTGCGTCTAAATGAGCAGCAAGTGTATCAAGGCGGGTCAGAAGGAGATCGCTCAAAAAACGAAGATAGCAAGAGCCAATCCCTGCTTGGACGAATTGCCGCTCTGGAGAAGAGATGCGCCACAGTCCTAGCGGTATTGAACAGTAGGCGGCTCGGTCCTCACCTTTGCTGGCATTTCTGTAGATTATGGGCTCATACAGACCCTGAGATATTGCGACAGGATCGGATGCTTGACCGCAACGGTCCGGGTACTAAGCTGGTAGGAAGCGAGGTACGTTATTGATGCTACCCCAGTGACCATCCTCCAGTGGCTGGAATAAAGTGCTCGTTACCCCGATGTTTCATGGACGCCCCGACACACTTTGTCACCCCGAAGGACATGTGGCTCACAGTACTCGAAGCCCCTGTGTGCCACTAACTTCATGGAACGATGACTTGTAGGTTGCTCAGATACTGGTAAGCCATCCGTGGTTGACAGGGTCTAAGAACTAATGAATGCCTGAATGCCAATGTCGGTCAACTGAGAGTTCCCGCCGTCACTTGATAGTAGTTACTTGAGCGCGGTCACCATGCTCTCGTTCGGCCGTGAGAATATTTTAACTCAGCTGTCTGGCCCGGCACATATTTAACACCCAGAGGCACGTCACATTACACCCTGTGACGGGGTCTCTGCCGACGGGAGTCCTAAGCTGTCGTTTTTACCATTTAAGTGACCATCCGAGACACTGTAATAAAATGAACCTGATGAGTGAAATCACAAGCAGTGTACTTGTGCGCGGGTGGAAGGACAACCGACTAACCACGAGACGGGAGACCGACCGAAATCAACAGAGACTCGGGTTCCTAGTGTCGGGATGTAGGGATGTACTCCATGTTGAAGTACGCTCATCTCAACACGTCCGTGGATGAGGGACACCCTAGCGAGAGGGCTTCAATCGCGGAAACAGAGTGCGAGATAATGGAGGCGCGACTGTATTTTCGGAGACTACATTACATGTTCGTCGCAGCAGGCTGGGCAGCGGAATGCAGTTCTTATACGTGGCATCGGCTAGCTCAAAAACTCCCCATGCCTTCAAACTGGCGTAATGAACAGGTCTCATAGCGCGACTTCTATAGAAGTGCGCCAAGGGAAGCTTGCCGCGCCTTGTCGCAACTCCCCGGGCTCCCAAGTGCGGCAACGCGAAAACAGGAAAATGATTTGACCTTGTGTCGGCAATGTACACGAACGAGGCGAATGCGACATTTGCTTGCTACTCAAACTTAACAGTCGATTATGCGTCCAGATGCTGGGGTGAGTAAGACTACCACGTAAACCGTATAGGGGCTAACATAAAAACGCCCCGGGCGGTTTGAGCCCCCGGCTAGTCGATCTAACTAGCTAAGCAGACAAGCTTCCTCTAACACATCAGAAGCGCCGGTGCTTTAGACCTCAGAAGGATAACATAAGACAGCTCCGCTTTGGCAACTCTGTGTAAGAGCTGGTTTTATAGCGATATGGCATGCCCGTTGAAACAGGTAGATTGGCTGCTGTCATGTTTACTCAAGTGGAGCAAGGAAATCCTACCGTAGGCCGAGGTCCGATCGCAGGGCGGAAACAGGGCTTATCCATCGTGTATAACCGTTACGACGGGGGACCCGATTGTCTTGTGAGGTCCCGCATCTTAATATTAGCGCCAACGATCGGCCACCCCACGTGTTCGGTACAAGATGGTAGGCGGTTAACGCCATCCTTAGTCCAACACAGTGTGCGTGGTGAAATATGCAGGAGCCATTTGGCCTGATAGGAAGTCCAATATATAGACAGCATAGATGGTGGATGTACTAGCGGCCTTCCAGAGTATCAATCGCCTTATGTGTAGCGAAGGATTTAATTGAGTCTCTTGCTTCATTAGCACTGGGTCAGATACGCAAAAACGTCTGGCTCTGTACAGAATGCGTCCTTAATAACGCACTATAGTTCCGTCCTTAACACAATTTGATAGACCAGTCGCTGCGTGTCGGTTACCTAGTGATCACACTGTAGCGCCGAAGCCCTACACGATGGGGAAAATGTATTCAGCTGGGGGTGAAGCGTTTTTGATGCAGAGTCGCACGTGGCCCGCGCTAAACCGACGCCCGAGCACGAGGATCGGAGGATACGTCACTTGGTATCCATACTTAAATACGAGGTCCGCCTCCATGGCCGGAACCATCTCAAGACTGCCAGGTTTCTTGCCCCTGCACGTCTATATCATCTGGACATGTGGCACGCTACAAAGATTATGAGGAGCTGCATCACTGTCGACCCAGTCTGCAGTTTGGGGATCGGTCTGCTAGAGCCCGGTGCCCAGCCATTTAGGCCAAGACATCAATAGCAGGGCTACCGTATTGGCTTTCATAATATACAACGCAGGAGAGCTCAGTATCGGTAGGGTACTCGCGGTCATTCCTGCCATCAGTATGAGTCGAATATGCATTAACTTGGCGGCATCACAGGGTAGACATAATGTAGATCCGGTAATAGCGCGGATTCGCTCTCTTCGACGTAACTGCACCACGACCAGCGACGTATTTGACCGGGGGAGTCAGAAAATGCAACGTCGAGCGAGGTTGGATGGAACGGTAGATGTGCGATTAAGAGACTTACTCTTGGTCATAAGGGCGTCGGCTTAAATCGGGCAATTTTCCCGACAAACGCGTCTCTAGACCATGATAGTCCTGGACTTAGCTCAAACATCAATGACTATTGCAACGGGGGACGGTAGCAGTACTATAACACGCTATCACAACACAACTGGAGGTACGATCAGGTCAATACTATCGCTCCGAGAACGACGGGGTTCGCCCTCTCCTGACTACGTACACTCGCCGTCCCACACGGCTCTGATATCTAGTGACGACGCGACAATCAAAATTAGACTTCACGGAAGGACTCATTGATTTATACGCCGCCAAACAACCTACCGCCCGCCAAGCGCAGAAATGTACTAAAGATTCCCTGGTAGTACAACGCGGAATAAGTTTTTTGCGATAATGAAGGGAAAGCGGGTCGCGCCTCACCAAATCTGAGTTGACAGCGATACTTGGGAGTTACTTGATATAAAGGCTTGTTACCCCCAGTATTGTTTTTGTTCCCCTAGCCTAGGTTTTCCTTGCGAATGTTGTAGCCACTACTGTTTTGTTCGATCAACTCTATCCCGTACGCATATAGCATCAAAACGGTGGTGGGTAACGGGTTCGTGCTCTCCCCGAAGAACTGAGAGAAAGGTATTACGGGATTTGGATTGAGGCGTTGATGATATACTCTTAACATAGGGAGCCCTTTGTAATCCTGACCATGCTGCTCATGCAGCCGAGGTGCGGCCGAGAAAATATGATCTTCACGGCTAAACAAGATCTCCTTTCCGGGCTTAGGGTTCCGTATGGGGCGCATGGTAGGACGCAATGGGTCGGACTTTAAACTGATTTAAAGTGAACCCGCGCGTAAGATCTTTTAGTTATTGGCTCGTACACGTTGTGGACTAGACCGATTGGCAGGAAATAAAATAAGAAGTTACATACAGATAGCGTATGCGCACTTTGACGCTTCTCCAGGGTTGAAGGACTTAGGGCGTAAATATGCGGGCGTCCTGCATAAATTTCAGCTGGGTAGACCCCCCGTTACCGCAATCGTGCGCGTAGCTCCAGTAGGCAGCTTCCGTCCGACGGGTCTGGCCTGACCGTTGTGCCCACAAGCCAGTCGGCACTATTAGATGCAGCAAAGCACCACTCGTATCTACATCACAGGACGCCACAACGCCAGTCGATCCAGTCACCCGGACTAGCAAACTGTAACTTGGTTGACTGGCAAAGACACCTGTACAATTCCGGTCGACGTCGTATTGAAGACTCCTGTGTCTAGCAGCTATCACCACGTTCTGGAATACGAGGTTTCAACGCGTGTAAGCCTACCCAACAACTATGCTATTTCAATCGGATTCGCTGGATCAGCCTAGGAGCCATCATATTGGTTAGGCCTTTCAGCCGTTCACTGAGACTTCGTTGTAGTCCGTCGAGTCCATGAATCAGCGAAGGTCCCCCCGATGTCATGAATCGCTGCACTTCTCTTCTCTGTCTCCCTGGATAATCGATGGGAATGAGTTTTCTCGGTCAATATTTCACGTTATAAACCCTGAGTCGAAACATATGAGCCCTAACTATATCGCAACATGGGCCACGAGATACAGTGTTCCGGGCCCCGACTGGGAATACGCGTGATTAACGTTTTCGCCTTCCTAAGCTAAAGTGGCAGCCCCTATTTTGTGAGCGATGTCATTCCATGTAGGAGAGGCACTTTCTTGAGTGATAAATAACAGATCTAAGTATTTTTCACCCTATTCCCGTCATGATAAATTCGGGGCGCGATTGGCCGGGTACACGACAAGGGGGAAATCGACGCAGATTTGGTAACTTGTCTCCCTGGACATAGTCGAAGAGCACTGTGTTTTGGGGCGCCGGTCCGCTGTAAACGACGATCTGAAGGCCACCCCCAAGCCATACTCAGATAGGCCGAGGACAATCTCCAATTCGGTGGCAGTGATTTCAGTACGATGCAACACCATTGCGTCCAACCGAGGGCGTTCACAGAGGAGCAGCCCCGTGTTAAGGTGGCAGATGCTAACGGGCGTCGCCCAGCCTGGGTCGTCTGTACAATAAGTTGTCTGGATTAGCAATCAAAACTCTATACTTCGATGTACTCAACTGCCGCGTTGGTTAGATCAATTAGTACATGTATGTAGAAAATAGCGTGGTCAATTCTGCTGTTGTGTTTTTTTTTTGTAGCAGTAACATCCGGGTACGCAGGCCATGCTTCAAGTGTCTACACTGTCCATTTCGCAAGTGCCCCATGGAGAGACTTCGCGGTTCGTATTCGAAAGGAGCCCCGGTTGTCGGACGATTCTCGGAGTTGCGACCACTGATCGGTACGGTGAGTTATTACGCCCCTCTAACCTCTGTCGCTGCACACGGAATTCAATGTCCTTGCTGAGCAGGGGAGCAATTCTGGGTAAGCCCCCCCCTTCTACGTGCTGTAATTGTGTACCAGACTCGCCTCATGATTCTTCGCCAGGGCTACGTAAACGCCGACATCTATATCGCACTAGTTCCGAGTCGATCTGGGCCTGTAACGGTAGCGTTGTTACGGCATGTGCGGAGTTGCTTTAAGACCGTCACCCAACCCGCCGGTCGGCGTATCAACTACAGTTACTTAAGCTGTTAACTTGCCTAGTTCGTCTCCCCGGGCAAACTGGGATCGCCTATGCAAGGTAATCTAAACTACCTAAGCAATGCCCACAGAGGCGAGCTTTTTGATCGAGGAGATTGGAGCAAGCTGATGCCATTTGGATATCTGTTCGAAACCTCCATTTCACACCAGGACTACGTCATCGACGAGATTCAACAGCTAGGCACTTGACGGACCGGTAGCTAGCTGGCCCAGGCCAGGAGCGATTCGGAAAGTCTCAATCTGATAACCAAGTCCCCGAATCAACATGAACATGGTAGAACGTGAGCTCCACTGAAAAAGGTTCAGACCAACCAGCAGTCATCCAGGTCTGACTGAAAGCTGGGTGAGCAGGCGCGTAATCCCTGCAGATCCTAACGAGGAACAAAAACCATGCCTCGATCTGGGGCTATTGTGACCGATCGCACCGCGAGTAAATTAAAATGGCGACATGGGACTACAATTTCACCGCCTTTATTTCAATGCCCCCGAGGGCCCCGTCGGTCGTTGTCAAGTAACACCTCGGCAGGAGCATGGCACGGAGGCGTCACTAGCCAAATCTTGAGCAAAGCAGAGATATGTCGGGTCTTAGCACCGGTGTGGAGTCCTGATATGCCTTTTTAAACTACCTAAAAACGCTGGTCGTACTCGCTTCACGATTACGCGTGTGACAAGAACGATAAATCGGGAAGTAATCTTCACTCGAGGCACCTTGCAGAACGAGGGATAAAGGCAAATGTCTGCGCATTTCGAGAGTAGTCGACCTACCGGCAATAGGCCTTGTCGATCCCGCAAATTACCAGCCCTTAGGCACTCTAGGGCTTCCGTGATGGTGTTATCGCTTCAGGTTAAGACACAAGAAGGTATTCTTAATTGGTCATCGGAGCTTCACGGTTTGGGAACTTGGCTACCATCAGTATACTTTCGTCGATACGAGATAAACATTGCACCCCCACATTCCTATAAAGTTACTAGTCGCGTCTGTAGTTTCTTCATCCAATAGCTATCTTCTCAGATAGGGCAGTAATTGGACTTAGAAACTGTTTAAGTCGTATTAAGATTAGTTCTCACAACGATTGTGAATACCGTGAACCAATCAGGTGGGGTCCAAGTTCCTGACGATACACGGTCGGTCTCTCATGTTCAAGGTCGGTTGTGCATATCCGCGAATAGTACATGGTCTCGCATAACGGGCCTAGTATTCGCGAATGTGCGCCGCTGGTCACATACTTAATCACGTCCTTGGTCCAGTGCCGGCTAACGTTATGTTTTCTCAAAGTAGATTTCGGGCTTTGTCCCGTATAACAGGTATACAATGGATGTTAATCACGGTTATTCTAAACTGCCCACCTTATCTCTACTAGCGCTTGAAGGAGAAGATTCGCGGACTATACATCCCATCCGTCGCAGTTGTAACTGATTCCGGGAAAAAACTTCCCTGGCAACTACGTGCCGTCGCACATTCGTCCTGCATCCCATGTAGGTCTTCTCGGATCTCCAAAAATCACAAATAAGATGCTCGGTACTTGTTCCTGTTGGATGGCAAAGGGTCAATTTGGGAGAGGTACGTTTCATCTAGGATTTGCATTTCCCGTAGCAGAGCCTTTGAGAAACCGGACCCCGGTGGAGACGTTCGTACATCACAAGGGATATTGATTGTTTCGTCGCTTCTCATTTGGTCGCTGGGTCGACTCTCGGTTCTGTACTAATCACGAGGCACTCATTCCGGCGAGTCGGCCTCTGAACAGGCTCGCTGTCTATAACTAGTTGAGCTGTCGCTATTGAACTCATACCGGGCATCCAGGTGAAGAAACCCCTAGCCTGCCCTTTATTTTGGGTATCGCTCACTAACGTCTTCTCAGCTACTCATGTAAGGAAGATGGTGACTCCCGGTAGTGACCGATCCTCCATCCATCGGTCTTGTTCGGCTCCATACTCGGGTAAATATCAGGTCGCGGGGGAGACTTCGCGATTACTACAACACGGGTAGTTAACGTCGCCATGCACGGCAGAATTCGTGGCGGAATAGCGTTTTCAAAATGAAAACTTGCTGATCTTGAGCTCCGGCTATCTCTCATCTGCGGTTAGTCATCAGGATCGTCCGAACCGAAGAATTACGTAACATGTAACCTTTATGGGTAAACTGGGTGTTTAGTAAAATTGTCTTTTTAGCGTATAAGTGCTTCACAGATGGGGCCTAACCCAGACCTGATTCAAGAGAAGTCACTCTGCTGCTATATATCATCGAAAACCGTTCGCAAACTCCTCTTCTACTGGCACCCGCTTGTCAACAATACCAAGGCGACCCTTTACGGAAGGGGTATTAGTGTGCGCCATAGCTCAGGCCTGGCAACTTTGGAGCGACGAGTTCCACACGGGACTCCTACTTATAGCCAATATCCGTAATAGTATCAACCACCTGTGTTATCGGATTACGAAGGAAGCCCTCATCGCCCGTGACCTTGCTTCCGCGGTTATTATAATGCTTGGCCTTCTAACCCCAGTTTTTACCCGATGCACCCGGACCACTTTTGGTACGTTTCGGCGTTATCCAGTGTAGCATAACGGCTGAGAGCTCCTACGCCACTCCCCTGCCTACTAGGCAGCGTATCAGGGGCTAGAGCTCAGTTGACATCAACTCA\n"
     ]
    }
   ],
   "source": [
    "code = \"long\"\n",
    "\n",
    "file=read_fasta(code)\n",
    "\n",
    "sequences=[]\n",
    "for fasta in file:\n",
    "    sequences.append(str(fasta.seq))\n",
    "#print(sequences)\n",
    "meanlength=round(np.array([len(seq) for seq in sequences]).mean())\n",
    "hml=meanlength//2\n",
    "\n",
    "def overlap(a,b):\n",
    "    for i in range(hml):\n",
    "        if a[-hml-(hml-i):]==b[:hml+(hml-i)]:\n",
    "            return a+b[hml+(hml-i):]\n",
    "\n",
    "while len(sequences)>1:\n",
    "    breaking=0\n",
    "    lnsq=len(sequences)\n",
    "    for i in range(lnsq):\n",
    "        for j in range(lnsq):\n",
    "            if i!=j:\n",
    "                #print(sequences[i], sequences[j])\n",
    "                #print(overlap(sequences[i], sequences[j]))\n",
    "                if overlap(sequences[i],sequences[j])!=None:\n",
    "                    #print(sequences)\n",
    "                    #print(i,j)\n",
    "                    sequences.append(overlap(sequences[i],sequences[j]))\n",
    "                    del sequences[max(i,j)]\n",
    "                    del sequences[min(i,j)]\n",
    "                    breaking=1\n",
    "            if breaking==1:\n",
    "                break\n",
    "        if breaking==1:\n",
    "            break\n",
    "print(sequences[0])"
   ]
  },
  {
   "cell_type": "code",
   "execution_count": 20,
   "id": "533911dc",
   "metadata": {},
   "outputs": [
    {
     "data": {
      "text/plain": [
       "33280.0"
      ]
     },
     "execution_count": 20,
     "metadata": {},
     "output_type": "execute_result"
    }
   ],
   "source": [
    "code = \"pper\"\n",
    "\n",
    "file=read(code)\n",
    "inp=file.read()[:-1].split(' ')\n",
    "a=int(inp[0])\n",
    "b=int(inp[1])\n",
    "\n",
    "math.factorial(a)/math.factorial(a-b)%1000000"
   ]
  },
  {
   "cell_type": "code",
   "execution_count": 75,
   "id": "57755c33",
   "metadata": {
    "scrolled": true
   },
   "outputs": [
    {
     "name": "stdout",
     "output_type": "stream",
     "text": [
      "6\n",
      "1 2 3 \n",
      "1 3 2 \n",
      "2 1 3 \n",
      "2 3 1 \n",
      "3 1 2 \n",
      "3 2 1 \n"
     ]
    }
   ],
   "source": [
    "code = \"perm\"\n",
    "import operator\n",
    "\n",
    "n=3\n",
    "print(len(tuple(itertools.permutations(range(n)))))\n",
    "for i in itertools.permutations(range(n)):\n",
    "    for i in (tuple(map(operator.add, i, n*(1,)))):\n",
    "        print(i,end=' ')\n",
    "    print()\n"
   ]
  },
  {
   "cell_type": "code",
   "execution_count": 91,
   "id": "0a6d6176",
   "metadata": {},
   "outputs": [
    {
     "name": "stdout",
     "output_type": "stream",
     "text": [
      "1 4\n",
      "2 4\n",
      "21 4\n",
      "22 4\n",
      "29 4\n",
      "39 4\n",
      "43 4\n",
      "66 4\n",
      "69 4\n",
      "77 4\n",
      "78 4\n",
      "91 4\n",
      "109 4\n",
      "120 4\n",
      "123 4\n",
      "181 4\n",
      "245 4\n",
      "311 4\n",
      "314 4\n",
      "332 4\n",
      "342 4\n",
      "384 4\n",
      "389 4\n",
      "403 4\n",
      "408 4\n",
      "415 4\n",
      "443 4\n",
      "451 4\n",
      "457 4\n",
      "463 4\n",
      "465 4\n",
      "484 4\n",
      "497 4\n",
      "526 4\n",
      "537 4\n",
      "538 4\n",
      "564 4\n",
      "588 4\n",
      "596 4\n",
      "615 4\n",
      "616 4\n",
      "634 4\n",
      "641 4\n",
      "643 4\n",
      "648 4\n",
      "687 4\n",
      "690 4\n",
      "719 4\n",
      "730 4\n",
      "763 4\n",
      "784 4\n",
      "815 4\n",
      "38 6\n",
      "407 6\n",
      "414 6\n",
      "450 6\n",
      "633 6\n",
      "647 6\n",
      "689 6\n",
      "718 6\n",
      "762 6\n",
      "406 8\n",
      "717 8\n",
      "405 10\n",
      "404 12\n"
     ]
    }
   ],
   "source": [
    "code = \"revp\"\n",
    "\n",
    "file=read_fasta(code)\n",
    "for fasta in file:\n",
    "    sequence= str(fasta.seq)\n",
    "\n",
    "\n",
    "#sequence='TCAATGCATGCGGGTCTATATGCAT'\n",
    "for i in range(4,13):\n",
    "    for ind in range(len(sequence)-i+1):\n",
    "        temp=Seq(sequence[ind:ind+i])\n",
    "        if  temp==temp.reverse_complement():\n",
    "            #print(temp)\n",
    "            print(ind+1, i)"
   ]
  },
  {
   "cell_type": "code",
   "execution_count": 109,
   "id": "5122ad0d",
   "metadata": {},
   "outputs": [
    {
     "name": "stdout",
     "output_type": "stream",
     "text": [
      "MDHVETYLNMGTLCALYGGHHTPCPPQQAVHRQTVLRNMDLGSPSKALTVLTCARCFVPPSRFNNRAGTYVPYLAHRMSRSSFIGLMKSRPALFRQECTPEMFQMKSDTQISTRRAPARPGSHTFRGRVVHRMIGDELSAVLGHDGKRARSPPEKLTWNTRIVNNLLHQGL"
     ]
    }
   ],
   "source": [
    "code = \"splc\"\n",
    "\n",
    "file=read_fasta(code)\n",
    "init=0\n",
    "introns=[]\n",
    "for fasta in file:\n",
    "    if init==0:\n",
    "        seq=str(fasta.seq)\n",
    "        init+=1\n",
    "    else:\n",
    "        introns.append(str(fasta.seq))\n",
    "#seq='ATGGTCTACATAGCTGACAAACAGCACGTAGCAATCGGTCGAATCTCGAGAGGCATATGGTCACATGATCGGTCGAGCGTGTTTCAAAGTTTGCGCCTAG'\n",
    "\n",
    "#introns=['ATCGGTCGAA','ATCGGTCGAGCGTGT']\n",
    "#print(seq)\n",
    "\n",
    "\n",
    "res=seq\n",
    "for intron in introns:\n",
    "    res=''.join(res.split(intron))\n",
    "res=res.replace('T','U')\n",
    "#print(res)\n",
    "for i in range(0,len(res),3):\n",
    "    if codons[res[i:i+3]]!='X':\n",
    "        print(codons[res[i:i+3]],end='')"
   ]
  },
  {
   "cell_type": "code",
   "execution_count": 125,
   "id": "9bcbbbd1",
   "metadata": {
    "scrolled": false
   },
   "outputs": [
    {
     "name": "stdout",
     "output_type": "stream",
     "text": [
      "ABCDEFGH\n",
      "A\n",
      "B\n",
      "C\n",
      "D\n",
      "E\n",
      "F\n",
      "G\n",
      "H\n"
     ]
    }
   ],
   "source": [
    "code = \"lexf\"\n",
    "\n",
    "file=read(code)\n",
    "\n",
    "st=file.read().split('\\n')\n",
    "n=int(st[1])\n",
    "st=''.join(st[0].split(' '))\n",
    "\n",
    "n=1\n",
    "\n",
    "print(st)\n",
    "\n",
    "for k in itertools.product(st, repeat=n):\n",
    "    print(''.join(k))"
   ]
  },
  {
   "cell_type": "code",
   "execution_count": 5,
   "id": "fd7b0fb5",
   "metadata": {
    "ExecuteTime": {
     "end_time": "2021-10-15T03:04:00.260826Z",
     "start_time": "2021-10-15T03:04:00.170251Z"
    }
   },
   "outputs": [
    {
     "name": "stdout",
     "output_type": "stream",
     "text": [
      "Whoops alignment is overkill\n",
      "483\n"
     ]
    }
   ],
   "source": [
    "code = \"hamm\"\n",
    "\n",
    "this=''\n",
    "last=''\n",
    "file=read(code)\n",
    "for line in file:\n",
    "    last=line\n",
    "    if last != '' and this!='':\n",
    "        #for a in pairwise2.align.globalxx(last, this):\n",
    "        #    #continue\n",
    "        #    #print(a)\n",
    "        break\n",
    "    this=line\n",
    "print('Whoops alignment is overkill')\n",
    "res=0\n",
    "for i in range(len(last)):\n",
    "    if last[i]!=this[i]:\n",
    "        res+=1\n",
    "print(res)"
   ]
  },
  {
   "cell_type": "code",
   "execution_count": 81,
   "id": "e1f60acf",
   "metadata": {},
   "outputs": [
    {
     "name": "stdout",
     "output_type": "stream",
     "text": [
      "105023.79913000058\n"
     ]
    }
   ],
   "source": [
    "code = \"prtm\"\n",
    "\n",
    "file=read(code)\n",
    "s=file.read().replace('\\n','')\n",
    "tot=0.0\n",
    "for c in s:\n",
    "    tot+=monoisotable[c]\n",
    "print(tot)"
   ]
  },
  {
   "cell_type": "code",
   "execution_count": 47,
   "id": "7f35db83",
   "metadata": {},
   "outputs": [
    {
     "name": "stdout",
     "output_type": "stream",
     "text": [
      "865024\n"
     ]
    }
   ],
   "source": [
    "code = \"mrna\"\n",
    "\n",
    "file=read(code)\n",
    "\n",
    "st=file.read().replace('\\n','')\n",
    "\n",
    "\n",
    "#codons= check helpers\n",
    "\n",
    "\n",
    "reps={}\n",
    "for i in codons.values():\n",
    "    if i not in reps:\n",
    "        reps[i]=0\n",
    "    reps[i]+=1\n",
    "ans=3\n",
    "\n",
    "for aa in st:\n",
    "    ans*=reps[aa]\n",
    "    ans=ans%1000000\n",
    "print(ans)"
   ]
  },
  {
   "cell_type": "code",
   "execution_count": 51,
   "id": "4c32497c",
   "metadata": {
    "scrolled": false
   },
   "outputs": [
    {
     "name": "stdout",
     "output_type": "stream",
     "text": [
      "MLEWVEHGRPSI\n",
      "MSQKRLPRERFVNTMMGAGLMM\n",
      "MMGAGLMM\n",
      "MGAGLMM\n",
      "MM\n",
      "M\n",
      "MYDPNLFQLSPFSLFRTLIA\n",
      "MNYSRRRSYW\n",
      "MISSP\n",
      "MDDQAFKTGPEQLNPPQAMSALGRAAGL\n",
      "MSALGRAAGL\n",
      "MQPMVPVYVWVQSRDRVQ\n",
      "MVPVYVWVQSRDRVQ\n",
      "MIQRTYTGRLINFSSTTDDKLTLSQ\n",
      "MGHC\n",
      "MDLLTHQRIT\n",
      "ML\n",
      "MGKRTGMEWLV\n",
      "MEWLV\n",
      "MTYALASQ\n",
      "MKWRAWRRPQTGESLTKPGSLTCTFCVRL\n",
      "MGTARLPSLLI\n",
      "MAGLIRDVIMLEPCRAAECRHCLRGV\n",
      "MLEPCRAAECRHCLRGV\n",
      "MEGVEETTNW\n",
      "MTRSSIQGIV\n",
      "MSIGRDPVTAPTRTQAPLVAYPLSSIWGNAQVWNGWSNTGRDYARALPRGRVQTLLAGGLVVRGPF\n"
     ]
    }
   ],
   "source": [
    "code = \"orf\"\n",
    "\n",
    "file=read_fasta(code)\n",
    "\n",
    "for fasta in file:\n",
    "    sequence= str(fasta.seq)\n",
    "\n",
    "s=sequence\n",
    "ans={}\n",
    "\n",
    "#forward\n",
    "s=s.replace('T','U')\n",
    "for i in range(3):\n",
    "    seq=''\n",
    "    for k in range(i,len(s)-2-i,3):\n",
    "        seq=seq+(codons[s[i+k:i+k+3]])\n",
    "    for j in range(len(seq)):\n",
    "        if seq[j]!='M':\n",
    "            continue\n",
    "        if 'X' not in seq[j:]:\n",
    "            continue\n",
    "        ans[(seq[j:].split('X')[0])]=1\n",
    "\n",
    "        \n",
    "#reverse transcript\n",
    "s=s[::-1]\n",
    "s=s.replace('A','X')\n",
    "s=s.replace('U','A')\n",
    "s=s.replace('X','U')\n",
    "s=s.replace('G','X')\n",
    "s=s.replace('C','G')\n",
    "s=s.replace('X','C')\n",
    "\n",
    "for i in range(3):\n",
    "    seq=''\n",
    "    for k in range(i,len(s)-2-i,3):\n",
    "        seq=seq+(codons[s[i+k:i+k+3]])\n",
    "    for j in range(len(seq)):\n",
    "        if seq[j]!='M':\n",
    "            continue\n",
    "        if 'X' not in seq[j:]:\n",
    "            continue\n",
    "        ans[(seq[j:].split('X')[0])]=1\n",
    "\n",
    "        \n",
    "#dict to avoid repetition\n",
    "for prot in ans.keys():\n",
    "    print(prot)"
   ]
  },
  {
   "cell_type": "code",
   "execution_count": 177,
   "id": "aac3a422",
   "metadata": {},
   "outputs": [
    {
     "name": "stdout",
     "output_type": "stream",
     "text": [
      "P08709_FA7_HUMAN\n",
      "205 382 \n",
      "Q1JLH6\n",
      "70 120 212 \n",
      "P07987_GUX2_TRIRE\n",
      "38 313 334 \n",
      "P42098_ZP3_PIG\n",
      "124 146 179 271 \n",
      "P40225_TPO_HUMAN\n",
      "197 206 234 255 340 348 \n",
      "P02974_FMM1_NEIGO\n",
      "67 68 121 \n",
      "Q9QSP4\n",
      "196 250 326 443 \n",
      "P08198_CSG_HALHA\n",
      "36 51 327 339 398 438 513 643 727 751 787 811 815 \n",
      "P12923\n",
      "49 55 87 \n"
     ]
    }
   ],
   "source": [
    "code='mprt'\n",
    "\n",
    "import urllib.request #for web stuff\n",
    "\n",
    "file= read(code)\n",
    "protnms = file.readlines()\n",
    "baseweb='http://www.uniprot.org/uniprot/'\n",
    "for prot in protnms:\n",
    "    tempf = open(\"temp.txt\",\"w+\")\n",
    "    #print(prot)\n",
    "    lines = urllib.request.urlopen(baseweb+prot[:-1]+'.fasta') # it's a file like object and works just like a file\n",
    "    for s in lines:\n",
    "        tempf.write(s.decode('UTF-8'))\n",
    "    tempf.close()\n",
    "    names, lista = ([],[]) #readFASTA('temp.txt')\n",
    "    fasta_sequences = SeqIO.parse(open('temp.txt'),'fasta')\n",
    "    for fasta in fasta_sequences:\n",
    "        name, sequence = fasta.id, str(fasta.seq)\n",
    "        lista.append(sequence)\n",
    "        names.append(name)\n",
    "    length=len(lista)\n",
    "    seq=lista[0]\n",
    "    pos=[]\n",
    "    for i in range(len(seq)-3):\n",
    "        if seq[i]=='N':\n",
    "            if seq[i+1]!='P' and seq[i+3]!='P' and (seq[i+2]=='S' or seq[i+2]=='T'):\n",
    "                pos.append(i+1)\n",
    "    if pos!=[]:\n",
    "        print(prot[:-1])\n",
    "        for j in pos:\n",
    "            print(j, end=' ')\n",
    "        print()"
   ]
  },
  {
   "cell_type": "code",
   "execution_count": 142,
   "id": "0752f099",
   "metadata": {},
   "outputs": [
    {
     "name": "stdout",
     "output_type": "stream",
     "text": [
      "['ACCTTGAACAGGCATCCTGAATCGACACGCGTTCCGCAAAGTGAAAGCGCTGTTCTCTTACAACCGCGGAGCTCTCGCGAGCCGCCCCTTATCAAAGAACATTAGGGATTCGCAAGATACGAACGCTGCTAATATATCCAAGTCGGACTTAGAAGTCTACTCCGACTAGTTGTCCTGCCACTCCGCGTCACGCGCCCTGACGAGCATTTGAATTATCTGGCGTGTCAATAC']\n"
     ]
    }
   ],
   "source": [
    "code = \"lcsm\"\n",
    "\n",
    "fasta_sequences = read_fasta(code)\n",
    "\n",
    "seqs=[]\n",
    "for fasta in fasta_sequences:\n",
    "    name, sequence = fasta.id, str(fasta.seq)\n",
    "    seqs.append(sequence)\n",
    "\n",
    "def increment(lista):\n",
    "    res=[]\n",
    "    for a in lista:\n",
    "        for b in ['A','C','G','T']:\n",
    "            res.append(a+b)\n",
    "    return res\n",
    "\n",
    "def iscommon(lista,seqs):\n",
    "    res=[]\n",
    "    for l in lista:\n",
    "        for seq in seqs:\n",
    "            if l not in seq:\n",
    "                #print(l)\n",
    "                #print(seq)\n",
    "                res.append(l)\n",
    "                break\n",
    "    res=list(dict.fromkeys(res))\n",
    "    for r in res:\n",
    "        lista.remove(r)\n",
    "    return lista\n",
    "\n",
    "\n",
    "csubs=[]\n",
    "\n",
    "size=1\n",
    "csubs=['A','C','G','T']\n",
    "csubslast=csubs\n",
    "while len(csubs)>0:\n",
    "    size+=1\n",
    "    csubslast=csubs\n",
    "    csubs=increment(csubs)\n",
    "    csubs=iscommon(csubs,seqs)\n",
    "print(csubslast)"
   ]
  },
  {
   "cell_type": "code",
   "execution_count": 116,
   "id": "ab37f9e0",
   "metadata": {},
   "outputs": [
    {
     "name": "stdout",
     "output_type": "stream",
     "text": [
      "19696070424725807152\n"
     ]
    }
   ],
   "source": [
    "code = \"fibd\"\n",
    "\n",
    "file=read(code)\n",
    "\n",
    "txtspl=file.read().replace('\\n','').split(' ')\n",
    "n=int(txtspl[0])\n",
    "k=int(txtspl[1])\n",
    "\n",
    "\n",
    "fibs=[0]*(k+1)\n",
    "fibs[0]=1\n",
    "fibs.pop()\n",
    "fibs\n",
    "\n",
    "for i in range(n-1):\n",
    "    fibs.insert(0, sum(fibs)-fibs[0])\n",
    "    fibs.pop()\n",
    "    #print(fibs, end='= ')\n",
    "    #print(sum(fibs))\n",
    "print(sum(fibs))"
   ]
  },
  {
   "cell_type": "code",
   "execution_count": 125,
   "id": "fb6eef66",
   "metadata": {},
   "outputs": [
    {
     "name": "stdout",
     "output_type": "stream",
     "text": [
      "151667.0\n"
     ]
    }
   ],
   "source": [
    "code = \"iev\"\n",
    "\n",
    "vals=read_vals(code)\n",
    "intvals = list(map(int, vals))\n",
    "\n",
    "print(2*np.dot(intvals,[1.0,1.0,1.0,0.75,0.5,0]) )"
   ]
  },
  {
   "cell_type": "code",
   "execution_count": 45,
   "id": "8e63e4cd",
   "metadata": {},
   "outputs": [
    {
     "name": "stdout",
     "output_type": "stream",
     "text": [
      "47 73 166 223 249 280 324 343 441 469 485 585 592 642 660 686 704 711 755 773 788 "
     ]
    }
   ],
   "source": [
    "code = \"subs\"\n",
    "\n",
    "\n",
    "file=read(code)\n",
    "\n",
    "seqs=file.read().split('\\n')\n",
    "        \n",
    "s=seqs[0]\n",
    "t=seqs[1]\n",
    "        \n",
    "for i in range(len(s)-len(t) ):\n",
    "    if s[i:i+len(t)]==t:\n",
    "        print(i+1,end=' ')"
   ]
  },
  {
   "cell_type": "code",
   "execution_count": 167,
   "id": "1b87ac17",
   "metadata": {},
   "outputs": [
    {
     "name": "stdout",
     "output_type": "stream",
     "text": [
      "0.3255715702475771\n"
     ]
    }
   ],
   "source": [
    "code = \"lia\"\n",
    "#Pranked this was math. Note AaBb is always 1/4 chances so at least N means 1 - exactly 0 - exactly 1 - ...- exactly N-1\n",
    "k, N=read_vals(code)\n",
    "k=int(k)\n",
    "N=int(N)\n",
    "\n",
    "res=1.0\n",
    "for i in range(1,N+1):\n",
    "    #print(i,end=': ')\n",
    "    #print(comb(2**k,i-1)*(3/4)**(2**k-i+1)*(1/4)**(i-1))\n",
    "    res=res-comb(2**k,i-1)*(3/4)**(2**k-i+1)*(1/4)**(i-1)\n",
    "print(res)\n"
   ]
  },
  {
   "cell_type": "code",
   "execution_count": 14,
   "id": "cd62bd1f",
   "metadata": {},
   "outputs": [
    {
     "data": {
      "text/plain": [
       "0.7381651017214397"
      ]
     },
     "execution_count": 14,
     "metadata": {},
     "output_type": "execute_result"
    }
   ],
   "source": [
    "code = \"iprb\"\n",
    "file=read(code)\n",
    "text=file.read()\n",
    "\n",
    "data=(text[:-1].split(' '))\n",
    "\n",
    "k=int(data[0])\n",
    "m=int(data[1])\n",
    "n=int(data[2])\n",
    "\n",
    "res=1-( (n*(n-1)/2 + m*(m-1)/8 + n*m/2)  / ((k+m+n)*(k+m+n-1)/2) ) \n",
    "res"
   ]
  },
  {
   "cell_type": "code",
   "execution_count": 118,
   "id": "17356c57",
   "metadata": {},
   "outputs": [
    {
     "name": "stdout",
     "output_type": "stream",
     "text": [
      "Rosalind_2003 Rosalind_8376\n",
      "Rosalind_2003 Rosalind_4468\n",
      "Rosalind_2003 Rosalind_0316\n",
      "Rosalind_2003 Rosalind_8560\n",
      "Rosalind_5403 Rosalind_3772\n",
      "Rosalind_5403 Rosalind_3880\n",
      "Rosalind_3427 Rosalind_0101\n",
      "Rosalind_9944 Rosalind_1646\n",
      "Rosalind_3336 Rosalind_1646\n",
      "Rosalind_9578 Rosalind_4054\n",
      "Rosalind_9578 Rosalind_8903\n",
      "Rosalind_8912 Rosalind_1646\n",
      "Rosalind_8970 Rosalind_6621\n",
      "Rosalind_2131 Rosalind_2063\n",
      "Rosalind_2131 Rosalind_1048\n",
      "Rosalind_2131 Rosalind_1620\n",
      "Rosalind_1839 Rosalind_4872\n",
      "Rosalind_1839 Rosalind_6309\n",
      "Rosalind_9980 Rosalind_1830\n",
      "Rosalind_9980 Rosalind_5113\n",
      "Rosalind_1830 Rosalind_6621\n",
      "Rosalind_3134 Rosalind_2131\n",
      "Rosalind_3134 Rosalind_6579\n",
      "Rosalind_3134 Rosalind_8687\n",
      "Rosalind_3134 Rosalind_8008\n",
      "Rosalind_3134 Rosalind_1191\n",
      "Rosalind_0051 Rosalind_2063\n",
      "Rosalind_0051 Rosalind_1048\n",
      "Rosalind_0051 Rosalind_1620\n",
      "Rosalind_6579 Rosalind_1586\n",
      "Rosalind_6579 Rosalind_1267\n",
      "Rosalind_8687 Rosalind_2131\n",
      "Rosalind_8687 Rosalind_6579\n",
      "Rosalind_8687 Rosalind_8008\n",
      "Rosalind_8687 Rosalind_1191\n",
      "Rosalind_1774 Rosalind_1646\n",
      "Rosalind_7629 Rosalind_0853\n",
      "Rosalind_4054 Rosalind_0853\n",
      "Rosalind_1579 Rosalind_7360\n",
      "Rosalind_8376 Rosalind_9980\n",
      "Rosalind_8376 Rosalind_7428\n",
      "Rosalind_8376 Rosalind_4128\n",
      "Rosalind_1908 Rosalind_4872\n",
      "Rosalind_1908 Rosalind_6309\n",
      "Rosalind_3148 Rosalind_4664\n",
      "Rosalind_3148 Rosalind_8473\n",
      "Rosalind_3148 Rosalind_0312\n",
      "Rosalind_3148 Rosalind_7656\n",
      "Rosalind_3148 Rosalind_3636\n",
      "Rosalind_3895 Rosalind_9944\n",
      "Rosalind_3895 Rosalind_3336\n",
      "Rosalind_3895 Rosalind_8970\n",
      "Rosalind_3895 Rosalind_9993\n",
      "Rosalind_1646 Rosalind_1651\n",
      "Rosalind_8946 Rosalind_5077\n",
      "Rosalind_8946 Rosalind_2908\n",
      "Rosalind_3712 Rosalind_7394\n",
      "Rosalind_3712 Rosalind_9663\n",
      "Rosalind_0853 Rosalind_9980\n",
      "Rosalind_0853 Rosalind_7428\n",
      "Rosalind_0853 Rosalind_4128\n",
      "Rosalind_1586 Rosalind_1830\n",
      "Rosalind_1586 Rosalind_5113\n",
      "Rosalind_3813 Rosalind_3712\n",
      "Rosalind_3813 Rosalind_7394\n",
      "Rosalind_3813 Rosalind_9663\n",
      "Rosalind_8008 Rosalind_1839\n",
      "Rosalind_8008 Rosalind_3148\n",
      "Rosalind_8008 Rosalind_2577\n",
      "Rosalind_0733 Rosalind_7629\n",
      "Rosalind_0733 Rosalind_0273\n",
      "Rosalind_0733 Rosalind_7509\n",
      "Rosalind_8473 Rosalind_9769\n",
      "Rosalind_7428 Rosalind_6006\n",
      "Rosalind_1048 Rosalind_7700\n",
      "Rosalind_3609 Rosalind_3427\n",
      "Rosalind_3609 Rosalind_9578\n",
      "Rosalind_3609 Rosalind_5067\n",
      "Rosalind_3168 Rosalind_3772\n",
      "Rosalind_3168 Rosalind_3880\n",
      "Rosalind_8239 Rosalind_6006\n",
      "Rosalind_9993 Rosalind_1774\n",
      "Rosalind_9993 Rosalind_1579\n",
      "Rosalind_7394 Rosalind_5403\n",
      "Rosalind_7394 Rosalind_3902\n",
      "Rosalind_1890 Rosalind_5403\n",
      "Rosalind_1890 Rosalind_3902\n",
      "Rosalind_4061 Rosalind_0051\n",
      "Rosalind_4128 Rosalind_1839\n",
      "Rosalind_4128 Rosalind_3148\n",
      "Rosalind_4128 Rosalind_2577\n",
      "Rosalind_9095 Rosalind_5403\n",
      "Rosalind_9095 Rosalind_3902\n",
      "Rosalind_2291 Rosalind_8912\n",
      "Rosalind_2291 Rosalind_1992\n",
      "Rosalind_4872 Rosalind_7360\n",
      "Rosalind_1641 Rosalind_0101\n",
      "Rosalind_2088 Rosalind_9769\n",
      "Rosalind_5077 Rosalind_4872\n",
      "Rosalind_5077 Rosalind_6309\n",
      "Rosalind_5174 Rosalind_4054\n",
      "Rosalind_5174 Rosalind_8903\n",
      "Rosalind_7656 Rosalind_7629\n",
      "Rosalind_7656 Rosalind_0273\n",
      "Rosalind_7656 Rosalind_7509\n",
      "Rosalind_6621 Rosalind_8735\n",
      "Rosalind_6621 Rosalind_8946\n",
      "Rosalind_6621 Rosalind_5772\n",
      "Rosalind_6621 Rosalind_9076\n",
      "Rosalind_3636 Rosalind_7642\n",
      "Rosalind_6962 Rosalind_0051\n",
      "Rosalind_8549 Rosalind_1586\n",
      "Rosalind_8549 Rosalind_1267\n",
      "Rosalind_6006 Rosalind_2003\n",
      "Rosalind_6006 Rosalind_6601\n",
      "Rosalind_6006 Rosalind_5033\n",
      "Rosalind_4451 Rosalind_9769\n",
      "Rosalind_4135 Rosalind_3609\n",
      "Rosalind_1367 Rosalind_4054\n",
      "Rosalind_1367 Rosalind_8903\n",
      "Rosalind_1651 Rosalind_7642\n",
      "Rosalind_3880 Rosalind_8239\n",
      "Rosalind_5113 Rosalind_2088\n",
      "Rosalind_9663 Rosalind_3427\n",
      "Rosalind_9663 Rosalind_9578\n",
      "Rosalind_9663 Rosalind_5067\n",
      "Rosalind_8903 Rosalind_7360\n",
      "Rosalind_6309 Rosalind_8735\n",
      "Rosalind_6309 Rosalind_8946\n",
      "Rosalind_6309 Rosalind_5772\n",
      "Rosalind_6309 Rosalind_9076\n",
      "Rosalind_5056 Rosalind_6621\n",
      "Rosalind_3815 Rosalind_9769\n",
      "Rosalind_5033 Rosalind_7360\n",
      "Rosalind_4534 Rosalind_0733\n",
      "Rosalind_4534 Rosalind_9095\n",
      "Rosalind_1191 Rosalind_5077\n",
      "Rosalind_1191 Rosalind_2908\n",
      "Rosalind_1267 Rosalind_4054\n",
      "Rosalind_1267 Rosalind_8903\n",
      "Rosalind_8560 Rosalind_4664\n",
      "Rosalind_8560 Rosalind_8473\n",
      "Rosalind_8560 Rosalind_0312\n",
      "Rosalind_8560 Rosalind_7656\n",
      "Rosalind_8560 Rosalind_3636\n",
      "Rosalind_1620 Rosalind_2003\n",
      "Rosalind_1620 Rosalind_6601\n",
      "Rosalind_1620 Rosalind_5033\n"
     ]
    }
   ],
   "source": [
    "code = \"grph\"\n",
    "\n",
    "fasta_sequences = read_fasta(code)\n",
    "\n",
    "seqs=[]\n",
    "for fasta in fasta_sequences:\n",
    "    name, sequence = fasta.id, str(fasta.seq)\n",
    "    seqs.append( (name,sequence) )\n",
    "for i in range(len(seqs)):\n",
    "    for j in range(len(seqs)):\n",
    "        if i==j:\n",
    "            continue\n",
    "        if seqs[i][1][-3:]==seqs[j][1][:3]:\n",
    "            print(seqs[i][0], end=' ')\n",
    "            print(seqs[j][0])"
   ]
  },
  {
   "cell_type": "code",
   "execution_count": 5,
   "id": "77fa810b",
   "metadata": {
    "ExecuteTime": {
     "end_time": "2021-10-15T02:50:40.611894Z",
     "start_time": "2021-10-15T02:50:40.602918Z"
    }
   },
   "outputs": [
    {
     "name": "stdout",
     "output_type": "stream",
     "text": [
      "0.4988425925925926\n",
      "0.5134818288393904\n",
      "Rosalind_8853\n",
      "0.5134818288393904\n"
     ]
    }
   ],
   "source": [
    "code='gc'\n",
    "\n",
    "fasta_sequences = read_fasta(code)\n",
    "\n",
    "max_gc=0\n",
    "for fasta in fasta_sequences:\n",
    "    name, sequence = fasta.id, str(fasta.seq)\n",
    "    gc=(sequence.count('C')+sequence.count('G'))/len(sequence)\n",
    "    if gc>max_gc:\n",
    "        print(gc)\n",
    "        max_gc=gc\n",
    "        result=name\n",
    "print(result)\n",
    "print(max_gc)"
   ]
  },
  {
   "cell_type": "code",
   "execution_count": 55,
   "id": "078bd8f5",
   "metadata": {},
   "outputs": [
    {
     "name": "stdout",
     "output_type": "stream",
     "text": [
      "GGCGTTCCGTAGTGCGCGGCCTAGTCGAACCAGGAGGGGTGTTGAATGGACACCAAAAAGACAACGTAGGGGCAGGGTCAAGTCTCAGAACATACTGTGATAAAAGACCGGTAGATTGGGTTAGCACCATTCCCTGAGAACCCAACATAGGAGCTGCACCGGCTACAATCATTTTAAGGCTATCAGTACGGTGTGTTGCATCCAAAAGCGACAGAAAAGGAAGAAAATAAGCGGCTGCAGAAAAGGAGAACCACGCAATAGACCGATTTCATTTCAACATGGTTTATAGCACATGACGGGGCACGCGGACGTAAAGACCCGCTCAATCCTAGTAGCGATCGCACAACCCGCCCATCGCAAGATGAGAGCGGAGTGGCGCTCTCCGTGAAGCAGCAAGCGTCGTGAACTAGTTGATTAGAAGACCTTGAGAGGCGATATAGGCAATCAAGGAAAGAGAAATGAATTCGGATACGAGGCGGCACGGAAAAGTCTGGGAGAAAAAATCAGCACGTTGCGAAAAGTTGATGCCACAGAGATACTTGATAACGTCTGAATAGACATGTGGAATCCATATTACTGGTTCTCCGGGTTAGCAGAATAAGCTATATTCATGCACCAGAGGGTAACGAAGCGGAACTACTATACCGGGAGCAGGCACAACGGTCCCGCAAGATCAGCTAGTGCGGACGGAGCATGAGGCAAGAAAAGCGAGGAACTAAAGCGGCATCGTGTAGCGATAAAAATAAACCGGCTACAGCCGTATGGGATTTGGTGTCAGCATCACGCAGGGTGAGTCGATAAATTCGAAGTCACGTACCGCGCCCATCCTCCAGGGGAAAAGAATCCTGGCCGGACCTACAGACTGAACAGAGGAAAATGGATAAAGAGAGCACAAGGCGGTAGTTAAGATCGGGTATGCATGC\n",
      "A: 2 0 2 2 2 3 3 0 2 3 4 1 1 2 0 0 3 1 2 2 2 1 4 3 1 1 0 4 3 1 3 3 1 1 3 1 2 3 1 1 3 1 2 1 4 4 1 1 1 3 3 3 2 2 4 5 4 6 6 3 3 2 5 4 1 0 2 4 1 2 1 2 3 5 1 2 2 2 3 3 3 1 3 3 2 1 3 4 3 3 2 5 3 3 0 1 2 2 3 3 2 4 3 4 4 1 4 2 2 1 2 3 6 1 3 2 2 2 2 2 3 2 4 1 0 3 3 2 3 3 1 3 1 2 1 1 4 2 3 4 1 1 0 4 5 1 3 1 4 1 1 5 1 1 1 2 0 4 2 2 3 0 2 3 4 2 3 4 1 2 3 1 3 1 1 5 4 2 3 1 3 4 2 1 5 2 1 4 2 1 2 2 4 2 3 2 3 1 3 5 2 2 2 4 5 3 4 0 2 1 6 2 4 2 5 6 3 3 2 2 6 4 1 4 4 4 5 2 5 3 3 1 3 2 0 2 3 2 5 1 3 6 3 6 2 1 3 2 5 4 2 2 4 1 0 3 4 4 2 4 2 3 1 2 1 4 3 1 1 3 5 1 2 1 1 5 4 1 3 2 2 2 1 3 3 5 3 3 1 1 4 3 5 3 2 3 2 3 1 1 1 0 3 2 3 3 3 1 4 3 2 3 5 4 3 0 3 2 0 3 0 3 3 2 6 3 2 1 3 1 3 3 2 4 3 1 1 3 1 0 2 2 4 3 4 4 1 3 0 2 0 1 2 4 0 2 0 2 3 3 2 4 1 1 4 2 4 0 2 0 2 4 2 3 3 3 2 1 1 4 1 3 2 2 2 2 1 4 3 3 0 5 1 1 4 4 1 3 1 1 1 3 2 2 3 5 3 3 4 1 3 1 2 4 3 3 3 2 3 4 4 6 1 3 3 2 2 5 0 4 1 0 0 1 4 0 3 3 4 1 1 0 5 4 2 2 4 4 2 1 3 4 3 0 5 2 4 3 6 2 2 6 3 1 3 2 1 0 4 2 3 0 1 3 2 1 2 2 2 3 3 2 2 0 4 3 3 3 3 1 3 2 3 2 1 3 1 5 3 3 6 3 7 3 3 3 3 2 4 2 1 1 0 2 2 2 6 6 4 4 1 2 3 3 4 3 2 2 1 3 2 4 1 4 1 4 3 4 2 2 2 0 4 3 4 4 2 1 2 2 3 2 4 4 2 4 2 3 3 5 2 2 2 2 1 4 3 2 1 2 3 2 3 2 2 3 3 2 2 2 2 2 3 1 2 2 1 2 2 2 3 3 1 3 5 1 4 3 3 3 3 0 1 1 5 2 3 3 2 3 5 3 2 1 4 1 3 4 2 5 2 2 0 0 3 3 1 2 3 3 1 1 2 2 4 4 0 1 3 2 1 3 3 5 1 1 4 3 0 4 2 2 4 2 1 3 3 1 4 3 2 2 2 1 2 1 1 1 1 3 5 3 3 3 1 4 1 1 0 3 1 2 2 2 3 2 3 0 2 1 5 3 2 4 3 1 4 2 0 2 4 4 2 4 4 4 5 1 3 2 4 2 1 4 4 2 2 4 3 4 3 2 3 1 3 4 3 2 2 2 2 0 3 3 1 2 3 3 6 3 3 4 4 4 3 4 4 2 1 0 2 2 2 4 3 5 2 2 2 2 3 6 2 1 3 2 5 3 1 2 1 2 2 3 3 2 3 2 1 5 1 0 4 2 3 1 4 0 0 3 2 1 4 1 1 4 1 3 3 3 5 4 1 2 2 1 5 3 2 3 2 3 2 0 3 4 1 2 1 1 2 2 2 2 5 0 3 1 2 3 0 4 2 2 2 2 5 4 5 3 0 4 4 1 1 2 1 3 2 2 3 1 2 3 1 4 1 4 0 5 0 5 2 2 2 6 5 3 4 1 3 2 1 4 3 4 4 3 1 1 3 2 4 5 3 2 3 3 3 1 1 4 2 5 7 2 1 2 2 2 1 3 1 1 3 3 3 1 4 3 0 2 1 1 2 5 2 2 1 3 1 2 2 \n",
      "C: 0 2 4 3 1 0 5 5 2 2 3 3 2 3 6 2 4 3 3 3 3 2 3 2 2 6 4 1 2 4 5 3 3 3 2 2 3 1 3 1 1 1 3 1 2 0 2 3 1 3 4 3 3 3 1 4 2 1 1 0 2 4 3 3 5 2 3 1 3 2 3 3 4 1 1 1 2 1 5 1 2 2 0 4 2 5 3 0 3 3 6 2 1 3 5 1 3 1 2 3 1 2 2 1 3 0 2 4 4 2 3 3 2 4 2 2 1 2 2 1 2 1 3 2 7 1 4 3 1 3 1 4 5 3 0 3 2 1 2 2 5 4 4 2 4 5 3 2 3 1 3 2 3 6 2 2 5 0 5 4 2 4 4 2 2 3 2 1 2 5 2 2 2 2 2 1 4 3 1 6 1 1 1 5 1 3 3 1 4 3 1 1 1 3 0 2 1 2 4 4 2 5 5 4 1 3 1 2 4 3 1 4 2 2 1 1 1 3 3 2 0 3 3 4 3 1 4 1 2 2 0 4 2 1 6 1 2 4 0 4 1 1 3 3 3 3 3 2 2 3 4 3 1 4 3 5 3 2 1 0 1 2 4 3 2 1 0 2 2 5 1 2 1 3 4 2 3 5 2 1 2 2 2 0 1 1 2 3 4 4 4 4 3 3 1 2 4 2 2 3 1 7 3 6 3 4 0 3 1 4 2 1 2 1 2 3 3 3 6 4 2 5 1 4 2 2 3 5 4 3 2 0 2 3 2 4 2 2 2 4 2 3 1 4 3 1 5 4 5 3 5 4 3 0 2 4 3 4 3 2 2 0 3 2 1 2 3 1 3 4 3 4 1 2 2 2 3 4 4 1 7 1 4 5 3 2 3 1 2 0 5 2 2 6 0 2 1 5 3 2 5 1 2 2 3 2 6 2 1 3 2 3 0 1 2 2 3 0 2 1 1 2 4 5 1 0 3 0 0 1 4 1 7 3 1 3 3 1 2 3 1 6 2 2 2 4 1 2 2 3 3 4 2 0 2 2 3 2 2 3 2 1 3 2 1 4 2 2 1 2 2 4 3 3 3 3 4 2 3 5 3 6 1 4 4 3 3 2 2 1 6 1 1 3 3 3 2 3 3 3 0 2 0 1 4 1 0 4 3 4 4 2 2 1 5 3 2 0 4 1 1 2 2 2 3 1 3 4 5 3 5 4 3 3 3 0 1 2 4 2 2 3 2 3 1 2 5 3 2 6 3 2 1 3 1 1 2 2 5 1 2 1 2 3 3 1 3 2 8 4 3 1 3 2 2 2 4 0 3 2 0 2 4 3 5 5 3 2 2 0 0 3 1 6 3 2 4 3 0 2 3 2 4 0 1 2 3 2 3 4 2 2 2 5 3 6 4 1 3 2 1 3 3 1 1 3 5 0 3 1 3 4 2 3 1 2 4 0 3 6 3 3 0 0 5 6 0 1 2 3 3 4 1 2 3 4 2 5 3 2 4 3 3 3 4 5 4 3 5 1 3 1 1 2 4 2 4 4 2 2 3 3 4 4 3 1 1 5 2 1 3 1 3 4 1 3 2 0 3 4 2 1 2 2 3 1 1 3 4 3 3 2 2 2 2 3 2 1 3 2 1 4 1 0 4 3 2 5 1 2 4 2 3 2 4 3 3 2 3 2 3 1 3 1 3 2 4 5 4 3 2 4 2 2 4 2 3 4 4 3 2 1 2 3 1 3 2 3 2 1 1 3 2 2 2 4 3 2 5 2 3 5 3 6 2 6 3 4 2 1 3 0 3 1 2 6 1 2 0 2 1 2 3 3 6 2 0 3 1 3 5 3 3 2 0 1 4 4 3 5 0 5 4 4 1 4 4 4 1 4 4 2 3 2 3 3 1 0 3 1 4 2 2 2 4 4 0 1 2 3 4 1 3 3 4 5 1 2 6 2 2 2 3 2 2 3 1 4 1 1 3 2 1 1 3 2 0 2 3 1 3 1 1 0 3 3 3 2 3 3 4 2 3 2 0 2 2 3 1 3 2 1 3 1 3 3 3 1 1 2 4 2 3 2 2 3 3 3 4 3 3 1 4 \n",
      "G: 5 5 1 3 2 1 1 3 5 1 3 4 3 3 3 7 1 3 3 2 2 2 3 5 3 2 4 1 3 3 1 2 4 4 2 4 3 5 3 2 4 3 1 6 1 3 2 4 5 3 3 1 2 2 1 0 2 1 2 4 2 2 1 2 0 4 0 3 4 4 3 3 1 1 4 4 3 0 1 3 3 4 2 2 2 1 1 5 2 1 0 1 1 2 3 2 3 2 4 2 2 2 2 4 2 7 2 2 0 4 3 0 1 5 2 2 3 4 3 5 1 3 0 4 3 3 3 2 3 0 3 1 2 2 3 3 3 4 2 1 1 2 3 3 1 1 2 3 0 4 3 2 5 1 3 3 4 2 2 1 4 5 3 1 2 2 3 2 0 2 3 3 1 3 3 1 1 3 4 2 2 1 1 3 2 4 0 3 1 3 4 3 5 1 4 2 2 5 0 1 2 3 0 0 2 2 4 5 3 5 1 3 3 3 3 3 3 2 4 3 4 1 4 1 2 4 0 3 1 3 5 3 4 5 2 1 4 2 1 4 3 3 2 1 4 3 1 3 2 1 2 2 3 2 4 0 1 0 3 4 4 3 3 2 4 2 1 0 3 0 3 3 3 1 3 0 2 3 3 2 3 4 0 2 2 2 1 3 4 2 1 3 2 0 5 2 2 4 4 3 6 2 2 2 4 2 5 4 1 0 5 2 1 4 2 5 1 2 2 2 4 1 1 2 0 3 1 1 1 2 2 4 2 1 5 1 5 3 2 2 3 2 3 3 3 3 3 1 2 4 2 2 2 4 3 0 5 1 3 3 3 2 2 5 3 5 0 7 2 5 3 1 6 1 4 4 2 4 2 0 1 2 2 2 4 1 3 4 2 4 2 3 5 3 3 3 4 2 3 2 1 6 2 4 2 2 1 1 3 3 1 2 4 1 1 1 1 5 2 2 5 1 2 1 1 2 3 3 5 2 4 8 1 3 3 2 1 2 2 3 4 0 1 2 2 1 2 1 4 5 2 0 2 5 1 5 1 3 1 1 4 3 3 3 2 2 4 4 3 2 2 2 4 3 3 3 2 5 4 1 2 2 5 4 1 1 2 2 4 3 0 3 4 3 4 2 5 0 2 3 2 3 3 1 1 3 6 1 1 1 4 2 3 4 0 3 0 2 2 3 5 2 1 4 1 2 3 0 1 1 2 0 3 2 3 4 2 3 3 1 0 6 2 0 3 1 1 3 2 1 0 5 4 2 3 2 3 3 1 2 2 5 2 4 3 3 3 2 1 2 2 3 1 2 0 2 2 3 4 4 3 1 1 2 1 2 3 3 3 3 1 2 4 0 1 4 2 2 1 2 2 7 3 4 1 2 3 1 0 1 2 1 4 2 2 1 1 3 3 2 6 3 5 4 3 3 3 4 2 3 3 3 5 3 2 3 3 4 3 1 2 1 3 2 4 2 5 6 6 2 3 2 3 5 3 1 2 3 1 3 2 4 3 1 3 3 3 4 2 3 1 4 3 1 1 2 4 2 3 3 5 0 4 2 4 5 3 2 4 5 1 4 2 1 2 4 2 5 4 3 2 3 3 1 1 2 2 3 2 4 2 3 5 3 1 2 2 3 2 2 5 2 5 6 1 2 0 2 4 2 4 3 3 5 2 3 3 0 0 3 2 3 2 0 2 2 2 2 2 5 3 2 1 3 1 1 4 0 3 3 1 2 2 3 6 3 2 0 3 1 4 3 2 5 0 2 1 3 2 1 2 3 0 2 5 1 2 5 4 5 0 5 2 4 2 0 4 3 3 3 2 1 2 1 1 4 2 2 4 0 2 3 2 6 3 2 3 2 3 3 4 2 1 3 4 1 3 2 3 1 3 1 3 4 3 4 1 2 1 3 5 2 2 3 3 1 4 4 4 2 2 4 3 2 1 0 2 3 1 1 6 2 2 2 6 1 3 1 4 5 3 4 5 3 2 3 4 1 3 4 2 3 1 2 3 4 3 5 2 4 3 1 2 2 0 3 4 2 5 3 3 3 4 3 0 1 1 4 2 1 3 3 5 4 1 0 1 3 1 2 2 6 2 \n",
      "T: 3 3 3 2 5 6 1 2 1 4 0 2 4 2 1 1 2 3 2 3 3 5 0 0 4 1 2 4 2 2 1 2 2 2 3 3 2 1 3 6 2 5 4 2 3 3 5 2 3 1 0 3 3 3 4 1 2 2 1 3 3 2 1 1 4 4 5 2 2 2 3 2 2 3 4 3 3 7 1 3 2 3 5 1 4 3 3 1 2 3 2 2 5 2 2 6 2 5 1 2 5 2 3 1 1 2 2 2 4 3 2 4 1 0 3 4 4 2 3 2 4 4 3 3 0 3 0 3 3 4 5 2 2 3 6 3 1 3 3 3 3 3 3 1 0 3 2 4 3 4 3 1 1 2 4 3 1 4 1 3 1 1 1 4 2 3 2 3 7 1 2 4 4 4 4 3 1 2 2 1 4 4 6 1 2 1 6 2 3 3 3 4 0 4 3 4 4 2 3 0 4 0 3 2 2 2 1 3 1 1 2 1 1 3 1 0 3 2 1 3 0 2 2 1 1 1 1 4 2 2 2 2 1 2 2 6 1 2 4 1 3 0 2 0 1 3 3 3 1 2 2 3 2 3 3 2 2 4 4 2 3 2 2 3 3 3 6 7 4 2 1 4 4 5 2 3 1 1 2 5 3 2 7 5 4 2 4 1 1 3 1 0 0 4 2 3 2 1 3 3 2 1 2 0 0 1 2 2 4 3 1 4 2 1 3 2 3 3 2 1 4 1 5 2 2 2 4 3 2 4 3 3 4 2 0 4 2 2 5 4 3 3 2 0 0 2 1 2 3 1 3 3 3 2 5 4 2 3 1 2 3 4 4 2 2 1 3 2 3 1 2 1 1 4 1 1 3 1 3 5 1 4 2 1 1 5 3 1 3 3 3 0 2 0 3 1 4 0 3 5 3 0 4 2 2 1 0 4 2 3 4 4 4 4 4 4 3 3 3 3 0 1 3 1 5 6 2 2 5 3 1 1 2 3 2 5 3 4 2 3 4 4 2 2 4 3 3 3 2 1 2 2 3 5 2 1 2 2 1 4 2 0 1 4 4 2 3 4 2 4 3 4 2 1 2 3 2 1 1 1 2 0 2 2 1 3 2 3 1 5 1 4 2 2 2 2 2 2 2 1 2 2 0 5 2 3 1 3 2 3 1 5 5 3 3 2 2 2 0 2 3 4 4 1 2 4 2 4 3 3 1 2 3 1 3 2 4 1 1 5 6 1 2 4 2 3 2 3 4 1 4 1 1 1 4 3 3 2 1 2 4 2 4 1 3 2 1 4 0 2 2 4 3 4 6 3 1 5 1 2 5 5 2 4 2 1 3 3 3 5 6 2 4 1 1 3 0 2 6 3 2 1 2 5 3 4 1 4 5 2 1 4 2 2 1 2 2 2 2 1 1 2 2 5 3 1 1 4 2 3 3 2 1 2 3 1 3 5 1 1 4 3 4 3 0 1 1 0 2 1 2 2 2 1 3 2 3 1 2 2 2 1 2 5 1 1 2 2 2 3 1 2 3 4 4 2 1 3 5 2 1 5 0 2 0 2 3 3 2 3 1 2 3 1 4 2 2 3 3 1 2 2 3 3 2 3 2 3 1 1 1 3 2 1 3 3 4 2 2 2 1 2 1 3 2 1 5 1 3 4 0 5 1 0 3 2 1 5 1 2 2 2 1 5 2 2 0 1 3 2 3 2 5 1 2 2 1 4 1 2 4 1 4 3 0 2 1 4 4 6 4 2 4 0 5 2 3 3 2 2 4 2 3 0 0 2 1 1 4 1 5 4 1 4 5 0 4 2 4 2 2 3 4 4 1 3 3 2 3 4 1 1 3 2 4 3 2 2 3 1 4 1 3 1 0 5 0 3 4 2 3 3 2 2 2 1 3 4 1 3 1 2 2 4 2 3 5 2 2 3 1 4 2 2 4 1 6 1 3 2 2 1 3 4 0 0 1 2 1 3 1 2 3 2 2 1 2 4 3 4 2 4 4 3 1 1 1 0 2 2 2 3 3 1 3 3 3 3 2 2 4 3 2 5 4 3 3 4 3 4 3 3 1 3 5 2 4 2 4 2 4 1 2 \n"
     ]
    }
   ],
   "source": [
    "code='cons'\n",
    "fasta_sequences = read_fasta(code)\n",
    "\n",
    "length=0\n",
    "for fasta in fasta_sequences:\n",
    "    name, sequence = fasta.id, str(fasta.seq)\n",
    "    if length==0:\n",
    "        length=len(sequence)\n",
    "        table={}\n",
    "        table['A']=length*[0]\n",
    "        table['T']=length*[0]\n",
    "        table['C']=length*[0]\n",
    "        table['G']=length*[0]\n",
    "    for i in range(length):\n",
    "        table[sequence[i]][i]+=1\n",
    "#print(table)\n",
    "for i in range(length):\n",
    "    temp=0\n",
    "    mbp=''\n",
    "    for bp in ['A','G','C','T']:\n",
    "        if table[bp][i]>temp:\n",
    "            temp=table[bp][i]\n",
    "            mbp=bp\n",
    "    print(mbp,end='')\n",
    "print()\n",
    "for bp in ['A','C','G','T']:\n",
    "    print(bp,end=': ')\n",
    "    for i in table[bp]:\n",
    "        print(i,end=' ')\n",
    "    print()"
   ]
  },
  {
   "cell_type": "code",
   "execution_count": 29,
   "id": "87244879",
   "metadata": {
    "scrolled": true
   },
   "outputs": [
    {
     "name": "stdout",
     "output_type": "stream",
     "text": [
      "MSPDAHFVYYITSCNGLLRASQARRLQTSAPNNCTVRCDHSRRTTGSVHSSSQRCSKDRRDGSLGLEGIFGLGTIHIPVLRRELALIEVCTNLEQRIGINDRSIPCSDLNYYKSFATRLVFFCAAPVRADPSAAPYRIRKGTRRRSRHTISCPPKTYSSVGVRSATLMIRTNGPSPPFSVKSSGNWVNDDSFYIAGNVSVYARIAVQHSLLNTWVLYNTSIRGCWISKLLSQRGFYTQSPRVLPNKKVQLLKQDFVPSGMLLSYETGYQATLYDHWFQNTPKKDNLQVRQASERSATFRDRGITMCVTSPLPRGIGDYDCPNEQLHRRKVLTPFDEAWLKPCSFVILTAYGCKSGNLKQDYGRNPSGYSWRRSATQGGPHTMKTLMCACTDVLSDPRAGTQSGRPPLARTRSTAPDTVSCRDLVWGMRRAGMAVGNVKTYTTLLFVDNKWWNAPNEIGDPRTHVLAMADLASADYLRKRSEHVRRVQAGYVAMKSFISPGTILDAASCRQRCNKVLIYNNTFAACYGGRRKRRVICCVYLFSLVKSPLHHVQDVLFSLTSGPSSETVPEKAVRAHYPGRQNTLPGCKNPRILHNVTHQQYYPERERHPKFWWTRGFALASSRQISATSHLYITRVAAPVVDVCNERVEMPPGDPRRSCKALYVCLHTVIKITSRSWYYIDVTKYLISTRTRPVTSRWTSSHKCNSYLRLFICPTYQRSYGNAFTRGDYTMAAAKPTVFSNRPRVDRAVSKTALVISMPLPSSIIRSFIVSDLHRRCIVAVCRMVTQLELGFNRMSRSAFGATCKNHLRHRKAWNTVLGVLCIRTRLTRFVLHKYVVNPTPTAGNSGTVLRLVSILLPAVHRRILRCVYAPSEMYTYLWEIPYTAGVFNRDRCCFNSGTIRKGHGPKVTNQRHIQKHRLEIIITFTCLWGATHARGTSWIGTGQPVAPSEAVALTRLHCDPNGRGISSVDTVLVLLYQLAYRHTTTSRGNFSVRYSLNRQVYGPVCWRSRKVWGLSPFARSFRFGLAERLGSGVSLGPKRELRGYIAWVLLSTFQWYLSSGYVLEDPKILPRNSYAGGPLLPNISESRSGLTLPVPIAHVPATMAGVSEDLLGDLAATACSQKPRPEILTLKHRPYPVSVLDKRFNAYLCLCGHDGKIQCVPNMFRRFDSDCLSYSLYRVSYQHQCTQNNIWGHGNQHLLHRWTVAVKVRVVNVSWILRRGPALVAIHVLRVLRCYRKANYGQWSSHENVYPGPHRSQNSSTLKNIGLSSLYTGPSQAMRRLRRSSLAPVGSRACQPIGTPNATYHIGRAYGPWIESEADTLTFASRTLRTALTRHRLRFGYIVNINARSLSIGVSEDVLEKYFARPGGMESECPKHATRMNQYSPPMGPRANRQNNGNRTLSRINLCLVWQIPHPRQRRDFLSVKRNGIIPGEVRRIRKFHVGSTDSAGATPMSTLSRGEGLREVFFHSCANYRCCARGAFEIMSLAFYAFFSSVLREKTGTCLFPALALRLSGCSSAVWKTLYIKYGASKEIQFKGEAAYIFYLSLSFGAQALSDPQCLLRTFCVMHPKIMLQGGRTTSGATLNISCKPWSTHTSRLWWHPTFQAALDCRGRLDLQLLGLHIRRISITKSTCSHWSLIVRIHVRIFNGNGVFDNCPSWLPYIWVPRRGATLAVKHDDSYWMTATCGNLHRMKVRILFIPVPAYGGGTGLTIVVIHLWYTHVSLLANSRALNVAGTRCHYPGSERKTGALGLIVTKYFREALGITVTALRDPSSLPLTLKEGTYRLSCLRDQGGSQMCSAPRKEGCRPDQFCSVDALSSGPSEYYAFFVERIDRNLIVFRGSSSESRSQLTPYNNLHTRCSLRDRKLEVHSCVDLPIKLPPNHAYTSNGTGHILMHVYHSKYVVESCRSTNGIPEIQGRVSEWSSRPLRYQPFRRSLPPIRLNGLSAKTMVSSGMELRDPHLLWESQGGVLTVGDSPDSSWVQVLNMVAASLRHPSESSNSNRRLPCLEPPQRIGGDAESCCPCCICNTHRYCSALPHRGEGEYPFVTAITLRLSAKLVRMGTTTTMISCRQGACNKYYGLNKAFVTTGPLTRLSERRCLEVTSIRTVGDYWLDRDLDNSKLASTGEIGTTVSDNLRHLGCPRRSCPDSARPYHGTVRQTPECKRPLLHHNPMSTMRPASLMLALGELRLVDLGQVAGYFLPHSGRRNGGCASEPFMGPSCSVRVCSVIISVPGLMWLRNPLPQYASGAETYQRTPYLLDANFYKIAMSALSVRRLAIVLYPARQSTNWHLTCARRLRVVSNRQTPHCTALEMSSTRPLFNPLTFTRPTFWHLFSAVWFAVRFRGPWVVIAITMSWCFIAIFYLTGPGRNRGRCYVPSELPRYTSWGEHLLRPNAGLRPLTVTCSSLSLKEICARYAPPHRMIPRLAVCVQGNSGTRYSRFFVVIALCKGIERRNPRRSGSSLIRKYSWRHIMTLTVELSEMCASSLDGNPQCHPAISEEDTRRYEGVPVAGYGRIERKTRSLQSYAQCTDRVPPEITGCIFWAVCIVRDFGIDWVMGGISKIYFYGRVWRPVLQTVGGLCSGAIQLVSSRLEIRGTDGCFTETQVQWGAVTRPADELADVSQLNAWRVAFLLSEVEWRLKFDMVIGSSNKLIGQYLLRSRTQYRPPPRNTGNLQCTKGPSILGDLAHGHANASQTVMRSDRRQPRTVLHSHARRLQGNSVGVSRSFNPYDPIIGRDLEILLFTGRGVRFTGCPRVSAAFLDNLCLWLTPIVGLSGHGPRWANKYT*\n"
     ]
    }
   ],
   "source": [
    "code = \"prot\"\n",
    "\n",
    "file=read(code)\n",
    "rna_string= file.read()\n",
    "\n",
    "messenger_rna = Seq(rna_string[:-1])#slice to remove \\n\n",
    "print(messenger_rna.translate())\n",
    "\n"
   ]
  },
  {
   "cell_type": "code",
   "execution_count": 27,
   "id": "d767387a",
   "metadata": {
    "ExecuteTime": {
     "end_time": "2021-10-15T02:20:48.251690Z",
     "start_time": "2021-10-15T02:20:48.237728Z"
    }
   },
   "outputs": [
    {
     "name": "stdout",
     "output_type": "stream",
     "text": [
      "313507166394911\n"
     ]
    }
   ],
   "source": [
    "code = \"fib\"\n",
    "\n",
    "file=read(code)\n",
    "text=file.read()\n",
    "months=int(text.split()[0])\n",
    "rate=int(text.split()[1])\n",
    "#months=34\n",
    "#rate=5\n",
    "\n",
    "last=0\n",
    "current=1\n",
    "for i in range(months-1):\n",
    "    temp=current\n",
    "    current+=last*rate\n",
    "    last=temp\n",
    "#print(last,end=' ')\n",
    "print(current)"
   ]
  },
  {
   "cell_type": "code",
   "execution_count": 14,
   "id": "5e4dee75",
   "metadata": {
    "ExecuteTime": {
     "end_time": "2021-10-15T02:08:49.370560Z",
     "start_time": "2021-10-15T02:08:49.359611Z"
    },
    "collapsed": true
   },
   "outputs": [
    {
     "name": "stdout",
     "output_type": "stream",
     "text": [
      "\n",
      "TTCACCAAGTAGATAAGCGAACCCGCGGTGCACGTTAAGTATGTATGAAGGCTGCCAATGGTGCCGTCTAGCAGAAAAATAATCAGAGATGTTGGACGCTCACTAATAAAGAACTCTGCTTCAATGCACACATGCAGCCCTTGCGCATAGTACCCGTCACAGCAATGGAATCGCTTTCTAGGGACAAAGCTACATATAAATGTACGTTTTGGACTGAAGTGGGTTGTGTTTAAAGTACATATCGTACCAATTGGAAAGAGCCGCGCATGACACGGCTTCCCTGGGCTGTGCATCGAATCAGTATCGTTGTATGATACCTATTTCCAAAACCCGCTGTCCTACCTACGCATGTCGGCGATTGAGCGGAGTCCAAAGAGTGCTGAGAGCTAATTTTCACTATTGGAGACTCTTGTTGTTCAGCGCTAGCTGGCTCTGACTCCCGGGCAGCGCGCCCGTTGTACTTCTTCTCTATGCATCACAGACTTTCATCATCGTATTGGTACCACACTCTGGTGCGGCCTAGCTTTTTGAACGGAGGCTGATTACGTTGTCACATCATAGTGAGTGGAGCGCTTTCTAAGTGCTGAACGGATATCAGCTAATCGTGGGCTGCCGTAGTGCCTAAGGGCCAGGTGGCTCAAGTAGGCATCTACGAATTTCACCGATGCATCCAATCATGTATGCTGGCAGCTAGCAATCTGGAAACTTCGTCTTTTCCCCACAGTAATTACGTGCAGCAGCTCGAACTCACAGAGGACTTCCTGCAGAGTTAGTAATTAACGGGAACTAAATGTACTTTAGGCCCTCCTCAGGCCAATCCACACCGCTGACGAGTGGGGATGAGTCTTATGACGGACTGAGAGGCTGCCATGGACACCGCGATCATCGTGAACCACCCCAGACTATTAGCAGCAGGATCCGTTAAGATCTGCTGTCTTCA\n"
     ]
    }
   ],
   "source": [
    "code = \"revc\"\n",
    "\n",
    "file=read(code)\n",
    "k=file.read()\n",
    "rev=k[::-1]\n",
    "rev=rev.replace(\"T\",\"U\")\n",
    "rev=rev.replace(\"A\",\"T\")\n",
    "rev=rev.replace(\"U\",\"A\")\n",
    "rev=rev.replace(\"C\",\"U\")\n",
    "rev=rev.replace(\"G\",\"C\")\n",
    "rev=rev.replace(\"U\",\"G\")\n",
    "print(rev)"
   ]
  },
  {
   "cell_type": "code",
   "execution_count": 16,
   "id": "0c69d125",
   "metadata": {
    "ExecuteTime": {
     "end_time": "2021-10-15T02:09:41.920305Z",
     "start_time": "2021-10-15T02:09:41.902338Z"
    },
    "collapsed": true
   },
   "outputs": [
    {
     "ename": "FileNotFoundError",
     "evalue": "[Errno 2] No such file or directory: '/Users/mauri/Downloads/rosalind_dna.txt'",
     "output_type": "error",
     "traceback": [
      "\u001b[1;31m---------------------------------------------------------------------------\u001b[0m",
      "\u001b[1;31mFileNotFoundError\u001b[0m                         Traceback (most recent call last)",
      "\u001b[1;32m~\\AppData\\Local\\Temp/ipykernel_10744/1237431354.py\u001b[0m in \u001b[0;36m<module>\u001b[1;34m\u001b[0m\n\u001b[0;32m      1\u001b[0m \u001b[0mcode\u001b[0m \u001b[1;33m=\u001b[0m \u001b[1;34m\"dna\"\u001b[0m\u001b[1;33m\u001b[0m\u001b[1;33m\u001b[0m\u001b[0m\n\u001b[0;32m      2\u001b[0m \u001b[1;33m\u001b[0m\u001b[0m\n\u001b[1;32m----> 3\u001b[1;33m \u001b[0mfile\u001b[0m\u001b[1;33m=\u001b[0m\u001b[0mread\u001b[0m\u001b[1;33m(\u001b[0m\u001b[0mcode\u001b[0m\u001b[1;33m)\u001b[0m\u001b[1;33m\u001b[0m\u001b[1;33m\u001b[0m\u001b[0m\n\u001b[0m\u001b[0;32m      4\u001b[0m \u001b[0mk\u001b[0m\u001b[1;33m=\u001b[0m\u001b[0mfile\u001b[0m\u001b[1;33m.\u001b[0m\u001b[0mread\u001b[0m\u001b[1;33m\u001b[0m\u001b[1;33m\u001b[0m\u001b[0m\n\u001b[0;32m      5\u001b[0m \u001b[0mprint\u001b[0m\u001b[1;33m(\u001b[0m\u001b[0mk\u001b[0m\u001b[1;33m.\u001b[0m\u001b[0mcount\u001b[0m\u001b[1;33m(\u001b[0m\u001b[1;34m\"A\"\u001b[0m\u001b[1;33m)\u001b[0m\u001b[1;33m)\u001b[0m\u001b[1;33m\u001b[0m\u001b[1;33m\u001b[0m\u001b[0m\n",
      "\u001b[1;32m~\\AppData\\Local\\Temp/ipykernel_10744/2526730883.py\u001b[0m in \u001b[0;36mread\u001b[1;34m(code)\u001b[0m\n\u001b[0;32m      1\u001b[0m \u001b[1;31m#This cell reads the file\u001b[0m\u001b[1;33m\u001b[0m\u001b[1;33m\u001b[0m\u001b[0m\n\u001b[0;32m      2\u001b[0m \u001b[1;32mdef\u001b[0m \u001b[0mread\u001b[0m\u001b[1;33m(\u001b[0m\u001b[0mcode\u001b[0m\u001b[1;33m)\u001b[0m\u001b[1;33m:\u001b[0m\u001b[1;33m\u001b[0m\u001b[1;33m\u001b[0m\u001b[0m\n\u001b[1;32m----> 3\u001b[1;33m     \u001b[0mfilein\u001b[0m\u001b[1;33m=\u001b[0m\u001b[0mopen\u001b[0m\u001b[1;33m(\u001b[0m\u001b[1;34m\"/Users/mauri/Downloads/rosalind_\"\u001b[0m\u001b[1;33m+\u001b[0m\u001b[0mcode\u001b[0m\u001b[1;33m+\u001b[0m\u001b[1;34m\".txt\"\u001b[0m\u001b[1;33m,\u001b[0m\u001b[1;34m\"r\"\u001b[0m\u001b[1;33m)\u001b[0m\u001b[1;33m\u001b[0m\u001b[1;33m\u001b[0m\u001b[0m\n\u001b[0m\u001b[0;32m      4\u001b[0m     \u001b[1;32mreturn\u001b[0m \u001b[0mfilein\u001b[0m\u001b[1;33m\u001b[0m\u001b[1;33m\u001b[0m\u001b[0m\n",
      "\u001b[1;31mFileNotFoundError\u001b[0m: [Errno 2] No such file or directory: '/Users/mauri/Downloads/rosalind_dna.txt'"
     ]
    }
   ],
   "source": [
    "code = \"dna\"\n",
    "\n",
    "file=read(code)\n",
    "k=file.read()\n",
    "print(k.count(\"A\"))\n",
    "print(k.count(\"C\"))\n",
    "print(k.count(\"G\"))\n",
    "print(k.count(\"T\"))"
   ]
  },
  {
   "cell_type": "code",
   "execution_count": 15,
   "id": "ff07b32c",
   "metadata": {
    "ExecuteTime": {
     "end_time": "2021-10-15T02:09:38.046492Z",
     "start_time": "2021-10-15T02:09:38.030536Z"
    },
    "collapsed": true
   },
   "outputs": [
    {
     "name": "stdout",
     "output_type": "stream",
     "text": [
      "AUGGUGCCGCGCCCUCAAAACUUACCCCUAGAGAUGGUCAAGCCCGUUUUGAACGGCGACUAUCCUUAUCAUCUUGACUUCAUCUGGGAUUAUCGAUCUACGUUAGUUAGUACCGAGAGGAAAGAUCGAGGGAGAGCAAGUUGCUUGGCGAGGGAUUUUGAGCCUCUAAAUUUACGGUCAUGAGAAGCGCCAGGUCAAUUCCAUUCCGAUGAGAAAGUACCAGUUACGCUGUAACCCCACGUCGUUAAUCACCCGCGAUUCGCCAUCAGCGAGCGAAUGUAAGCCGGCGAGGACCGAAAUUGGUGCUCAGGGCACGCGUCUAUGCGGUUGGAGGACGGUACGUGGUUAUACAAUCGGCCGUUAGAUAUUCCCCAUUCUACAGUGUGGUCGCAUGUACAGAAGCUGUUCCAUCAGCGAGGCCAAGGAGUGGGAAGUUAAGAAUUCACUCGCCGAACUGCUCGGGGGUCUACAAUUGGUCCGAUAAAUUAUCAGUUUUCAUAUAAAGGAGGCUCCACAAGUCUGAUGUUUGCUGCCUGCCCCAUCUCUCAGCACAUAGACUGUAACGAGCUUAAUGUAUAGCUCCCGCUUGGACAAUUACAUGAAGGGGCAGCCGCACCAUCGCAAUCAAGCACGGUGGAACCGUCCACGACGCCCUUGGGUGGAACAAGACGAUUGGAGACAUGAUUCCCACAACGCCGAGUCACGGUCGUGUUAUACACUGAGGAUACCAAGACCAGCAAGGAAGCGCUUUAAUCACUUUCGGCUCAUUAGACGAACCUGCAAGUAAAGGCCGUUCAGUCAGGCGUUAAUACAUUCAUGUGUUCGCGUGUUCCGUAUACGGAGUAGAUAAAGCCGACUGGUUCCAAGGUUACUAGCUGAUUUUCGCGACAUCCCGGUCUUGUACAAUACUUGCACUACCCUUGUGACGCAACACAGUGG\n",
      "\n"
     ]
    }
   ],
   "source": [
    "code = \"rna\"\n",
    "\n",
    "file=read(code)\n",
    "k=file.read()\n",
    "print(k.replace('T','U'))"
   ]
  },
  {
   "cell_type": "markdown",
   "id": "0907bf65",
   "metadata": {},
   "source": [
    "# Testing"
   ]
  },
  {
   "cell_type": "code",
   "execution_count": 6,
   "id": "05d813ec",
   "metadata": {},
   "outputs": [
    {
     "data": {
      "text/plain": [
       "0.7833333333333333"
      ]
     },
     "execution_count": 6,
     "metadata": {},
     "output_type": "execute_result"
    }
   ],
   "source": [
    "1-(3.25/15)"
   ]
  },
  {
   "cell_type": "markdown",
   "id": "bea60a30",
   "metadata": {},
   "source": [
    "### Specific Helper"
   ]
  },
  {
   "cell_type": "code",
   "execution_count": 128,
   "id": "df9ba723",
   "metadata": {},
   "outputs": [],
   "source": [
    "def reversecomp(rev):\n",
    "    UorT='T'\n",
    "    rev=rev.replace(UorT,\"X\")\n",
    "    rev=rev.replace(\"A\",UorT)\n",
    "    rev=rev.replace(\"X\",\"A\")\n",
    "    rev=rev.replace(\"C\",\"X\")\n",
    "    rev=rev.replace(\"G\",\"C\")\n",
    "    rev=rev.replace(\"X\",\"G\")\n",
    "    return rev[::-1]"
   ]
  },
  {
   "cell_type": "code",
   "execution_count": null,
   "id": "be736a52",
   "metadata": {},
   "outputs": [],
   "source": []
  }
 ],
 "metadata": {
  "kernelspec": {
   "display_name": "Python 3 (ipykernel)",
   "language": "python",
   "name": "python3"
  },
  "language_info": {
   "codemirror_mode": {
    "name": "ipython",
    "version": 3
   },
   "file_extension": ".py",
   "mimetype": "text/x-python",
   "name": "python",
   "nbconvert_exporter": "python",
   "pygments_lexer": "ipython3",
   "version": "3.9.1"
  }
 },
 "nbformat": 4,
 "nbformat_minor": 5
}
